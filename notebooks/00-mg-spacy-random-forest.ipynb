{
 "cells": [
  {
   "cell_type": "markdown",
   "metadata": {},
   "source": [
    "# Train a random-forest classifier\n",
    "\n",
    "Let's see how a random forest can learn to distinguish misogynistic\n",
    "speech from generic speech."
   ]
  },
  {
   "cell_type": "code",
   "execution_count": 1,
   "metadata": {
    "pycharm": {
     "is_executing": false
    }
   },
   "outputs": [],
   "source": [
    "import numpy as np\n",
    "import pandas as pd\n",
    "import spacy\n",
    "import matplotlib.pyplot as plt\n",
    "plt.style.use('ggplot')\n",
    "%matplotlib inline"
   ]
  },
  {
   "cell_type": "code",
   "execution_count": 2,
   "metadata": {
    "pycharm": {
     "is_executing": false
    }
   },
   "outputs": [],
   "source": [
    "from sklearn.decomposition import PCA\n",
    "from sklearn.ensemble import RandomForestClassifier\n",
    "from sklearn.model_selection import train_test_split\n",
    "from sklearn.metrics import auc, f1_score, confusion_matrix, roc_curve\n",
    "from sklearn.model_selection import GridSearchCV"
   ]
  },
  {
   "cell_type": "markdown",
   "metadata": {},
   "source": [
    "*Know more about Sci-kit learn: https://scikit-learn.org/stable/*"
   ]
  },
  {
   "cell_type": "markdown",
   "metadata": {},
   "source": [
    "### Load the data"
   ]
  },
  {
   "cell_type": "code",
   "execution_count": 3,
   "metadata": {
    "pycharm": {
     "is_executing": false
    }
   },
   "outputs": [],
   "source": [
    "df = pd.read_csv(\"../data/gold_data_en.csv\")"
   ]
  },
  {
   "cell_type": "code",
   "execution_count": 4,
   "metadata": {
    "pycharm": {
     "is_executing": false
    }
   },
   "outputs": [
    {
     "data": {
      "text/plain": [
       "(16265, 2)"
      ]
     },
     "execution_count": 4,
     "metadata": {},
     "output_type": "execute_result"
    }
   ],
   "source": [
    "df.shape"
   ]
  },
  {
   "cell_type": "code",
   "execution_count": 5,
   "metadata": {
    "pycharm": {
     "is_executing": false
    }
   },
   "outputs": [
    {
     "name": "stdout",
     "output_type": "stream",
     "text": [
      "<class 'pandas.core.frame.DataFrame'>\n",
      "RangeIndex: 16265 entries, 0 to 16264\n",
      "Data columns (total 2 columns):\n",
      "text     16265 non-null object\n",
      "label    16265 non-null int64\n",
      "dtypes: int64(1), object(1)\n",
      "memory usage: 254.2+ KB\n"
     ]
    }
   ],
   "source": [
    "df.info()"
   ]
  },
  {
   "cell_type": "markdown",
   "metadata": {},
   "source": [
    "### Train-test split\n",
    "\n",
    "It's important to split the data consistently\n",
    "so that we keep a 50/50 ratio both in training and test."
   ]
  },
  {
   "cell_type": "code",
   "execution_count": 6,
   "metadata": {
    "pycharm": {
     "is_executing": false
    }
   },
   "outputs": [],
   "source": [
    "df_train, df_test = train_test_split(\n",
    "            df,\n",
    "            train_size=.8,\n",
    "            shuffle=True,\n",
    "            stratify=df['label'].to_numpy(),\n",
    "            random_state=42,\n",
    "        )"
   ]
  },
  {
   "cell_type": "code",
   "execution_count": 7,
   "metadata": {
    "pycharm": {
     "is_executing": false
    }
   },
   "outputs": [
    {
     "data": {
      "text/plain": [
       "((13012, 2), (3253, 2))"
      ]
     },
     "execution_count": 7,
     "metadata": {},
     "output_type": "execute_result"
    }
   ],
   "source": [
    "df_train.shape, df_test.shape"
   ]
  },
  {
   "cell_type": "code",
   "execution_count": 8,
   "metadata": {},
   "outputs": [
    {
     "data": {
      "text/html": [
       "<div>\n",
       "<style scoped>\n",
       "    .dataframe tbody tr th:only-of-type {\n",
       "        vertical-align: middle;\n",
       "    }\n",
       "\n",
       "    .dataframe tbody tr th {\n",
       "        vertical-align: top;\n",
       "    }\n",
       "\n",
       "    .dataframe thead th {\n",
       "        text-align: right;\n",
       "    }\n",
       "</style>\n",
       "<table border=\"1\" class=\"dataframe\">\n",
       "  <thead>\n",
       "    <tr style=\"text-align: right;\">\n",
       "      <th></th>\n",
       "      <th>text</th>\n",
       "      <th>label</th>\n",
       "    </tr>\n",
       "  </thead>\n",
       "  <tbody>\n",
       "    <tr>\n",
       "      <th>12166</th>\n",
       "      <td>http://t.co/ZxbZV39jru: Our fluffy cat loves b...</td>\n",
       "      <td>0</td>\n",
       "    </tr>\n",
       "    <tr>\n",
       "      <th>2677</th>\n",
       "      <td>'Oh so when a man sleeps with lots of women he...</td>\n",
       "      <td>1</td>\n",
       "    </tr>\n",
       "    <tr>\n",
       "      <th>6229</th>\n",
       "      <td>@GavGordonToGo @lllllinda @anniemac63 @NicolaS...</td>\n",
       "      <td>0</td>\n",
       "    </tr>\n",
       "    <tr>\n",
       "      <th>6974</th>\n",
       "      <td>I’m a not a whore.</td>\n",
       "      <td>0</td>\n",
       "    </tr>\n",
       "    <tr>\n",
       "      <th>10528</th>\n",
       "      <td>@cisrabbit \"Loose\" was a Freudian reference...</td>\n",
       "      <td>1</td>\n",
       "    </tr>\n",
       "  </tbody>\n",
       "</table>\n",
       "</div>"
      ],
      "text/plain": [
       "                                                    text  label\n",
       "12166  http://t.co/ZxbZV39jru: Our fluffy cat loves b...      0\n",
       "2677   'Oh so when a man sleeps with lots of women he...      1\n",
       "6229   @GavGordonToGo @lllllinda @anniemac63 @NicolaS...      0\n",
       "6974                                  I’m a not a whore.      0\n",
       "10528     @cisrabbit \"Loose\" was a Freudian reference...      1"
      ]
     },
     "execution_count": 8,
     "metadata": {},
     "output_type": "execute_result"
    }
   ],
   "source": [
    "df_train.head()"
   ]
  },
  {
   "cell_type": "markdown",
   "metadata": {},
   "source": [
    "Let's check the class balance:"
   ]
  },
  {
   "cell_type": "code",
   "execution_count": 9,
   "metadata": {
    "pycharm": {
     "is_executing": false
    }
   },
   "outputs": [
    {
     "data": {
      "text/plain": [
       "(0.43175530279741775, 0.43160159852443897)"
      ]
     },
     "execution_count": 9,
     "metadata": {},
     "output_type": "execute_result"
    }
   ],
   "source": [
    "df_train['label'].mean(), df_test['label'].mean()"
   ]
  },
  {
   "cell_type": "markdown",
   "metadata": {},
   "source": [
    "### Balance classes\n",
    "\n",
    "To avoid bias (i.e. when an algorithm prefers one class to the other) we need to have an equal number of elements for each class."
   ]
  },
  {
   "cell_type": "code",
   "execution_count": 10,
   "metadata": {
    "pycharm": {
     "is_executing": false
    }
   },
   "outputs": [
    {
     "data": {
      "text/html": [
       "<div>\n",
       "<style scoped>\n",
       "    .dataframe tbody tr th:only-of-type {\n",
       "        vertical-align: middle;\n",
       "    }\n",
       "\n",
       "    .dataframe tbody tr th {\n",
       "        vertical-align: top;\n",
       "    }\n",
       "\n",
       "    .dataframe thead th {\n",
       "        text-align: right;\n",
       "    }\n",
       "</style>\n",
       "<table border=\"1\" class=\"dataframe\">\n",
       "  <thead>\n",
       "    <tr style=\"text-align: right;\">\n",
       "      <th></th>\n",
       "      <th>text</th>\n",
       "    </tr>\n",
       "    <tr>\n",
       "      <th>label</th>\n",
       "      <th></th>\n",
       "    </tr>\n",
       "  </thead>\n",
       "  <tbody>\n",
       "    <tr>\n",
       "      <th>0</th>\n",
       "      <td>7394</td>\n",
       "    </tr>\n",
       "    <tr>\n",
       "      <th>1</th>\n",
       "      <td>5618</td>\n",
       "    </tr>\n",
       "  </tbody>\n",
       "</table>\n",
       "</div>"
      ],
      "text/plain": [
       "       text\n",
       "label      \n",
       "0      7394\n",
       "1      5618"
      ]
     },
     "execution_count": 10,
     "metadata": {},
     "output_type": "execute_result"
    }
   ],
   "source": [
    "df_train.groupby('label').count()"
   ]
  },
  {
   "cell_type": "markdown",
   "metadata": {},
   "source": [
    "One can see here that we have a different number of elements for the two\n",
    "classes.\n",
    "Let's change that.\n",
    "First let's count the elements of the minority class."
   ]
  },
  {
   "cell_type": "code",
   "execution_count": 11,
   "metadata": {
    "pycharm": {
     "is_executing": false
    }
   },
   "outputs": [
    {
     "data": {
      "text/plain": [
       "5618"
      ]
     },
     "execution_count": 11,
     "metadata": {},
     "output_type": "execute_result"
    }
   ],
   "source": [
    "n_elements = min(df_train.groupby('label').count().to_numpy())[0]\n",
    "n_elements"
   ]
  },
  {
   "cell_type": "markdown",
   "metadata": {},
   "source": [
    "Then sample an equal number from the two classes."
   ]
  },
  {
   "cell_type": "code",
   "execution_count": 12,
   "metadata": {
    "pycharm": {
     "is_executing": false
    }
   },
   "outputs": [
    {
     "data": {
      "text/html": [
       "<div>\n",
       "<style scoped>\n",
       "    .dataframe tbody tr th:only-of-type {\n",
       "        vertical-align: middle;\n",
       "    }\n",
       "\n",
       "    .dataframe tbody tr th {\n",
       "        vertical-align: top;\n",
       "    }\n",
       "\n",
       "    .dataframe thead th {\n",
       "        text-align: right;\n",
       "    }\n",
       "</style>\n",
       "<table border=\"1\" class=\"dataframe\">\n",
       "  <thead>\n",
       "    <tr style=\"text-align: right;\">\n",
       "      <th></th>\n",
       "      <th>text</th>\n",
       "      <th>label</th>\n",
       "    </tr>\n",
       "  </thead>\n",
       "  <tbody>\n",
       "    <tr>\n",
       "      <th>11114</th>\n",
       "      <td>@SfordUponAvon equal opportunity #sexsells #MKR</td>\n",
       "      <td>1</td>\n",
       "    </tr>\n",
       "    <tr>\n",
       "      <th>10666</th>\n",
       "      <td>RT @Spainballin44 @B_Diddy010 I'm not sexist b...</td>\n",
       "      <td>1</td>\n",
       "    </tr>\n",
       "    <tr>\n",
       "      <th>2277</th>\n",
       "      <td>@HillaryClinton Why don’t you crawl back in yo...</td>\n",
       "      <td>1</td>\n",
       "    </tr>\n",
       "    <tr>\n",
       "      <th>8714</th>\n",
       "      <td>STFU KAT YA BITCH! #MKR</td>\n",
       "      <td>1</td>\n",
       "    </tr>\n",
       "    <tr>\n",
       "      <th>9992</th>\n",
       "      <td>RT @BigSmooth2 Not sexist, but females shouldn...</td>\n",
       "      <td>1</td>\n",
       "    </tr>\n",
       "  </tbody>\n",
       "</table>\n",
       "</div>"
      ],
      "text/plain": [
       "                                                    text  label\n",
       "11114    @SfordUponAvon equal opportunity #sexsells #MKR      1\n",
       "10666  RT @Spainballin44 @B_Diddy010 I'm not sexist b...      1\n",
       "2277   @HillaryClinton Why don’t you crawl back in yo...      1\n",
       "8714                             STFU KAT YA BITCH! #MKR      1\n",
       "9992   RT @BigSmooth2 Not sexist, but females shouldn...      1"
      ]
     },
     "execution_count": 12,
     "metadata": {},
     "output_type": "execute_result"
    }
   ],
   "source": [
    "df_positive = df_train[df_train['label']==1].sample(n_elements, random_state=42)\n",
    "df_positive.head()"
   ]
  },
  {
   "cell_type": "code",
   "execution_count": 13,
   "metadata": {
    "pycharm": {
     "is_executing": false
    }
   },
   "outputs": [
    {
     "data": {
      "text/html": [
       "<div>\n",
       "<style scoped>\n",
       "    .dataframe tbody tr th:only-of-type {\n",
       "        vertical-align: middle;\n",
       "    }\n",
       "\n",
       "    .dataframe tbody tr th {\n",
       "        vertical-align: top;\n",
       "    }\n",
       "\n",
       "    .dataframe thead th {\n",
       "        text-align: right;\n",
       "    }\n",
       "</style>\n",
       "<table border=\"1\" class=\"dataframe\">\n",
       "  <thead>\n",
       "    <tr style=\"text-align: right;\">\n",
       "      <th></th>\n",
       "      <th>text</th>\n",
       "      <th>label</th>\n",
       "    </tr>\n",
       "  </thead>\n",
       "  <tbody>\n",
       "    <tr>\n",
       "      <th>509</th>\n",
       "      <td>Me too is about rape and sexual assault, way t...</td>\n",
       "      <td>0</td>\n",
       "    </tr>\n",
       "    <tr>\n",
       "      <th>4805</th>\n",
       "      <td>@IssaRae Lmao this bitch got no clue what shes...</td>\n",
       "      <td>0</td>\n",
       "    </tr>\n",
       "    <tr>\n",
       "      <th>13199</th>\n",
       "      <td>@Sir5000 @StormsOnSaturn no. something went aw...</td>\n",
       "      <td>0</td>\n",
       "    </tr>\n",
       "    <tr>\n",
       "      <th>16214</th>\n",
       "      <td>You don't suck Sheri and Emilie #DontLetTheBeh...</td>\n",
       "      <td>0</td>\n",
       "    </tr>\n",
       "    <tr>\n",
       "      <th>14436</th>\n",
       "      <td>Kat, karma is going to kick you in the arse. #...</td>\n",
       "      <td>0</td>\n",
       "    </tr>\n",
       "  </tbody>\n",
       "</table>\n",
       "</div>"
      ],
      "text/plain": [
       "                                                    text  label\n",
       "509    Me too is about rape and sexual assault, way t...      0\n",
       "4805   @IssaRae Lmao this bitch got no clue what shes...      0\n",
       "13199  @Sir5000 @StormsOnSaturn no. something went aw...      0\n",
       "16214  You don't suck Sheri and Emilie #DontLetTheBeh...      0\n",
       "14436  Kat, karma is going to kick you in the arse. #...      0"
      ]
     },
     "execution_count": 13,
     "metadata": {},
     "output_type": "execute_result"
    }
   ],
   "source": [
    "df_negative = df_train[df_train['label']==0].sample(n_elements, random_state=42)\n",
    "df_negative.head()"
   ]
  },
  {
   "cell_type": "code",
   "execution_count": 14,
   "metadata": {
    "pycharm": {
     "is_executing": false
    }
   },
   "outputs": [
    {
     "data": {
      "text/html": [
       "<div>\n",
       "<style scoped>\n",
       "    .dataframe tbody tr th:only-of-type {\n",
       "        vertical-align: middle;\n",
       "    }\n",
       "\n",
       "    .dataframe tbody tr th {\n",
       "        vertical-align: top;\n",
       "    }\n",
       "\n",
       "    .dataframe thead th {\n",
       "        text-align: right;\n",
       "    }\n",
       "</style>\n",
       "<table border=\"1\" class=\"dataframe\">\n",
       "  <thead>\n",
       "    <tr style=\"text-align: right;\">\n",
       "      <th></th>\n",
       "      <th>text</th>\n",
       "      <th>label</th>\n",
       "    </tr>\n",
       "  </thead>\n",
       "  <tbody>\n",
       "    <tr>\n",
       "      <th>0</th>\n",
       "      <td>Me too is about rape and sexual assault, way t...</td>\n",
       "      <td>0</td>\n",
       "    </tr>\n",
       "    <tr>\n",
       "      <th>1</th>\n",
       "      <td>@IssaRae Lmao this bitch got no clue what shes...</td>\n",
       "      <td>0</td>\n",
       "    </tr>\n",
       "    <tr>\n",
       "      <th>2</th>\n",
       "      <td>@Sir5000 @StormsOnSaturn no. something went aw...</td>\n",
       "      <td>0</td>\n",
       "    </tr>\n",
       "    <tr>\n",
       "      <th>3</th>\n",
       "      <td>You don't suck Sheri and Emilie #DontLetTheBeh...</td>\n",
       "      <td>0</td>\n",
       "    </tr>\n",
       "    <tr>\n",
       "      <th>4</th>\n",
       "      <td>Kat, karma is going to kick you in the arse. #...</td>\n",
       "      <td>0</td>\n",
       "    </tr>\n",
       "    <tr>\n",
       "      <th>5</th>\n",
       "      <td>Any Bitch can start a war, it takes courage to...</td>\n",
       "      <td>0</td>\n",
       "    </tr>\n",
       "    <tr>\n",
       "      <th>6</th>\n",
       "      <td>@JessicaValenti Uh huh.\\n\\nLavinia Woodward ex...</td>\n",
       "      <td>0</td>\n",
       "    </tr>\n",
       "    <tr>\n",
       "      <th>7</th>\n",
       "      <td>who the fuck is calling my girl a whore and a ...</td>\n",
       "      <td>0</td>\n",
       "    </tr>\n",
       "    <tr>\n",
       "      <th>8</th>\n",
       "      <td>Let’s not let the hard won victories of the la...</td>\n",
       "      <td>0</td>\n",
       "    </tr>\n",
       "    <tr>\n",
       "      <th>9</th>\n",
       "      <td>Who is good at maths? What do they need to be ...</td>\n",
       "      <td>0</td>\n",
       "    </tr>\n",
       "    <tr>\n",
       "      <th>10</th>\n",
       "      <td>I'm gonna put that SC butterfly filter around ...</td>\n",
       "      <td>0</td>\n",
       "    </tr>\n",
       "    <tr>\n",
       "      <th>11</th>\n",
       "      <td>@roisin_morgan @RaniaKhalek And why do you ign...</td>\n",
       "      <td>0</td>\n",
       "    </tr>\n",
       "    <tr>\n",
       "      <th>12</th>\n",
       "      <td>Above all else, Trump is a stupid son of a bit...</td>\n",
       "      <td>0</td>\n",
       "    </tr>\n",
       "    <tr>\n",
       "      <th>13</th>\n",
       "      <td>Best gift ever 😘 https://t.co/xdZL6RVWLU</td>\n",
       "      <td>0</td>\n",
       "    </tr>\n",
       "    <tr>\n",
       "      <th>14</th>\n",
       "      <td>Not all men are trash just the ones who bash b...</td>\n",
       "      <td>0</td>\n",
       "    </tr>\n",
       "    <tr>\n",
       "      <th>15</th>\n",
       "      <td>@IsaNamee @Maureen6Johnson @The_Flufter @dj_fo...</td>\n",
       "      <td>0</td>\n",
       "    </tr>\n",
       "    <tr>\n",
       "      <th>16</th>\n",
       "      <td>If you say not all men to me you're getting bl...</td>\n",
       "      <td>0</td>\n",
       "    </tr>\n",
       "    <tr>\n",
       "      <th>17</th>\n",
       "      <td>@damocrat That along with being a dirty traito...</td>\n",
       "      <td>0</td>\n",
       "    </tr>\n",
       "    <tr>\n",
       "      <th>18</th>\n",
       "      <td>@hnrysmth @jeremiahfelt uh. one of his faceboo...</td>\n",
       "      <td>0</td>\n",
       "    </tr>\n",
       "    <tr>\n",
       "      <th>19</th>\n",
       "      <td>@RonWyden Talking about hysterical women, you'...</td>\n",
       "      <td>0</td>\n",
       "    </tr>\n",
       "    <tr>\n",
       "      <th>20</th>\n",
       "      <td>http://t.co/Lv87HxpP9H\\n\\nthe most bullshit te...</td>\n",
       "      <td>0</td>\n",
       "    </tr>\n",
       "    <tr>\n",
       "      <th>21</th>\n",
       "      <td>@Jules_Clarke @jmcefalas has more emotional im...</td>\n",
       "      <td>0</td>\n",
       "    </tr>\n",
       "    <tr>\n",
       "      <th>22</th>\n",
       "      <td>@nevsprada @jezbel45 @MrBucksboy @carmic3 @Nic...</td>\n",
       "      <td>0</td>\n",
       "    </tr>\n",
       "    <tr>\n",
       "      <th>23</th>\n",
       "      <td>Pepperidge farm remembers.</td>\n",
       "      <td>0</td>\n",
       "    </tr>\n",
       "    <tr>\n",
       "      <th>24</th>\n",
       "      <td>@Mello_Mark And God said, \"Don't pay them a li...</td>\n",
       "      <td>0</td>\n",
       "    </tr>\n",
       "    <tr>\n",
       "      <th>25</th>\n",
       "      <td>@cheeseplus I will forward chef all the dickpi...</td>\n",
       "      <td>0</td>\n",
       "    </tr>\n",
       "    <tr>\n",
       "      <th>26</th>\n",
       "      <td>When you're out to dinner but you wanna make s...</td>\n",
       "      <td>0</td>\n",
       "    </tr>\n",
       "    <tr>\n",
       "      <th>27</th>\n",
       "      <td>@Not_Rosi It is... she's a dirty race traitor 😒</td>\n",
       "      <td>0</td>\n",
       "    </tr>\n",
       "    <tr>\n",
       "      <th>28</th>\n",
       "      <td>RT @cheuya: If turned off by a woman performin...</td>\n",
       "      <td>0</td>\n",
       "    </tr>\n",
       "    <tr>\n",
       "      <th>29</th>\n",
       "      <td>@athenahollow it would. i'm hoping for more pe...</td>\n",
       "      <td>0</td>\n",
       "    </tr>\n",
       "    <tr>\n",
       "      <th>...</th>\n",
       "      <td>...</td>\n",
       "      <td>...</td>\n",
       "    </tr>\n",
       "    <tr>\n",
       "      <th>11206</th>\n",
       "      <td>@mykitchenrules I think the pink has gone to t...</td>\n",
       "      <td>1</td>\n",
       "    </tr>\n",
       "    <tr>\n",
       "      <th>11207</th>\n",
       "      <td>RT @LostSailorNY: @AlMartin2000 @MT8_9 @robscr...</td>\n",
       "      <td>1</td>\n",
       "    </tr>\n",
       "    <tr>\n",
       "      <th>11208</th>\n",
       "      <td>What a stupid cunt https://t.co/Wv1rVaId2D</td>\n",
       "      <td>1</td>\n",
       "    </tr>\n",
       "    <tr>\n",
       "      <th>11209</th>\n",
       "      <td>Kat is actually a bitch, but I had to laugh at...</td>\n",
       "      <td>1</td>\n",
       "    </tr>\n",
       "    <tr>\n",
       "      <th>11210</th>\n",
       "      <td>@thehill @Framechick2 Gaetz is an underhanded ...</td>\n",
       "      <td>1</td>\n",
       "    </tr>\n",
       "    <tr>\n",
       "      <th>11211</th>\n",
       "      <td>Girls claiming they're hot generally have an o...</td>\n",
       "      <td>1</td>\n",
       "    </tr>\n",
       "    <tr>\n",
       "      <th>11212</th>\n",
       "      <td>@idesequera I dozed off and missed #mkr let me...</td>\n",
       "      <td>1</td>\n",
       "    </tr>\n",
       "    <tr>\n",
       "      <th>11213</th>\n",
       "      <td>@jbouie This is a corollary of women being “hy...</td>\n",
       "      <td>1</td>\n",
       "    </tr>\n",
       "    <tr>\n",
       "      <th>11214</th>\n",
       "      <td>@KachoArinoDesu @Bananaramble Make a new damn ...</td>\n",
       "      <td>1</td>\n",
       "    </tr>\n",
       "    <tr>\n",
       "      <th>11215</th>\n",
       "      <td>@DeeSmokingGas I care , fuck that stupid bitch...</td>\n",
       "      <td>1</td>\n",
       "    </tr>\n",
       "    <tr>\n",
       "      <th>11216</th>\n",
       "      <td>Being a #Feminist is different from being a #F...</td>\n",
       "      <td>1</td>\n",
       "    </tr>\n",
       "    <tr>\n",
       "      <th>11217</th>\n",
       "      <td>@__JohnMarston__ @ZvNovaZv @TheFailgameTv If y...</td>\n",
       "      <td>1</td>\n",
       "    </tr>\n",
       "    <tr>\n",
       "      <th>11218</th>\n",
       "      <td>@joeovies @lebrownlow Someone tell the hysteri...</td>\n",
       "      <td>1</td>\n",
       "    </tr>\n",
       "    <tr>\n",
       "      <th>11219</th>\n",
       "      <td>Do Kat &amp;amp; Andre have any shame or integrity...</td>\n",
       "      <td>1</td>\n",
       "    </tr>\n",
       "    <tr>\n",
       "      <th>11220</th>\n",
       "      <td>@MacKirstys @glamadelaide but I thought femina...</td>\n",
       "      <td>1</td>\n",
       "    </tr>\n",
       "    <tr>\n",
       "      <th>11221</th>\n",
       "      <td>If I was a woman I would probably be a hoe lol...</td>\n",
       "      <td>1</td>\n",
       "    </tr>\n",
       "    <tr>\n",
       "      <th>11222</th>\n",
       "      <td>Why do women have periods? Because they deserv...</td>\n",
       "      <td>1</td>\n",
       "    </tr>\n",
       "    <tr>\n",
       "      <th>11223</th>\n",
       "      <td>RT @Kristi_Thinks: \"Rape by Fraud\" Feminazi St...</td>\n",
       "      <td>1</td>\n",
       "    </tr>\n",
       "    <tr>\n",
       "      <th>11224</th>\n",
       "      <td>RT @uberfeminist: Did anybody get glass in the...</td>\n",
       "      <td>1</td>\n",
       "    </tr>\n",
       "    <tr>\n",
       "      <th>11225</th>\n",
       "      <td>1 2 hide your boo, 3 4 lars coming thru the do...</td>\n",
       "      <td>1</td>\n",
       "    </tr>\n",
       "    <tr>\n",
       "      <th>11226</th>\n",
       "      <td>RT @clifty04 Now I'm not sexist, but it's evid...</td>\n",
       "      <td>1</td>\n",
       "    </tr>\n",
       "    <tr>\n",
       "      <th>11227</th>\n",
       "      <td>I keep seeing the dyke with weave tweet and ca...</td>\n",
       "      <td>1</td>\n",
       "    </tr>\n",
       "    <tr>\n",
       "      <th>11228</th>\n",
       "      <td>Watch this video about the big corps that are ...</td>\n",
       "      <td>1</td>\n",
       "    </tr>\n",
       "    <tr>\n",
       "      <th>11229</th>\n",
       "      <td>RT @andythewookie1: @YesYoureSexist your right...</td>\n",
       "      <td>1</td>\n",
       "    </tr>\n",
       "    <tr>\n",
       "      <th>11230</th>\n",
       "      <td>Kat should be eliminated for bad sportsmanship...</td>\n",
       "      <td>1</td>\n",
       "    </tr>\n",
       "    <tr>\n",
       "      <th>11231</th>\n",
       "      <td>@Nath569 Get up and walk the dog you little cu...</td>\n",
       "      <td>1</td>\n",
       "    </tr>\n",
       "    <tr>\n",
       "      <th>11232</th>\n",
       "      <td>Can't even get a p-value on your sample size. ...</td>\n",
       "      <td>1</td>\n",
       "    </tr>\n",
       "    <tr>\n",
       "      <th>11233</th>\n",
       "      <td>Im so glad I make more money because I'm an a ...</td>\n",
       "      <td>1</td>\n",
       "    </tr>\n",
       "    <tr>\n",
       "      <th>11234</th>\n",
       "      <td>If I had one bitch shit would b all coo I woul...</td>\n",
       "      <td>1</td>\n",
       "    </tr>\n",
       "    <tr>\n",
       "      <th>11235</th>\n",
       "      <td>RT @BJDGAF I'm not sexist, but girls shouldn't...</td>\n",
       "      <td>1</td>\n",
       "    </tr>\n",
       "  </tbody>\n",
       "</table>\n",
       "<p>11236 rows × 2 columns</p>\n",
       "</div>"
      ],
      "text/plain": [
       "                                                    text  label\n",
       "0      Me too is about rape and sexual assault, way t...      0\n",
       "1      @IssaRae Lmao this bitch got no clue what shes...      0\n",
       "2      @Sir5000 @StormsOnSaturn no. something went aw...      0\n",
       "3      You don't suck Sheri and Emilie #DontLetTheBeh...      0\n",
       "4      Kat, karma is going to kick you in the arse. #...      0\n",
       "5      Any Bitch can start a war, it takes courage to...      0\n",
       "6      @JessicaValenti Uh huh.\\n\\nLavinia Woodward ex...      0\n",
       "7      who the fuck is calling my girl a whore and a ...      0\n",
       "8      Let’s not let the hard won victories of the la...      0\n",
       "9      Who is good at maths? What do they need to be ...      0\n",
       "10     I'm gonna put that SC butterfly filter around ...      0\n",
       "11     @roisin_morgan @RaniaKhalek And why do you ign...      0\n",
       "12     Above all else, Trump is a stupid son of a bit...      0\n",
       "13              Best gift ever 😘 https://t.co/xdZL6RVWLU      0\n",
       "14     Not all men are trash just the ones who bash b...      0\n",
       "15     @IsaNamee @Maureen6Johnson @The_Flufter @dj_fo...      0\n",
       "16     If you say not all men to me you're getting bl...      0\n",
       "17     @damocrat That along with being a dirty traito...      0\n",
       "18     @hnrysmth @jeremiahfelt uh. one of his faceboo...      0\n",
       "19     @RonWyden Talking about hysterical women, you'...      0\n",
       "20     http://t.co/Lv87HxpP9H\\n\\nthe most bullshit te...      0\n",
       "21     @Jules_Clarke @jmcefalas has more emotional im...      0\n",
       "22     @nevsprada @jezbel45 @MrBucksboy @carmic3 @Nic...      0\n",
       "23                            Pepperidge farm remembers.      0\n",
       "24     @Mello_Mark And God said, \"Don't pay them a li...      0\n",
       "25     @cheeseplus I will forward chef all the dickpi...      0\n",
       "26     When you're out to dinner but you wanna make s...      0\n",
       "27       @Not_Rosi It is... she's a dirty race traitor 😒      0\n",
       "28     RT @cheuya: If turned off by a woman performin...      0\n",
       "29     @athenahollow it would. i'm hoping for more pe...      0\n",
       "...                                                  ...    ...\n",
       "11206  @mykitchenrules I think the pink has gone to t...      1\n",
       "11207  RT @LostSailorNY: @AlMartin2000 @MT8_9 @robscr...      1\n",
       "11208         What a stupid cunt https://t.co/Wv1rVaId2D      1\n",
       "11209  Kat is actually a bitch, but I had to laugh at...      1\n",
       "11210  @thehill @Framechick2 Gaetz is an underhanded ...      1\n",
       "11211  Girls claiming they're hot generally have an o...      1\n",
       "11212  @idesequera I dozed off and missed #mkr let me...      1\n",
       "11213  @jbouie This is a corollary of women being “hy...      1\n",
       "11214  @KachoArinoDesu @Bananaramble Make a new damn ...      1\n",
       "11215  @DeeSmokingGas I care , fuck that stupid bitch...      1\n",
       "11216  Being a #Feminist is different from being a #F...      1\n",
       "11217  @__JohnMarston__ @ZvNovaZv @TheFailgameTv If y...      1\n",
       "11218  @joeovies @lebrownlow Someone tell the hysteri...      1\n",
       "11219  Do Kat &amp; Andre have any shame or integrity...      1\n",
       "11220  @MacKirstys @glamadelaide but I thought femina...      1\n",
       "11221  If I was a woman I would probably be a hoe lol...      1\n",
       "11222  Why do women have periods? Because they deserv...      1\n",
       "11223  RT @Kristi_Thinks: \"Rape by Fraud\" Feminazi St...      1\n",
       "11224  RT @uberfeminist: Did anybody get glass in the...      1\n",
       "11225  1 2 hide your boo, 3 4 lars coming thru the do...      1\n",
       "11226  RT @clifty04 Now I'm not sexist, but it's evid...      1\n",
       "11227  I keep seeing the dyke with weave tweet and ca...      1\n",
       "11228  Watch this video about the big corps that are ...      1\n",
       "11229  RT @andythewookie1: @YesYoureSexist your right...      1\n",
       "11230  Kat should be eliminated for bad sportsmanship...      1\n",
       "11231  @Nath569 Get up and walk the dog you little cu...      1\n",
       "11232  Can't even get a p-value on your sample size. ...      1\n",
       "11233  Im so glad I make more money because I'm an a ...      1\n",
       "11234  If I had one bitch shit would b all coo I woul...      1\n",
       "11235  RT @BJDGAF I'm not sexist, but girls shouldn't...      1\n",
       "\n",
       "[11236 rows x 2 columns]"
      ]
     },
     "execution_count": 14,
     "metadata": {},
     "output_type": "execute_result"
    }
   ],
   "source": [
    "df_balanced = pd.concat((df_negative, df_positive)).reset_index(drop=True)\n",
    "df_balanced"
   ]
  },
  {
   "cell_type": "markdown",
   "metadata": {},
   "source": [
    "We store the balanced data in the original dataframe."
   ]
  },
  {
   "cell_type": "code",
   "execution_count": 15,
   "metadata": {
    "pycharm": {
     "is_executing": false
    }
   },
   "outputs": [],
   "source": [
    "df_train = df_balanced"
   ]
  },
  {
   "cell_type": "code",
   "execution_count": 16,
   "metadata": {},
   "outputs": [
    {
     "data": {
      "text/plain": [
       "0.5"
      ]
     },
     "execution_count": 16,
     "metadata": {},
     "output_type": "execute_result"
    }
   ],
   "source": [
    "df_train['label'].mean()"
   ]
  },
  {
   "cell_type": "markdown",
   "metadata": {},
   "source": [
    "### Load language model"
   ]
  },
  {
   "cell_type": "markdown",
   "metadata": {},
   "source": [
    "Now let's create the Spacy NLP documents from our text data.\n",
    "\n",
    "First we need to load the language model."
   ]
  },
  {
   "cell_type": "code",
   "execution_count": 17,
   "metadata": {
    "pycharm": {
     "is_executing": false
    }
   },
   "outputs": [],
   "source": [
    "nlp = spacy.load(\"en_core_web_md\")"
   ]
  },
  {
   "cell_type": "code",
   "execution_count": 18,
   "metadata": {
    "pycharm": {
     "is_executing": false
    }
   },
   "outputs": [],
   "source": [
    "# The .pipe() method batch processes all the text (will take a little while)\n",
    "docs = list(nlp.pipe(df_train['text']))"
   ]
  },
  {
   "cell_type": "markdown",
   "metadata": {},
   "source": [
    "### Vectors visualization\n",
    "\n",
    "Here we take the document vectors from Spacy."
   ]
  },
  {
   "cell_type": "code",
   "execution_count": 19,
   "metadata": {
    "pycharm": {
     "is_executing": false
    }
   },
   "outputs": [],
   "source": [
    "vector_matrix = np.array(list(map(lambda x: x.vector, docs)))"
   ]
  },
  {
   "cell_type": "code",
   "execution_count": 20,
   "metadata": {
    "pycharm": {
     "is_executing": false
    }
   },
   "outputs": [
    {
     "data": {
      "text/plain": [
       "(11236, 300)"
      ]
     },
     "execution_count": 20,
     "metadata": {},
     "output_type": "execute_result"
    }
   ],
   "source": [
    "vector_matrix.shape"
   ]
  },
  {
   "cell_type": "markdown",
   "metadata": {},
   "source": [
    "We use PCA to project the vectors to their principal components."
   ]
  },
  {
   "cell_type": "code",
   "execution_count": 21,
   "metadata": {
    "pycharm": {
     "is_executing": false
    }
   },
   "outputs": [],
   "source": [
    "pca = PCA(2)"
   ]
  },
  {
   "cell_type": "code",
   "execution_count": 22,
   "metadata": {
    "pycharm": {
     "is_executing": false
    }
   },
   "outputs": [],
   "source": [
    "x_pca = pca.fit_transform(vector_matrix)"
   ]
  },
  {
   "cell_type": "code",
   "execution_count": 23,
   "metadata": {
    "pycharm": {
     "is_executing": false
    }
   },
   "outputs": [
    {
     "data": {
      "text/plain": [
       "(11236, 2)"
      ]
     },
     "execution_count": 23,
     "metadata": {},
     "output_type": "execute_result"
    }
   ],
   "source": [
    "x_pca.shape"
   ]
  },
  {
   "cell_type": "code",
   "execution_count": 25,
   "metadata": {
    "pycharm": {
     "is_executing": false
    }
   },
   "outputs": [
    {
     "data": {
      "image/png": "[encoded data removed]",
      "text/plain": [
       "<Figure size 432x288 with 2 Axes>"
      ]
     },
     "metadata": {
      "needs_background": "light"
     },
     "output_type": "display_data"
    }
   ],
   "source": [
    "plt.scatter(x_pca[:, 0], x_pca[:, 1], c=df_train['label'].tolist(), alpha=.05, cmap='rainbow');\n",
    "plt.colorbar();"
   ]
  },
  {
   "cell_type": "markdown",
   "metadata": {},
   "source": [
    "## Random forest classifier\n",
    "\n",
    "The random forest algorithm is a pretty versatile one and generally\n",
    "performs well.\n",
    "Let's use the default parameters with just one change:\n",
    "we'll use 100 trees."
   ]
  },
  {
   "cell_type": "code",
   "execution_count": 26,
   "metadata": {
    "pycharm": {
     "is_executing": false
    }
   },
   "outputs": [],
   "source": [
    "rf = RandomForestClassifier(n_estimators=100, n_jobs=-1)"
   ]
  },
  {
   "cell_type": "markdown",
   "metadata": {},
   "source": [
    "And now we fit the model:"
   ]
  },
  {
   "cell_type": "code",
   "execution_count": 27,
   "metadata": {},
   "outputs": [],
   "source": [
    "x_train = vector_matrix\n",
    "y_train = df_train['label'].to_numpy()"
   ]
  },
  {
   "cell_type": "code",
   "execution_count": 28,
   "metadata": {
    "pycharm": {
     "is_executing": false
    },
    "scrolled": false
   },
   "outputs": [
    {
     "data": {
      "text/plain": [
       "RandomForestClassifier(bootstrap=True, class_weight=None, criterion='gini',\n",
       "                       max_depth=None, max_features='auto', max_leaf_nodes=None,\n",
       "                       min_impurity_decrease=0.0, min_impurity_split=None,\n",
       "                       min_samples_leaf=1, min_samples_split=2,\n",
       "                       min_weight_fraction_leaf=0.0, n_estimators=100,\n",
       "                       n_jobs=-1, oob_score=False, random_state=None, verbose=0,\n",
       "                       warm_start=False)"
      ]
     },
     "execution_count": 28,
     "metadata": {},
     "output_type": "execute_result"
    }
   ],
   "source": [
    "rf.fit(x_train, y_train)"
   ]
  },
  {
   "cell_type": "markdown",
   "metadata": {},
   "source": [
    "Let's try the fitted model on the test set:"
   ]
  },
  {
   "cell_type": "code",
   "execution_count": 29,
   "metadata": {},
   "outputs": [],
   "source": [
    "x_test = np.array(list(map(lambda x: x.vector, nlp.pipe(df_test['text']))))"
   ]
  },
  {
   "cell_type": "code",
   "execution_count": 30,
   "metadata": {
    "pycharm": {
     "is_executing": false
    }
   },
   "outputs": [],
   "source": [
    "y_pred = rf.predict(x_test)"
   ]
  },
  {
   "cell_type": "markdown",
   "metadata": {},
   "source": [
    "We can also extract probabilities.\n",
    "The [1,0] prediction can always be recomputed\n",
    "from the probabilities, knowing that the prediction is 1 when\n",
    "the probability > 0.5 and 0 otherwise."
   ]
  },
  {
   "cell_type": "code",
   "execution_count": 31,
   "metadata": {
    "pycharm": {
     "is_executing": false
    }
   },
   "outputs": [],
   "source": [
    "y_proba = rf.predict_proba(x_test)"
   ]
  },
  {
   "cell_type": "markdown",
   "metadata": {},
   "source": [
    "There are several metrics to evaluate the performance of the model.\n",
    "Common ones include the F1-score, the confusion matrix,\n",
    "the ROC curve, and the area under the ROC curve (AUC)."
   ]
  },
  {
   "cell_type": "code",
   "execution_count": 32,
   "metadata": {},
   "outputs": [],
   "source": [
    "y_test = df_test['label'].to_numpy()"
   ]
  },
  {
   "cell_type": "code",
   "execution_count": 33,
   "metadata": {
    "pycharm": {
     "is_executing": false
    }
   },
   "outputs": [
    {
     "data": {
      "text/plain": [
       "0.6968066020810907"
      ]
     },
     "execution_count": 33,
     "metadata": {},
     "output_type": "execute_result"
    }
   ],
   "source": [
    "f1_score(y_test, y_pred)"
   ]
  },
  {
   "cell_type": "markdown",
   "metadata": {},
   "source": [
    "Let's check what we get from the training data, just for fun:"
   ]
  },
  {
   "cell_type": "code",
   "execution_count": 34,
   "metadata": {
    "pycharm": {
     "is_executing": false
    }
   },
   "outputs": [
    {
     "data": {
      "text/plain": [
       "0.9988424895378863"
      ]
     },
     "execution_count": 34,
     "metadata": {},
     "output_type": "execute_result"
    }
   ],
   "source": [
    "f1_score(y_train, rf.predict(x_train))"
   ]
  },
  {
   "cell_type": "markdown",
   "metadata": {},
   "source": [
    "This is a very high value, which is expected since the training data has been used to train the model.\n",
    "\n",
    "Let's look at what the prediction arrays look like."
   ]
  },
  {
   "cell_type": "code",
   "execution_count": 35,
   "metadata": {
    "pycharm": {
     "is_executing": false
    }
   },
   "outputs": [
    {
     "data": {
      "text/plain": [
       "array([1, 1, 1, ..., 0, 0, 1])"
      ]
     },
     "execution_count": 35,
     "metadata": {},
     "output_type": "execute_result"
    }
   ],
   "source": [
    "y_pred"
   ]
  },
  {
   "cell_type": "code",
   "execution_count": 36,
   "metadata": {
    "pycharm": {
     "is_executing": false
    }
   },
   "outputs": [
    {
     "data": {
      "text/plain": [
       "array([[0.2   , 0.8   ],\n",
       "       [0.27  , 0.73  ],\n",
       "       [0.42  , 0.58  ],\n",
       "       ...,\n",
       "       [0.71  , 0.29  ],\n",
       "       [0.6475, 0.3525],\n",
       "       [0.29  , 0.71  ]])"
      ]
     },
     "execution_count": 36,
     "metadata": {},
     "output_type": "execute_result"
    }
   ],
   "source": [
    "y_proba"
   ]
  },
  {
   "cell_type": "markdown",
   "metadata": {},
   "source": [
    "`y_proba` contains two columns, the first is the probability for class 0, the second is the probability\n",
    "for class 1."
   ]
  },
  {
   "cell_type": "code",
   "execution_count": 37,
   "metadata": {
    "pycharm": {
     "is_executing": false
    }
   },
   "outputs": [],
   "source": [
    "def plot_roc_auc_f1(y_test, y_proba, title=None):\n",
    "    # This is a convenience function that takes care of boring stuff\n",
    "    f1 = f1_score(y_test, y_proba[:, 1]>.5)\n",
    "    fpr, tpr, _ = roc_curve(y_test, y_proba[:, 1])\n",
    "    auc_score = auc(fpr, tpr)\n",
    "    fig, ax = plt.subplots(figsize=(6,6))\n",
    "    if title is not None:\n",
    "        ax.set_title(title)\n",
    "    ax.plot([0, 1], [0, 1], '--', label=\"Random\")\n",
    "    ax.plot(fpr, tpr, label=\"Your model\")\n",
    "    ax.set_xlabel(\"False positive rate\")\n",
    "    ax.set_ylabel(\"True positive rate\")\n",
    "    ax.annotate(f\"AUC: {auc_score:.4}\", (.8, 0.15))\n",
    "    ax.annotate(f\"F1: {f1:.4}\", (.8, 0.1))\n",
    "    ax.legend()\n",
    "    return f1, auc_score"
   ]
  },
  {
   "cell_type": "markdown",
   "metadata": {},
   "source": [
    "### ROC curve"
   ]
  },
  {
   "cell_type": "code",
   "execution_count": 38,
   "metadata": {
    "pycharm": {
     "is_executing": false
    }
   },
   "outputs": [
    {
     "data": {
      "image/png": "[encoded data removed]",
      "text/plain": [
       "<Figure size 432x432 with 1 Axes>"
      ]
     },
     "metadata": {
      "needs_background": "light"
     },
     "output_type": "display_data"
    }
   ],
   "source": [
    "f1, auc_score = plot_roc_auc_f1(y_test, y_proba);"
   ]
  },
  {
   "cell_type": "markdown",
   "metadata": {},
   "source": [
    "The straight line is equivalent to the performance of a random classifier.\n",
    "The further away from it, the better.\n",
    "The curve looks quite good and the given AUC is a decent value."
   ]
  },
  {
   "cell_type": "markdown",
   "metadata": {},
   "source": [
    "### F1-score, AUC"
   ]
  },
  {
   "cell_type": "code",
   "execution_count": 39,
   "metadata": {
    "pycharm": {
     "is_executing": false
    }
   },
   "outputs": [
    {
     "data": {
      "text/plain": [
       "(0.6968066020810907, 0.8218236853985907)"
      ]
     },
     "execution_count": 39,
     "metadata": {},
     "output_type": "execute_result"
    }
   ],
   "source": [
    "f1, auc_score"
   ]
  },
  {
   "cell_type": "markdown",
   "metadata": {},
   "source": [
    "The number of feature equals the length of the word vectors:"
   ]
  },
  {
   "cell_type": "code",
   "execution_count": 40,
   "metadata": {
    "pycharm": {
     "is_executing": false
    }
   },
   "outputs": [
    {
     "data": {
      "text/plain": [
       "300"
      ]
     },
     "execution_count": 40,
     "metadata": {},
     "output_type": "execute_result"
    }
   ],
   "source": [
    "rf.n_features_"
   ]
  },
  {
   "cell_type": "markdown",
   "metadata": {},
   "source": [
    "### A closer look at the predictions"
   ]
  },
  {
   "cell_type": "code",
   "execution_count": 41,
   "metadata": {
    "pycharm": {
     "is_executing": false
    }
   },
   "outputs": [
    {
     "data": {
      "text/plain": [
       "(11236, 2)"
      ]
     },
     "execution_count": 41,
     "metadata": {},
     "output_type": "execute_result"
    }
   ],
   "source": [
    "df_train.shape"
   ]
  },
  {
   "cell_type": "code",
   "execution_count": 42,
   "metadata": {
    "pycharm": {
     "is_executing": false
    }
   },
   "outputs": [
    {
     "data": {
      "text/plain": [
       "(3253, 2)"
      ]
     },
     "execution_count": 42,
     "metadata": {},
     "output_type": "execute_result"
    }
   ],
   "source": [
    "df_test.shape"
   ]
  },
  {
   "cell_type": "code",
   "execution_count": 43,
   "metadata": {
    "pycharm": {
     "is_executing": false
    }
   },
   "outputs": [
    {
     "name": "stderr",
     "output_type": "stream",
     "text": [
      "/home/guzzo/anaconda3/envs/study-online-misogyny/lib/python3.7/site-packages/ipykernel_launcher.py:1: SettingWithCopyWarning: \n",
      "A value is trying to be set on a copy of a slice from a DataFrame.\n",
      "Try using .loc[row_indexer,col_indexer] = value instead\n",
      "\n",
      "See the caveats in the documentation: http://pandas.pydata.org/pandas-docs/stable/indexing.html#indexing-view-versus-copy\n",
      "  \"\"\"Entry point for launching an IPython kernel.\n"
     ]
    }
   ],
   "source": [
    "df_test['prediction'] = y_proba[:, 1]"
   ]
  },
  {
   "cell_type": "markdown",
   "metadata": {},
   "source": [
    "Let's take a look at what the model predicts.\n",
    "\n",
    "Misogynistic:"
   ]
  },
  {
   "cell_type": "code",
   "execution_count": 44,
   "metadata": {
    "pycharm": {
     "is_executing": false
    }
   },
   "outputs": [
    {
     "data": {
      "text/plain": [
       "['@Ocotcoizo feminazi',\n",
       " '@LauraaSilveira feminazi',\n",
       " '@bonesinsetember FEMINAZI',\n",
       " '@MissTwilight12 feminazi',\n",
       " '@DBTillman Skank',\n",
       " 'I liked a @YouTube video http://t.co/tr6tNfwd2f Male rights activist owns feminazi',\n",
       " '@ArielBPaiva feminazi',\n",
       " '@JNotValid Whore',\n",
       " '@_rododo feminazi',\n",
       " '@TylerIsAPerson whore',\n",
       " '... http://t.co/TXoM9j0E7V #asian #filipino #free #indian #japanese #oriental #thai #video #videos #vietnamese #whoriental #XXX',\n",
       " 'Feminazi Blog Reminds Liberals Today Is “National Day of Appreciation for Abortion Providers”… http://t.co/HEpTZ3NsZL via @WeaselZippers',\n",
       " 'I liked a @YouTube video from @uhohbrochannel http://t.co/DKbZw5Qy3W Feminazi FAIL',\n",
       " 'RT @Thoughtoffense: #gamergate #femfreq #antisjw http://t.co/EO8Gi9qYOK',\n",
       " \"RT @P_Filippelli I'm not sexist but females can't rap\",\n",
       " \"Fucking bitch ass people.. how rude can those exols get ? Sorry I'm pissed 🙄😬😬 https://t.co/JGs0bhhgRg\",\n",
       " \"RT @AllxnCook Sorry, I'm really not sexist, but the stereotype has yet to prove me wrong about women drivers.\",\n",
       " 'RT @brassidio: #WholsMuhammad #UElkemdeCharlieHebdoDağıtılamaz http://t.co/eIFzg1hsJK',\n",
       " 'RT @The_Loki_Jotunn: #FeminismIsAwful #WomenAgainstFeminism http://t.co/ytptIJH576',\n",
       " \"RT @johnsarkiss I'm not sexist, but female comedians just aren't funny\",\n",
       " 'aka that stupid man with the ugly toes that couldnt even do his own grocery shopping BITCH charge me for this neck ass hoe ill yank ur slides off and go full chancla on u BITCH fucking BITCH fuck U fuck RETAIL oh my god bruh PLEASE may i punch YOU',\n",
       " '@Goguen @MarcuzJauregui @Bathanii Shut the fuck up, you stupid ass bitch',\n",
       " \"RT @Mini_Khoza: @Masterbatker I'm not sexist, but fuck that lady. She's awful.\",\n",
       " \"RT @pay_pay247 I'm not sexist, but women's basketball makes me want to puke\",\n",
       " \"RT @mrMICHAUD I'm not sexist but I do not like one woman rapper out\",\n",
       " '@e_l_l_i_s_x0x Skank bitch',\n",
       " '@JEHernansanz feminazi!',\n",
       " '@Jonn_eBooks Damn Feminazi',\n",
       " \"RT @Senor_Andrew: @raquellykelly exactly. Like I'm not sexist, but most female sportscasters I've seen say dumb shit lol\",\n",
       " '@Silk_ebooks Damn Feminazi',\n",
       " '@blackhairedtiny fucking whore',\n",
       " 'MONIKA WAS RIGHT? RIGHT ABOUT WHAT WHAT DID THAT FUCKING BITCH ASS THOT MOTHERFUCKING HO ASS SKANK SAY TO YOU?',\n",
       " 'dumb fucking whore https://t.co/qLdOyBqUDX',\n",
       " \"RT @LiamDangerSmith: Call me sexist, but I really don't like female country singers\",\n",
       " \"@Eminem you are a big piece of white trash you fucking pussy son of a bitch you're a fucking pussy .i'll bitch slap u make u my prison whore\",\n",
       " 'RT @breez_15: @JakeDandrea_ @AnthonySammarco @YesYoureSexist feminists can suck my dick with their pinky in the air #classy',\n",
       " \"RT @DarwinLp777 I'm really not sexist, but most women can't drive for shit!!\",\n",
       " \"RT @AverageSpursfan I'm not sexist but fuck me half of the women yids on Twitter are fucking clueless\",\n",
       " \"RT @D1BoundJoJo_ I'm not sexist but I don't like female refs\",\n",
       " \"RT @StayingInPower Why is Thor a woman now? I am not sexist, but it just doesn't make any fucking sense.\",\n",
       " '@ghostlydevin @loserwyattt i don’t want a loyal bitch i want a skank hoe who will suck another niggas dick in my be… https://t.co/mswJedEKXn',\n",
       " 'RT @iProgram4Fun: \\'Cause, you know, they\\'re different things RT \"@YoungRightUSA: #feminist #abortion #prolife #feminazi http://t.co/3y5QkA2…',\n",
       " \"Idc if a bitch was a hoe cause I love hoes. They're mad fun and nastyyy.\",\n",
       " 'RT @Desani44 Call me sexist but I just cannot stand female rappers......yuck. That voice though.....',\n",
       " \"RT @c_marchionni: I'm not sexist but women need to stop trying to be country singers. #godawful #leaveittothemen\",\n",
       " '@imHewie @JoesHub you fucking whore',\n",
       " 'I hate bitches that are always mad at the world for no reason like bitch stfu and be happy hoe',\n",
       " \"RT @John_Bunando As far as I'm concerned, girls who argue are stupid. Call me sexist.\",\n",
       " \"@letyourvoicego @frbidden1 BITCH I AIN'T NO HOE\",\n",
       " \"niggas think bitches supposed to suck their lil ass dick and not give a bitch head too, like that's not how it works whore !!\",\n",
       " \"RT @marquesdaryl: I'm not sexist. But there is no chance in hell I'm letting a girl beat me at anything. Sorry\",\n",
       " '@marjorieh1350 @teach_well @NickOrsini Suck my dick you stupid bitch.',\n",
       " 'Ik that bitch was a hoe jus tried to change her but these hoes wana be hoes',\n",
       " '@Bubbles8301 @LPIsaacGuest She a nasty skank Hoe who would Fuck her wolf pussy anyway ?',\n",
       " 'RT @eoind87 Great comment from a lad in class \"I\\'m not sexist as sexism is wrong and I\\'m a man so I\\'m never wrong\" #damnstraight',\n",
       " \"RT @TheBigKahuna12 I'm not sexist, but I'm just not a fan of all these women rappers.\",\n",
       " \"RT @Mr2Wrong: @EskimoTori I'm not sexist but I do agree with gender roles. I have a dick. U don't. Gender is not the same.\",\n",
       " '@Snxke_Elf what a dumb looking bitch\\n\\nMight have to breed her like the whore she is',\n",
       " \"RT @LewRichardson1 I'm not sexist in the slightest but women comedians should not be allowed they aren't funny at all\",\n",
       " '@girlsreallyrule Your the fucking bitch,you whore.',\n",
       " 'RT @bigjhill23: This chick amy schumer is 2 funny! Women comics really gotta come wit it. Not sexist but most women comics are limited for …',\n",
       " '@dazefulAJ @ajmitchell U FUCKING BITCH',\n",
       " 'you fucking whore https://t.co/BCzxaVJNSb',\n",
       " \"RT @MayatYahya Not sexist but just ain't the same with a woman presenting MOTD..fuck off get Gary back\",\n",
       " 'RT @HazzMurphy: Its like im not racist, but I find racist jokes funny. Im not sexist but i find gender stereotyping funny. IMO nothin that …',\n",
       " \"RT @statham_sapp: I'm no sexist but there's nothing more aggravating than a female trying to talk sports with me. I'm just like get tf out …\",\n",
       " '@BABIEJUPI make it u fucking whore',\n",
       " 'someone: breathes ada: dumb whore cunt slut your moms a hoe kill yourself bitch get shot',\n",
       " 'I luv a classy bitch but still might fuck a bad whore💰',\n",
       " '@lissettesus WELP. Bitch IM JUST NOW FUCKING SEEING DUMB WHORE',\n",
       " \"Fuck you ugly cunt bitch don't get smacked https://t.co/oN5yaknXRz\",\n",
       " \"RT @RichieT_FTW: I'm not sexist but it annoys me when people are forced to make strong female protagonists in movies and books. Lamest char…\",\n",
       " 'RT @YTM1staWu1fy: #QuestionsForMen Do you ever find it hard to take a # seriously when it is designed by a hardcore sexist? http://t.co/y9K…',\n",
       " \"Have a free blindfold. @ptierney1992 I'm not sexist... But I don't wanna watch women talk to each other about sports.\",\n",
       " '@NoelleBellard YOU MOTHER FUCKING BITCH😤',\n",
       " \"RT @bennyd40 Not sexist but I'm getting a little tired of female announcers.\",\n",
       " \"RT @FreddyCovington Hahaha I'm not sexist but this is funny http://t.co/BBDmuKXj9W\",\n",
       " \"RT @RHoward617: @RossBarnes9 I'm not sexist but I hate hearing the female football sports casters. Idk why\",\n",
       " \"RT @831SNEAKS I'm not sexist but I never want to have a daughter cause even girls know how girls are.\",\n",
       " '@anne_theriault @hels Shut up cunt bitch whore',\n",
       " \"RT @victorlisboa76: I'm not sexist but litteraly I'm sorry sometimes women get too many rights. Yall ain't innocent at all. Like men can ne…\",\n",
       " \"RT @Living_Hurt I'm not sexist but I just can't watch football with a female commentator or announcer. Even my mom can't stand it.\",\n",
       " '@charlenealeisha You bitch too much over stupid shit go fuck your self stupid cunt you have shitty service anyway a… https://t.co/Ml3q077mwf',\n",
       " 'RT @The_Loki_Jotunn: So what does feminism propose to do about this? #WomenAgainstFeminism #FeminismIsAwful #questionsforfeminists http://t…',\n",
       " 'RT @FG2k20z3: Im not sexist but women do not belong on ESPN as analyst or commentators!!!',\n",
       " 'Dis bitch had the nerve to tell me im not from a hood. Bitch stfu ill spit on u hoe u dont know me...so mind ya business and worry bout yo child instead of me...dickriding ass girl',\n",
       " '@mahohiyajo it means skank bastard u dumb bitch',\n",
       " \"RT @RichyOC: I'm sorry to any women out there! I'm not sexist! But ya cant have women in the infantry doing a front line role!! Its a simpl…\",\n",
       " \"RT @YouknowitsDoug: @NubianFelinity @YesYoureSexist they say you're a dumb bitch\",\n",
       " '@MissMelyssaFord YOU WHORE ! STANKING ASS WHORE ! Dick SUCKING ASS WHORE @Drakee_YMCMB WIT @Jumpman23 BITCH !',\n",
       " \"http://t.co/hBBh4lcCqs @lathandd Women referees suck man. And no I'm not sexist but damn bruh that wasn't a good call\",\n",
       " \"RT @katedudge I'm not sexist but I think in general, men make waaaay better music\",\n",
       " 'Have fun fucking your whore you asshole in red lip stick with a smiley face lolol what a bad bitch',\n",
       " 'fucking take that stupid bitch FILTHY whore nobody will love you fuck you idgaf if ur pregnant ill kill u go ahead call the cops nobody wi',\n",
       " \"Classic! @itstherealdre @yoliana24 I'm not sexist, but I do believe that women are inferior to men.\",\n",
       " 'Where the fuck is your face scary hoe? Dont be saying nothing about peoples looks when you to pussy to post yours. You bitches can not fucking compete. Sit the fuck down and shut the fuck up. All of you bitches wanna talk about looks, but wheres your pics? Stay in your lane.',\n",
       " '@HooliganPats @_AdrianaBarron #feminazi  😘',\n",
       " 'Why tf is @realDonaldTrump a bitch made ass nigga😂 like who tf is stupid enough to put more hate in a country- we don’t like racist you fucking pelo de elote mf smd bitch🖕🏽',\n",
       " '@ADIC33 Just look at her face..sorry women but look up CUNT and you will see this bitch face. If ever a woman to get punched JS😂😂',\n",
       " 'I HAD THAT ACCOUNT SINCE 2013, AINT NO FUCKING WAY, IM FUMING BEYOND BELIEF PLEASE IF THAT GIRL COMES ONLINE IM DRAGGING HER DUMB FUCKING BITCH I CQNT EVEN GET IR BACK',\n",
       " \"I liked a @YouTube video http://t.co/3Z3OAyLO69 UKIP's Nigel Farage vs loud Feminazi\",\n",
       " 'RT @ChristianMedna Im not sexist but I dont think girls are funny.',\n",
       " '@ben_sassin You ugly lil bitch shut the fuck up if you dont understand the stock market hoe',\n",
       " \"RT @xKilluminati_ I'm not sexist when I say women can't drive. they literally can't\",\n",
       " '@MsJuliaa1 Lets fuck whore stepmom bitch style https://t.co/JMIXZRrD7H',\n",
       " \"RT @Jst_Domo: I'm noT sexist but there is a double standard with men &amp; women ! You want the guy everybody wants but we don't want the femal…\",\n",
       " 'Shut up bitch and suck my cock https://t.co/thFk4yNVEx',\n",
       " \"I'll never understand super chauvinistic or super feminist groups... not all men are bad, not all women are bad. #AHSCult\",\n",
       " '@_miidnightr Wanna speak down to my girl bitch then step up big nose ass bitch. Saw that shit off.',\n",
       " \"RT @farouqzaib  I'm no sexist but I've seen some really dumb girls which lend credibility to the argument.\",\n",
       " \"RT @nathanbonter21 I'm sorry but I can't handle women commentators or women talking about sports on ESPN #NotSexist\",\n",
       " 'Why would u play with my pure heart u fucking hoe bitch?',\n",
       " \"RT @wcrane53 I'm not sexist but I do not want to hear a female call an NFL or NBA game.\",\n",
       " \"RT @darthkbub I'm not racist and I'm not sexist...I'm just tired of self-entitlement\",\n",
       " 'Kat and Andre-you need to go. Kat is disgusting and her personality is black #mkr #bitch',\n",
       " \"I fucken hate you Kat. If I see you in the street I'm going to spit on you. Selfish ugly bitch. #MKR\",\n",
       " \"RT @mensrightsrdt: #mensrights@reddit Misandrist bigot asks of #BlameOneNotAll: Do men who don't hurt women ac... http://t.co/mwlVtEWaqp #F…\",\n",
       " '@DineshDSouza Camel Toe ORourke',\n",
       " \"Hahahah fuck you @JonaahV Call me sexist, but girls just shouldn't curse.\",\n",
       " 'i literally cannot wait until this fucking bitch moves out im tired of her bullshit and starting shit where there is literally fucking nothing',\n",
       " \"Only 2 oppressions. @Prattsays I'm not sexist, but I just remembered why I hate feminists. Unless you're Black orJewish please stop whining.\",\n",
       " 'Lucie is a fucking bitch. No loyalty. This is why you can’t have desperate hoes around your men',\n",
       " \"RT @oglesbeast I refuse to watch a football game if a woman is commentating. I'm not sexist but some people just don't belong in some things\",\n",
       " 'biggest struggle of liking girls is they all wanna be babi but IM FUCKIN BABI DIE WHORE',\n",
       " 'Every time I hear a women slut-shame another women for what their wearing I can’t help but think “Bitch you wack as fuck.”',\n",
       " '@Ruby_Hs Hoe stop fucking lying cause i had her phone for months and its been dead till now bitch& u thought u was being disrespectful 2 my kid,it was meWHERE DA FUCK U AT? she like bitch u acting crazy..dis aint no act bitch.. talk that shit but im gonna',\n",
       " \"RT @Slice_of_Slater It's not sexist but I do believe most girls are not good drivers.\",\n",
       " \"RT @ColeMcDowell2: I'm not sexist or anything by any means, but this is exactly why I won't watch girls basketball: http://t.co/Yd7tIux6cK\",\n",
       " \"You're a skank ass ho but I love you anyway. @emilyfrank210\",\n",
       " 'RT @maullyolly Call me sexist, but women should never be allowed to talk about sports on TV.',\n",
       " \"Bitch gots me fucked up, claiming to be a grown ass women but yet you try to compare &; bitch you still ain't shit... so what's good?\",\n",
       " '〝 Bitch fuck shit cunt who─ 〞 Okayyy..',\n",
       " 'RT @ElleDunc Call me sexist, but I preferred COD without this stupid chick.',\n",
       " \"RT @MrSorrentino_ Oi I'm not sexist but I swear to god only like 2% of the women population in London know how to drive properly ffs.\",\n",
       " 'Im so sick of people treating me like SHIT then try to come back in my life after they changed Fuck you fuck your growth cause idgaf skank bitch',\n",
       " \"@SunnyLeone @DanielWeber99 you bitch. You fucking whore. A fucking whore like you gets a chance to act in movies. What about the thousands of struggles we have? You motherfucking bitch! You bitch who doesn't know who her parents are, now acting clean! You\",\n",
       " \"RT @harry_t95 I'm not sexist but women's ice hockey is just naa\",\n",
       " 'RT @BlissTabitha: Feminazi Blog Reminds Liberals Today Is “National Day of Appreciation for Abortion Providers”… http://t.co/G4EqVuuKoo',\n",
       " 'Well shut up because you loved as fuck bitch https://t.co/d6s8cZ4q9A',\n",
       " 'UNBIASED TOTALLY UNSEXIST MALE OPINION ALERT @isaiah_guy Im not sexist but I swear female comedians are not funny at all',\n",
       " 'This bitch is stupid af. Forcing me to wake up my residents. Like wtf not like I was sitting not doing shit I was doing shit. Stupid ass.',\n",
       " \"RT @LimitBr8ker So, totally not sexist, but fouls should be a synonym for women's basketball.\",\n",
       " \"RT @kingjake2016 I'm not sexist. But I usually walk away when women sports announcers are on Sportscenter.\",\n",
       " \"RT @brian_day15: I swear, I'm not sexist, but I honestly just cannot stand the woman college football announcer on ESPN2\",\n",
       " '@ past me bitch you ok???? you fake ass slut https://t.co/4YGvMiCpKJ',\n",
       " 'RT @Jean_D_Almeida: Im not sexist but its just amazing when a woman knows how to cook! #lovrmesomefood',\n",
       " 'IDC IF YOU FAT OR SKINNY BITCH IF YOU DONT SAY EXCUSE ME, IM NOT MOVING MY CHAIR. FUCK U HOE',\n",
       " \"You are a LIAR and a FLOP, you skank hoe! Even Netflix doesn't want you LMAO https://t.co/LsSzhdO4kl\",\n",
       " 'Trump is a piece of shit and I hope he rots in hell. What a fucking cunt ass bitch https://t.co/VzDPWXm1P6',\n",
       " '@DailyMailCeleb Have a thought for the women that sick cunt raped #WoodyAllen you dumb cunt',\n",
       " \"RT @FScorpion678: @Jmart4info @bugaboob @RyanBermuda97 There's no point in arguing with her, she's a feminazi\",\n",
       " 'RT @JaydenKramer: I would rather have a blind dog as a ref than freakin Liz. I am sorry I am not sexist but that is why girls should not re…',\n",
       " \"RT @jackheathh I'm not sexist but women drivers are bad and when i mean bad I mean BAD\",\n",
       " 'you stupid fucking whore mom',\n",
       " \"RT @BudLightBro FUCK. I'm not sexist but I have a girl in my recruit school AGAIN. Son of a bitch.\",\n",
       " \"RT @stuartpaget5 Not sexist, but female football commentators just don't work, can't take it serious. Netball maybe\",\n",
       " \"This bitch out here settin up dick appointments and your lame ass can't even get a text back https://t.co/a42yzUSTCY\",\n",
       " 'RT @Bastardo_Verde: #WhatFeminismGaveMe http://t.co/n0D9JCdUqx',\n",
       " 'Bitch you better be 😂😂 https://t.co/8YaXVNzhcg',\n",
       " \"RT @TooBadDJs I'm not sexist at all, but I don't want to watch a ghostbusters film with just women in it #SoSueMe\",\n",
       " 'RT @ol_dirtymarco I\\'m not sexist, but I must admit the \"Women belong in the kitchen\" jokes were worth a chuckle.',\n",
       " \"RT @TH3THINK3R I'm not sexist but anyone that thinks males and females are equal or ever will be is naive\",\n",
       " \"RT @ZedSe7en What the hell man? Making Thor a woman is like making SpiderMAN a woman. I'm not sexist but you just don't do certain things.\",\n",
       " '@Sofiasweetiez @JAYDOUSE Bitch stfu ! Im just tired of you thinking you know me because of what that bum ass nigga tells you when he needs some pussy or a place to sleep',\n",
       " \"RT @TorreyFlocka: I'm not sexist it's just funny to attack women's rights because they all get so defensive\",\n",
       " \"RT @Kaycz75 I'm not sexist but a lot of y'all. Females really ain't good for shit except catching semen.\",\n",
       " 'RT @asredasmyhair: Feminists, take note. #FemFreeFriday #WomenAgainstFeminism http://t.co/J2HqzVJ8Cx',\n",
       " \"RT @ben_sulley I don't care if people call me sexist, I don't find female comedians funny\",\n",
       " '\"just don\\'t\" = the sum total of your unconscious biases @NoPromises_ I\\'m not sexist but I just dont like female singers haha',\n",
       " 'RT @asredasmyhair: My response 2 feminists\\' \"not all feminists are like that...feminism is about equality\" argmnt #WomenAgainstFeminism htt…',\n",
       " 'Let me tell yall sum...yall barbz who fucking wit my sis @NICKISDAUGHTER_ Come talk to me bitch cause i will pull up on a hoe...',\n",
       " \"RT @Omg_Mitch: I'm not sexist, but sexist jokes are funny\",\n",
       " '@LilBrownBoyy @hrvyonacid bitch we r now TxF sluts',\n",
       " 'You’re a bitch ass cunt @HunterRowland',\n",
       " '@lucymilsom2 your just a dirty fuckin whore u got all this chat about me go suck ur fuckin mum u disgusting lil hoe say suttin',\n",
       " '@ardentlyaphotic Please answer... http://t.co/m7i3NFQsDY',\n",
       " \"RT @J_Carnivale14: Just saw a girl drive the wrong way on a one way.. Some girls really don't know how to drive. #notsexist #guysdoitbetter\",\n",
       " \"RT @PainfulAugustus: @lilysboo i'm no sexist, i'm a realist\",\n",
       " \"@MSaveryWhiteway @MoiraSSnews @HPEschools Fucking cunt where's my belt bitch suck my dick and make me cum on your mouth\",\n",
       " 'How nasty is Kat. What a bitch #mkr',\n",
       " 'RT @yungmicjsu Im not sexist,  but i feel like she should be in her own level. Clearly referring men is not your calling.',\n",
       " '@SaySplit bitch you crazy as hell if you think you not bringing MY niece to see me. The fuck. i was there when her ass was conceived gahdam!',\n",
       " '@sinner_b @baeoflight @Henjam48 RIDICULOUS CUNT ! WOMEN DO IT IN AND OUT OF MARRIAGES THE WEAK BITCHES. WHAT DO U C… https://t.co/dAxB0DP43g',\n",
       " \"RT @CalebKn: @YesYoureSexist doesn't make me sexist. I have a right to an opinion. I believe in equality for those who are equal. Man or wo…\",\n",
       " \"RT @D_Copee Call me sexist but I don't trust woman drivers .. Or atleast the woman in my family\",\n",
       " \"If anyone wants to argue about anything, I'm sorry but your ass is gonna have to come back tomorrow. This feminazi is all out of fucks.\",\n",
       " \"RT @Moni_KidD This is not #SEXIST but my opposite sex can't drive for shit!!!\",\n",
       " \"Bitches can't keep a man for shit but got a steady ass work husband at all times\",\n",
       " 'next bitch that cheat on me getting pimped out, you wanna be a hoe bout shit so we gon make this money',\n",
       " 'Why Would You Do This To My Young Fairly Innocent Heart You Fucking Hoe Bitch.',\n",
       " \"@ohlashaybefly ctfu tell that bitch don't be snitching she got caught whore\",\n",
       " \"Sexist tweet par excellence @kenziee_annn I'm not sexist, but women are seriously awful drivers\",\n",
       " 'RT @COVOEC1 not sexist but come on why ? ghostbusting is a job for men lol http://t.co/GNVDIfadiR',\n",
       " 'Kat is a fucking bitch. #MKR',\n",
       " 'Lol you\\'re probably tweeting, \"it\\'s so hard to move on\" with a dick in your pussy so shut the fuck up fake hoe.',\n",
       " 'go fuck yourself you stupid ugly cunt https://t.co/zjzWFx9gq5',\n",
       " 'Good pussy never comes from a bad bitch... 😒 https://t.co/Q1DSNN42N5',\n",
       " \"WOW TOP SHELF COMEDY @TommyVirtue Siri I'm not sure if I should listen to a women giving me driving directions #sorry #notsexist\",\n",
       " \"For real? @BrownNicholas11 I'm not sexist, but men are superior.\",\n",
       " \"This bitch whom I won't name on Facebook is such a shameless woman ruining a relationship. #getalife #stopspreadinglies #hoe\",\n",
       " 'maybe you’re just a fucking bitch',\n",
       " '@CalioWilliamson @CNN Fucking bitch ! Shes doing that since 2 years when she give money to STUDENTS, STUPID HOE ! Now laugh in silence and poverty ! U want attention and like bcse its trendy ton talk shit about her ??',\n",
       " \"RT @LoloKurth: I'm talking football with a girl, this is weird. #sorry #notsexist\",\n",
       " 'This is besides the catcalls, the hey baby’s and calling me a slut and bitch when I wasn’t interested. Fuck this shit.',\n",
       " \"RT @mjb_1971: I'm no sexist but to pay the Men's and Women's Wimbledon Champions the same prize money is farcical - as jobs go, they're ent…\",\n",
       " '@mhdnrfrd Yes bitch its pOLe DAnCinG bcs the pay is good and i need the money and I’m a fucking whore',\n",
       " 'Dirty dick ass nigga .. I hope that bitch catch sum',\n",
       " 'Hi bitch pls @ Us skank ass hoe you aint bouta to do shit but we can throw hands tomorrow since you so bold on twitter',\n",
       " 'Blac Chyna is straight trash and an abomination to women everywhere. Don’t @ me cause I don’t care. Hoe responsibly, bitches.',\n",
       " '#GermanProfessor gives meaning to term FemiNazi.Doesn\\'t hire \"Indian Men\" bcz of \"Indias\\'s Rape Problem\"\\nhttp://t.co/zyvMzmeEA6\\n@TarekFatah',\n",
       " \"LOLOLOL @manorwood97 @karlmalonee @karlmalonee I'm not sexist but it's always the females that expect you to read their minds Lolol\",\n",
       " '@Whackyrach @PennyRed Just bitch, bitch, bitch because you don’t get the attention you want or the singular self-importance.',\n",
       " '\"Women are psychos\"\\n\\n*male tears joke gets made*\\n\\n\"SHUT THE FUCK UP DUMB FEMINAZI BITCH!! THIS IS WHY I NEED MENINISM!!\"',\n",
       " 'RT @selbyndondo: @Sir_MK_ as men i dont think we should ever be envious of other men, i find that to be a feminine trait #nosexist lots of …',\n",
       " 'Im such a fucking cunt bitch and i dont even mean to be goddammit',\n",
       " \"bitch you're a grown ass women https://t.co/77DNSI4m9e\",\n",
       " \"@LoveHipHopVH1 Musika you are a awful person. You or Skank want to be ugly ho I don't know what the fuck you're wearing #LHHHReunion\",\n",
       " '\"Females\" and \"guys.\" @AwkwardEP I\\'m not sexist but a lot of females lack true logic sometimes. A lot of guys are just dumb though.',\n",
       " \"@indigomermaidd You're the exception , you weren't a rude lil cunt like some hoes. 🙃💕\",\n",
       " 'Shoutout to all you passive aggressive bitches... Go choke on a dick, bitch',\n",
       " 'I like boobs as much as the next guy, but usually what they are attached to are nagging menstruating fucks! #WomenSuck',\n",
       " 'I Want Some Cunt Ass Bitches To Be Spice Girls W Me This Year',\n",
       " 'All those haters calling me a whore when they could call me a dick juggling thunder cunt instead 😥 https://t.co/sYikFWFfa2',\n",
       " 'RT @BudLightBro: @jdcalamia my only experience was terrible classmate and she fucked two of the guys. Keep your slit shut, skanks!',\n",
       " 'RT @cheuya: TW. Default male mindset: \"women exist for me to fuck. If she shows skin around me, it\\'s *none* other than a personal invite to…',\n",
       " \"RT @Arsenick3: @YesYoureSexist saying something enforces a stereotype isn't the same as stereotyping #JogOn\",\n",
       " 'if ur ugly -@ing women who interacted with kriss before this u deserve to have ur GI tract rammed through with a hot iron stake u smug bitch',\n",
       " \"@chaeltz07 i've seen this skank thot basic bitch IG trash before. Her videos are the worst. Such a prostitute\",\n",
       " 'Any woman that likes me is a bitch. All women are bitches.',\n",
       " '@bea14_x @KSIOlajidebt Oh wow what a ugly skank you are',\n",
       " '@UPI @adamczyk_ed @JacindaArdernNZ much confirms that she is a hysterical Liberal wacko. Any woman who forces pothe… https://t.co/lDt3rToqlg',\n",
       " \"RT @S_R_Fernando: @UnfinishedToday Ah, you're a #feminist? Seeing #sexism everywhere then, do check my tweets before you call me #sexist Yo…\",\n",
       " \"RT @stuartreeves I'm not sexist but the thought of an all female Ghostbusters 3, scares me more than any ghost they could think up! #badidea\",\n",
       " 'Get a real woman not a hoe then. https://t.co/22fx32NGgw',\n",
       " \"Your mom was being a bitch to you? I totally see how that's my fault. #WomenSuck\",\n",
       " \"I'm just sitting on the train, have a hard dick and would like to wank a horny girl on the big tits 💦💦💦💦💦💦💦💦💦💦💦\",\n",
       " \"RT @Oneiorosgrip: #HowToSpotAFeminist Doesn't want all feminists blamed for feminist lobby for anti-male discriminatry law&gt;freaks out over …\",\n",
       " 'bitch bitch dont be mad, you better be glad kus this the best piece of pussy that ya man ever had 🤸🏽\\u200d♂️ https://t.co/JJIRxyMrqk',\n",
       " 'I just wanna know why the girl dont like me 😭😂 What I ever do to you hoe? Other than give you rides and be nice to you 😂🤦🏻\\u200d♀️ Hating ass hoe',\n",
       " \"RT @RicciCastro: @IngridBanerjee that's because you are a feminazi with obscure views on Clarkson, He embodies all that is top gear #BringB…\",\n",
       " '.@Shermertron @HumanistFury Real question is do feminist liberal bigots understand that different rules for men/women is sexism @jennykutner',\n",
       " '@melissafera_ SHUT THE FUCK UP. YOU DUMB WHORE.',\n",
       " 'Stfu you taking all this shit and I still make more money than you do you broken depression pussy ass bitch',\n",
       " '@LizGillies what a fucking cunt this slut is also I don’t want this to endddd pleaseeeee when is Tuesday gonnaaaaa… https://t.co/cKcDRxCPKl',\n",
       " 'Really getting tired of everyone telling me I look like a bitch. Like stop the fucking prejudice you fucking cunt.',\n",
       " 'RT @p4ndiamond: #QuestionsForMen #WomenAgainstFeminism #feminism #mybodymychoice http://t.co/oqPP6gEwUe',\n",
       " \"Kat is ruthless tonight. Look out, she's a desperate woman! #mkr #mkr2015\",\n",
       " \"RT @jacobselvey Call me sexist but if it's a female rapping I automatically dislike the song. #Chauvinism #VocabWord\",\n",
       " '@tylerfromvegas really whore',\n",
       " 'guy: \"i want a girl who\\'s smart. but i also want a girl who is a total and complete slut whore.\"me: \"how bout a smart slutwhore?\"',\n",
       " \"Definition of sexism... @SarahKylee_13 I'm not sexist, but I believe men and women have their roles in the house.\",\n",
       " \"RT @RICANROLL: @YesYoureSexist tell the bitches, whores, sluts and cunts to change their behavior...that'll end the speech\",\n",
       " 'Let me know what the cops say. @JevenSteakobson if i see a women in mens wearhouse today im calling the police. sorry, im not sexist, but,',\n",
       " 'I can’t live my life based on what women find attractive. Lmao every single one of you hoes can suck my dick',\n",
       " \"RT @Yooo_Fredd I'm not sexist or anything but I do not take female rappers seriously I would never buy a Nicky Minaj album or something.\",\n",
       " 'Childish? Dirty? Pathetic? BITCH U WAS WITH THE NIGGA.. so what that make u.. https://t.co/Ij7A9auV86',\n",
       " \"RT @king_dani3 Guys be better then women in everything !! Not sexist but it's just coz we are competitive as hell\",\n",
       " 'RT @FeministFailure: “This is what a feminist looks like?”\\n\\nWell, this is what an anti-feminist looks like.\\n\\nRT @TerminalW00k💪 http://t.co/…',\n",
       " \"When people hear your name it's all some crazy thot nasty bitch Whore shit\",\n",
       " \"You ain't a real bitch unless you suckin dick , stfu\",\n",
       " 'RT @lord_yogurt TBH you can call me sexist but the sight of girls smoking is unpleasant',\n",
       " '@Gonz2k Shut up Gonz. Fucking whore https://t.co/vfUtQz5DZp',\n",
       " \"RT @of_The_Guild It really pisses me off when anime girls don't have big boobs #NotSexist\",\n",
       " 'Yes Brooke! Give that bitch the hell she deserves. I knew it would take her to slap that skank down. #BoldandBeautiful',\n",
       " 'RT @MacKirstys: Hey #adelaidefringe2015. Only 8 shows left of #feminazi @gluttony_fringe at 9.50pm. Come larf heaps about misogyny! See you…',\n",
       " \"So you're sexist AND have no taste. @_ChrisNichols Call me sexist but I have no desire to see a stand alone Wonder Woman movie.\",\n",
       " 'RT @PoliticalCynic: @MT8_9 @findingmariah NOW it makes sense.  #Feminism is all about being full of shit.  Got it!',\n",
       " \"RT @DarylMansbridge Just don't find Woman comedians funny in the slightest #NotSexist\",\n",
       " 'RT @amybeccaaaron: When I criticised the #HeForShe campaign and a feminist responded. 2/2 #WomenAgainstFeminism http://t.co/H1KYCtEWi5',\n",
       " '@DaniellaMicaela YOU FVCKING CUNT BITCH!!! APOLOGIZE! @CNN @cnnbrk @CNNPolitics',\n",
       " 'RT @rapebombing: @TamedInsanity @MT8_9 http://t.co/QCLsQaxoJr',\n",
       " \"It blows mine when a girl tells me to her talk during sex 'how this pussy feel, talk to me' ok bitch it's a C- and I'm trynna concentrate 😒\",\n",
       " '@goof_skywalker @NickTheBullsFan Its clear in the fuckin video are u fuckin stupid if u take idubbz dick out your mouth for 2 fuckin seconds you would hear him say nigger',\n",
       " 'I’m still daddies whore 🤪 https://t.co/lZMGbjoywC',\n",
       " \"RT @waken_jake23 I'm not sexist... but seriously if you're female you need to be able to cook. it's in your DNA\",\n",
       " '@HandzOfZeus @sara771987 @FeministFailure correction: Freedom feminists. Not gender feminists aka feminazi aka cunts',\n",
       " \"RT @Alfie_Game I'm not sexist, but why are women so easily confused?! #BusinessMinded?! Wouldn't have thought so\",\n",
       " 'MUMMY... NO bitch youll call me DADDY as you choke on my big dick! Youll call me DADDY when I bend you over and strech that cunt wide & split you in two! DADDY knows best. @rtfucker @RT4D1 @RTmutt @BrokeRTPig @RTsubby @rtsucker @RTSlutt @RTFD_ @RTPork @RTPiggyy @RTxxlslave',\n",
       " \"RT @geemichelleex3 I'm not sexist but I'm pretty positive I have no female teachers this semester\",\n",
       " 'She’s such an evil bitch. Now who’s not smiling? Shove it. #Kat #MKR',\n",
       " 'Girls hear you say “fuckk” during sex and think her pussy bomb First of all hoe my Girlfriend on her way',\n",
       " \"@ArianasBotch Ok if you fucking said leave block me. But dm me first I'm gonna kick your ass. Shut the fuck up you https://t.co/6BXkfxMEf9\",\n",
       " '@Fergaylicious i literally blocked her ass everywhere so i wont see her again and youre bringing her to my timeline you fucking bitch',\n",
       " 'RT @RussellEElliott: So someone just told me that #feminism = \"lying communists who oppose equality\". Can you believe people this BS? http:…',\n",
       " \"RT @MakeFeministCry: Saying you're going to put me down Old Yeller style is triggering. Old Yeller had feelings, too. #YesAllDogs #feminazi\",\n",
       " \"@CBSNews And the son of a bitch can't buy it for his little pee pee whore boy and that just rankles his ass. Shut u… https://t.co/pQAXm92M7f\",\n",
       " \"That's funny, most House Republicans are men. @AjChip619 I'm not sexist, but women are so damn stubborn\",\n",
       " '@roseisagee Girl people really do that, like damn bitch you so selfish you don’t wanna rt me and get me clout',\n",
       " '@mykitchenrules Why is Kat being so nasty? Just showing what a horrible person looks like #MKR',\n",
       " 'Go fuck yourself Kat, stupid slut #MKR #nofucksgiven',\n",
       " 'RT @EllieBaker92: LOLOLOLOL #feminazi #detected http://t.co/Zqwomftl02',\n",
       " 'I ask this every year. So looking forward to the older blonde.\\nCue geggy tah \"whoever you are\"\\n #mkr',\n",
       " 'Hahahahaha fuck off Jurgen you stupid cunt.',\n",
       " \"Karma's a bitch, right Kat? #MKR #MKR2015\",\n",
       " \"Sometimes you just gotta finger a bitch in public to let her know who's boss https://t.co/T8eSbSoP5N\",\n",
       " 'RT @Peyton_Drinking: #NotSexist but is Erin Andrews the most average looking \"super talked about as a hottie\" ever?  Totally fine sports re…',\n",
       " \"RT @GenAnonCoward: .@Ali_East_West @MT8_9 @LBigmann No, that's #egalitarianism. This is my prob with feminism: they lie with the truth http…\",\n",
       " \"Fundamental understanding of meaning fail @DonivanGray I'm not sexist or anything but EVERY girl is crazy no exceptions.\",\n",
       " '@Guinz Stupid Skank !',\n",
       " \"Dumb blondes with pretty faces? You're definitely right on one of those statements... Guess which one...  #MKR\",\n",
       " 'When you have good dick and cut her crazy ass off https://t.co/yxbvOl8uGg',\n",
       " '@Rosie @Shakestweetz sometimes WOMEN are stupid too! Majority of white women voted for a sexist misogynist pig!',\n",
       " \"Tryin to send that bitch back to her maker and if you got a daughter older than 15 I'ma rape her Take her... right there in front of you DMX\",\n",
       " '@maisonmargieIas Wow that hoes aint shit, You deserve better dan that ugly whore brother',\n",
       " '@SpIashMan can u report dogshit retard link me after u beg ur fucking terrible u foreign cunt u sound like a woman fucking funder',\n",
       " 'Me: sup slut\\nNigga: wyd hoe\\nMe: ya mama🥴\\n*proceeds to send my website to it*',\n",
       " 'RT @CP2314 This is not sexist but I want to punch both of the girls from broad city #workaholics',\n",
       " '@Deeejjaaa if I get one more email from your ass ima blow that bitch up',\n",
       " '.@BlackOpal80 I know little more than I just told you. I just thought her smiling face of hypocrisy/misandry epitomized modern feminism.',\n",
       " '@LiquidHbox u fucking cunt u wanna fuck me duck hole cack lord bafaf, EXcuease me, i wang to flout ur hbox, please suck me dadd. top 5 gay',\n",
       " 'RT http://t.co/3bvazJfhS4 @CyCopplelops Call me sexist but men will always be superior drivers',\n",
       " 'sex is cool and all but have u ever came back from school finding out your parents arent home so u just scream out \"FUCKING BITCH IM FUCKING HOME ALONE CUNT YUHHHHHHHH\" out cuz same',\n",
       " \"@em0_trash @Yogirlflaca bitch i'll give you this big ass dick then\",\n",
       " '23. the reason that fucking skank ass cunt lied about me was to cover up her shaking my kid, and being in on fucking up lawsuit',\n",
       " 'A fvcking bitch who is a hoe to everyone https://t.co/EhdwqsI8jg',\n",
       " \"RT @fyoudbag: It's insulting to women to expect them to only be attracted to super easy games. I honestly am insulted as a parent of a girl…\",\n",
       " 'RT @jonny_stallone: Call me sexist when it comes to football idc. I hate when girls put up a pic of a \"hot\" guy and thats the team they\\'re …',\n",
       " 'Bitch you look stupid af 🤗',\n",
       " '@shanedawson NAMES BITCH AND ILL END THAT CUNT',\n",
       " '@Alecammisano Alessia you fkn skank go change',\n",
       " 'Sheesh RT @Jerry_Capree: Bitch i wana enter every hole that you got',\n",
       " \"RT @_dantomlinson: I'm not sexist but girls please don't pipe up when the football is on, we all know you have no idea just sit there in si…\",\n",
       " 'Suck it Kat, you fucking cunt. #mkr',\n",
       " '@joobleblob @UnburntWitch Yes.',\n",
       " '@ABCNewsRadio Oh look Ipigga thinks she knows women who struggle....fuck off bitch',\n",
       " 'RT @GreyUmopepisdn: When a radical feminist or SJW tries to argue with you, try these tips. #WomenAgainstFeminism http://t.co/UP62bkHAEL',\n",
       " 'RT @ChopraTP: #GermanProfessor gives meaning to term FemiNazi.Doesn\\'t hire \"Indian Men\" bcz of \"Indias\\'s Rape Problem\"\\nhttp://t.co/zyvMzmeE…',\n",
       " \"can grown women stop glorifying being a hoe, y'all don't realize the influence on the young bitches\",\n",
       " \"You should be locked up, you sociopath. @ninjaphi To prove I'm not sexist, I'm going to punch a women in her face\",\n",
       " 'When you eat the wrong bitches ass https://t.co/vcyGyLuZ9i',\n",
       " '@chargenewtwit @NotZelta you gonna shut the fuck up pussy?',\n",
       " 'RT @bjtqld: @mykitchenrules @bjtqld:  #mkr2015 #mkr I think Kat thinks she is the best chef ever. Ah hello no',\n",
       " '@AynRandPaulRyan Fucking bitch sarah fucking lying cunt',\n",
       " 'Feminazi. A feminist who finds a hidden male agenda in EVERYTHING.',\n",
       " \"The fag stays away and so does that SLUT bitch he proffered as 'bait'....they are both fakes!\",\n",
       " \"@ShariaQueen @Twitter @metpoliceuk Bitch please. I bet the cunts won't even bother.\",\n",
       " 'Lmaooo this girl told me I’m such a fucking bitch today bc apparently I’m demanding to the guys I like? Like OH sry b, I get what I want 🤷🏻\\u200d♀️',\n",
       " \"Don't you hate how girls just Whore around because they never got daddy's attention ?? And so they have to interfere in relationships.. hoe\",\n",
       " 'RT @Eliah_R: \"Lets create a nicer society by acting like absolute cunts to everyone\" - Social Justice Warrior Logic #GamerGate #WomenAgains…',\n",
       " 'RT @WillTar: @TanyGriff @VeloUK why do women play best of 3 and men best of 5 in tennis. it is not sexist but in most sports women are not …',\n",
       " \"*vomit* @j_degeorge I'm not sexist by any means, but no woman should ever be allowed to announce a football game #KnowYourPlace\",\n",
       " 'Sometimes you just gotta say fuck it and let a mutha fucka know you wanna have sex to their face',\n",
       " \"Stay strong Missionary Man. Don't let these feminazi fascists tell you where you can and cant piss @dontdoxmebro_ @Ishfery @Auragasmic\",\n",
       " '@PopCrave He can choke and so does his bitch hoe',\n",
       " 'People in airport bars always wanna tell you their life stories... STFU Bill, IDGAF about your stupid daughter and whore wife',\n",
       " 'These hoes do to much and these niggas bitch made LF',\n",
       " \"If I got a dollar for everytime Nikki did her pouty face, I still wouldn't wanna look at it. #annoying #MKR\",\n",
       " \"I feel like I'm going through withdrawals but again I'm jus being a whiny ass bitch ass skank ass brat\",\n",
       " 'All these dumb shit corny ass love songs are now all about you, fucking bitch.',\n",
       " 'why this big fat ass ugly ass bitch like me 😭 she need to UNLIKE me!!!!! i love dick! tf',\n",
       " 'RT @ZStonecipher: Half the time when I read a girls tweet I read like the dude in \"Sh*t sorority girls say\" video on YouTube. #notsexist #j…',\n",
       " \"RT @fruitondabottom: #IDontNeedFeminism because I hate being manipulated for feminists' entertainment. #WomenAgainstFeminism #letstalkmen h…\",\n",
       " '@Cumkitten_R2 your fucken hot im hot fuck hard do anything you want to be my slut whore and open your holes you HOT SLUT. WE LOVE TO FUCK',\n",
       " 'Damn I wanted Kat the bitch to go  #mkr',\n",
       " 'The more WOMEN in the workplace means LESS WOMEN IN THE KITCHEN. Like and retweet if you see this as a big problem #ilovefood #homecookedm#',\n",
       " '@TheRealPerceeP post telling how you love hooking up with a filthy slut so you and that whore joke about her man(I… https://t.co/yq6CxkKH0I',\n",
       " 'Im not for abusing women but i swear to odin this bitch is about to have a permanant imprint of my fist in her face',\n",
       " 'Being rude to you. Call u slut or bitch or everything related. U rasa putus tunang is the best way ke?',\n",
       " 'these two take dumb blonde to a a new level #MKR #MKR2015',\n",
       " 'RT @kennedy_jordan How can feminists say they want equality when they see men as lesser beings? #LateNightThoughts #notsexist',\n",
       " 'Me in two sentences. - may:Me: I won’t get jealousMe: Who’s this fucking whore https://t.co/W9CTVvlPNn',\n",
       " \"So ... #Kat's food was about as pleasant as Kat, which is to say ... NOT. Suffer in ya jocks Kat! #MKR #SmugBitch\",\n",
       " 'Please rape my slut cunt and fill it up to the brim with thick, hot cum https://t.co/CCLu2S0dYH',\n",
       " '@_CIay Clay, if this is sarcasm, its really bad, shut the fuck up. If the hats were described as womens yo bitch ass wouldnt want one.',\n",
       " 'All the men who catcall on the street I wish I could personally shove back up their moms whore cunt :)',\n",
       " \".@JamieAgathaRose  Nothing.  I like women in pink. It's a tipoff that they don't angrily reject femininity like...ahem, well, you know.\",\n",
       " \"RT @leftydammit: I'm not sexist or anything, but I want to take a brick and break every tooth in this girl's mouth, for some reason https:/…\",\n",
       " 'RT @J_Halas34: People call me sexist for my opinion on females &amp; professional sports.. Stop being so politically correct.',\n",
       " 'RT @Krayfish35: It bothers me when anyone uses foul language, but coming out of a girls mouth it seems 10x worse #KeepItClean #NotSexist',\n",
       " \"You even hear yourself? @tweaker_bell I'm not sexist but I do believe women and men play very different roles in society but are not limited\",\n",
       " '@htmlamanda you stupid cunt bitch! All women aren’t stupid, but all women who think like you are!!!!! Whore!',\n",
       " \"YES BYE @KeyonMorris: I'm not sexist but if we ever get a woman president I'm moving out the country\",\n",
       " 'RT @Connorsmart3: @rorybrown_mufc @YesYoureSexist There is a reason there is only been one female prime minister. She fucked up everything …',\n",
       " 'RT @NickCMcCarthy Not sexist, but girls on xbox live are super annoying.',\n",
       " \"RT @GrahamInglish Hahahaha I'm sorry but if you watch Women UFC fights kys #NotSexist #ItsJustWeird\",\n",
       " '@pleasemybody they deadass digging a hole for themselves @AtlanticRecords fat bitch loose weight',\n",
       " 'RT @lukemac11 Ahh the chick who announces games on ESPN 2 is so annoying #gameonmute #getheroff #notsexist',\n",
       " \"ALSO PRETTY SURE YOU DON'T HAVE THE RIGHT TO BE A PSYCHOTIC CUNT TO YOUR EX WHEN YOU'RE THE TRIFLING ASS WHORE WHO CHEATED IN THE 1ST PLACE\",\n",
       " 'Self-awareness at critically low levels @YouknowitsDoug im not sexist but some bitches are dumb',\n",
       " 'Karmas a fucking bitch and it’s so great to see it finally coming to bite someones ass.',\n",
       " \"@JessicaValenti oh really?! how do you explain @BillCosby then, considering it wasn't even rape and even white supremacist forums admitted he got fucked?! Love how you feminists won't ever zero in on white men! asian, indian, mid eastern, latino and most of all black men don't get away with shit\",\n",
       " 'If only I could get out and beat the cunt that just hit my car with 5 fucking kids in it...cops are fucking looking for you bitch 507TVB',\n",
       " 'The same bitch is all on my boo’s shit like girl bye',\n",
       " \"RT @RichardMeal @sir_lummox maybe that's where they should focus? Less cunts on football. #notsexist\",\n",
       " \"RT @INKdaRapper: I made the mistake of reading that Christine Brennan article. I'm not sexist, but she really makes females journalists loo…\",\n",
       " 'WHAT THE FUCK bitch fuk u https://t.co/9B1NZkWhw4',\n",
       " \"And yet somehow, they thrive without your ignorant laughter. @juckfohn Call me sexist but I just don't find women funny.\",\n",
       " \"RT @sara771987: @ReneeRox74 @MT8_9 I know right? Can't believe he's so mad at women who belittle men and have to ability to imprison them w…\",\n",
       " 'Feminazi Blog Reminds Liberals Today Is “National Day of Appreciation for Abortion Providers”… |... http://t.co/vbLsbX7Qge',\n",
       " 'Your skank ass disgusts me so much',\n",
       " '@Astrophilia Fuck off feminazi shit head.',\n",
       " 'Looks like another girl fucked up another relationship. When are you gonna learn ladies?',\n",
       " 'RT @vaintshit:  shut the fuck up and come suck my dick \"',\n",
       " 'god fucking shit cunt dammit bitch pretentious cock sucker..... I dropped my ice cream',\n",
       " 'LMFAO @BrandonHonaker1 LMFAO who cares about the women UFC title match not sexist but seriously no one cares lol.',\n",
       " \"Who gives a flying fuck? @Rhace138 Again, call me sexist but men shouldn't get lower back tattoos\",\n",
       " 'Fuck bitch!',\n",
       " \"RT @blazinbirdman10 Listen I'm not sexist but there's never been a good all girl band that's just plain fact\",\n",
       " 'She’s not only a bitch but she’s also a whore. She’s always touching her friends boobs too which is gross',\n",
       " \"There is nothing sexier than a chivalrous man. #benevolentsexism is bull💩. #FeminismIsAwful &amp; #feminazi's are ridiculous. @TheFive.\",\n",
       " 'RT @AnnaDale32: Lol when you have two girlfriends @Yourfuckboy1 #huntermourer https://t.co/Bd8VcuYOB7',\n",
       " \"RT @sharkYObitch I'm not sexist but right now I hate girls !!!!\",\n",
       " \"RT @venimus_vidimus: @MT8_9 @BristolBen @MaddyBaylor @Shermertron @YavoYavoyavo @Prostathlitis I'm MORE scared of women physically as I'm n…\",\n",
       " '@WCivility @vincent_berms Hahahahahaha! I always thought she was a butt ugly woman. Now I know better.',\n",
       " '@pettylo_hoe BITCH TEXT ME',\n",
       " '@blakeruss165 You a lying hoe',\n",
       " '@fakeswag33 Shut up Mickey you pussy little bitch #firstoftheyear #firstofmany #mickeyhaslowt',\n",
       " '#mkr that Kat has to go. She is nasty.',\n",
       " 'listen... i love lil b but i would not fuck with dej loaf at all. she prob got poison up in her nail polish like that bitch from holes',\n",
       " '@AlecMachet @JudgyBitch1 @masterninja ...which is a real example of feminism ruining atheism, no?',\n",
       " 'my neighbour is such a cunt i hope someone murders that stupid bitch. preferably tortures her first as well',\n",
       " '@CyanDvai FTR, I don\\'t just mean Democrat by \"liberal\" but a specific breed...',\n",
       " 'RT @justin13j Do women announcers annoy anyone but me? #NBA #notsexist',\n",
       " '@AnnCoulter Im not sure you should be calling ANYONE a hysterical woman.',\n",
       " \"it's sad to see a fine girl be a hoe😪\",\n",
       " 'That bitch is a Grade A whore! https://t.co/KZI7SHEdNF',\n",
       " '@coffanoffski @angvaj you rly gonna say something sexist and then yell not all men? dude, take a seat. prove that n… https://t.co/cvFem2oQwo',\n",
       " \"@ZoeJardiniere It's not just men. I read recently about a woman who was 'hysterical' after being raped. I don't kno… https://t.co/QMv2KLXrCd\",\n",
       " \"I don't care what a bitch think or how a hoe feel 🆗🗣\",\n",
       " \"I gotta stop opening DMs when I'm drunk... I wake up like who TF is this bitch and why did I send her a dick pic\",\n",
       " \"RT @JamieAgathaRose: @Rinaxas @A_Spidurr @Meowsticgoesnya Feminazi logic at it's finest.\",\n",
       " 'I hope he tackles your bitch ass so deep into donnies pussy, so you can live happily ever after. suck a cock, nut cracker. https://t.co/atg6YOEPZv',\n",
       " '9/28 you pussy BITCHHHHHHHH EAT IT UP LIL HOE I KNOW YOU BANG WIT US !!!! Its ROLLLLLLINNNNN ON MINE ION DO DA GROOVIN YADIG #SLUMLOVE',\n",
       " 'RT @whyisitdirty: If feminists addressed the rampant sexism and misandry in #feminism, then perhaps #WomenAgainstFeminism and #antifeminism…',\n",
       " '@CCriadoPerez Shall I add that to the Lefty Feminazi Manifesto?',\n",
       " 'From #MeToo to Who Me? Where Are White Women Allies When A Black Woman is Called a Whore? https://t.co/aNtYGiCrcq',\n",
       " 'Note, @suey_park is obvs not sexist. Retweet needs a \"sincere or sarcastic?\" option.',\n",
       " 'Fake hair, fake nails, fake personality, and pounds of makeup...... And you expect a REAL guy? Gotcha bitch #WomenSuck',\n",
       " '@STFU_Edward BITCH you shouldnt be putting it out there cunt nugget',\n",
       " 'RT @Wateronatrain: @MT8_9 You might like this http://t.co/c9m2pFmFJ3 #patriarchy',\n",
       " '@mrpford @Lisa_Wilkinson True, many women think Karl is a dick and Lisa is fantastic',\n",
       " 'bitch stfu yall call angela an ice queen but then say oh sure angelas the mean one you can say this shit and still recognize angela being a whole bitch',\n",
       " \"RT @CasaMirth: I'm not sexist but also definitely not a fan of the rumour of Ghostbusters 3 with women. What next? Steel Magnolias 2 with d…\",\n",
       " \"Ladies there's a difference between being a feminist and a feminazi\",\n",
       " 'How the f#*k are they \"models\"? #MKR',\n",
       " '@lgmaterna @latimes @Pegkel Hey American skank are you illiterate?',\n",
       " 'RT @ReidlosToof I have difficulty relating to protagonists that are tiny Japanese girls. Sorry. Call me sexist if that makes you feel better',\n",
       " '@FarOutAkhtar How can I promote gender equality without sounding preachy or being a \"feminazi\"? #AskFarhan',\n",
       " \"u legit get called a 'feminazi bitch' for speaking out against even the most blatantly sexist shit i stg whatthefuck\",\n",
       " '@RealJamesWoods @BeauCards How about very Unintelligent hysterical woman. This women is mental case!',\n",
       " 'Mr. Rao (my soc teacher): my wife is so feminist I call her feminazi\\n\\n😂😂😂😂😂',\n",
       " 'The blondes will get through cause they are young and can suck... Hard! #mkr',\n",
       " 'Your friendly neighborhood dumb ass fucking bitch.',\n",
       " \"@trumpsterMG @realDonaldTrump You're a dick. Said every woman ever\",\n",
       " 'RT @ash_p_ash: Faaark! The blonde promo girl walks with all the grace of a tradie in drag #mkr',\n",
       " '@She_TheWolf Are you a feminist?',\n",
       " \"I love how women can just talk all day about a nigga not being shit, But soon as a nigga say sum boutta bitch. Y'all wanna attack the nigga\",\n",
       " 'i convince myself that im not a bad person and then call an old lady a stupid cunt bitch for biking in the road',\n",
       " \"I don't swear much... But... Fuck you kat... And u too Andre...ur both bitches #mkr\",\n",
       " 'FEMINAZI FEMINAZI',\n",
       " \"RT @realalexander57: I m not sexist, but having a female as the head of the Secret Service is the one thing I believe is err. Men's reflexe…\",\n",
       " '.@feministlah @GreenWeiner Way way more than one...and why not...that\\'s how they arrive at \"male privilege\"? #AntiSJW http://t.co/LmPvPJvsyx',\n",
       " '@isoFLVCKO @SavageCatcher @GoodLuckDyllion Nah. No doubt I’m the best editor in this bitch',\n",
       " \"I found out something about this chick that was hiding something from me lmao bitch can't hide anything from me fake ass lying hoe\",\n",
       " \"RT @Coopster04: @AlanNRembosDDS  As a mom of daughters, I'm asking if U would call them 'sluts, sexretary or FemiNAZI'? Rush does &amp; you pay…\",\n",
       " \"If a girl is cuddling with me & she tells me she don't wanna fuck, that's cool. I'll pull my dick out & beat off right next to her.\",\n",
       " 'This kid stated she was 13. Grown-ass men are still talking to her about bras. Oh, man. https://t.co/AaWHbICOWe',\n",
       " 'bro i hate myself, im a fucking bitch to bucciarati',\n",
       " 'I think this bitch drugged my shit 😭',\n",
       " 'these hoes done called me kelly jr bitch fuck them 😩😂😂😂',\n",
       " 'RT @EllieBaker92: Answer me this. #feminism #women #lesbian #FeminismIsAwful #gamergate #femfreq #feminazi #sex #equality #men http://t.co/…',\n",
       " \"Sorry but #JessieJ on #thevoiceau is being a real cunt. You're not all that.\",\n",
       " \"Its a bitch who better get her some business forreal! How the fuck u gone feel entitled to somebody! Bitch u got blackballed & u gone stay blackballed! I ain't saving no hoe! U is not apart of my Spurs dreams! The woman u see on my page had on the San Antonio Spurs Warm up Jacket\",\n",
       " 'FEMINAZI',\n",
       " 'I never understood why anybody waits to say they got raped smh rape me bitch I’m snitching soon as you leave fuck boy',\n",
       " '@verge What a dumb cunt of daughter. Social Media addicted whore.',\n",
       " 'Do you get it, you Blondes ........... #MKR',\n",
       " '@bxrdxrline Sike bitch',\n",
       " 'You\\'re legit an asshole. Man or woman, act your fucking age. Show respect for others. Have decency to talk about things as an \"ADULT\" that you supposedly are. Dont be a fucking cunt about things ESPECIALLY if youre in the wrong.',\n",
       " \"Not really scared of them, but they're filthy as fuck and spread diseases like a SJW feminazi slut.\",\n",
       " 'RT @Alma_NoSoul: No,i am not a feminist..i am a feminazi *throws tampon shaped grenade*',\n",
       " '@MrSteThompson \"I\\'m not sexist, but it\\'s of note when a woman surprises me with her competence.\"',\n",
       " \"RT @KrisTRealest @Matt_Camps Sum things jus aren't right coming from a girl'z lips... #NotSexist\",\n",
       " 'RT @Manami_Fox: @freebsdgirl @femfreq Like your picture? HAhaha nice skin and hair ya slut.',\n",
       " \"@EmmaSlutWatson oh you dirty bitch me and my friends are going to fuck all your holes till you can't take no more… https://t.co/zx8MJn5oJb\",\n",
       " 'The truth hurts ... the @gop of late is a party of pussy grabbers, pedophiles and whore paying Christians. https://t.co/5W5M5uEOCt',\n",
       " 'cormacs such a cunt won’t even let me squeeze his blackheads pussy bitch',\n",
       " '@DouboTreCinco aye I already know where you stay while you retweeting shit WHORE',\n",
       " 'I scream \"WHAT A DUMB CUNT\" at the contestants on #MKR way too much for someone who just over-salted a cucumber.',\n",
       " \"RT @FrankWorleyPR: Ten things #feminists really don't care about http://t.co/0iDiNJgljE\",\n",
       " 'OKLYNTUFKITNG HODKW IM FHJS FUCKING WHORE IM AJUST A HOLE https://t.co/lsFubZoJA7',\n",
       " '.@WayneJBurrows @adriennecgomez @ListenToRaisin ...feminism would only have a name issue.',\n",
       " 'RT @fee_bee_63: Who was responsible for convincing these girls they were so pretty? #MKR',\n",
       " 'RT @AnimeMae: I HATE THESE GIRLS SHUT UP AND STOP CALLING YOURSELVES PRETTY AND HOT #youredreaming #notevenpretty #MKR2015 #MKR',\n",
       " \"@sooze8968 @UndercoverMutha Not fascism, no no no. Just 'common sense nationalism'. What are you: some kind of leftard feminazi?!\",\n",
       " \"@secretstranger9 @dyro874 That's a butt-ugly woman, and I mean that in the nicest possible way Ma'am.       🤢\",\n",
       " \"RT @nikeenan: @YesYoureSexist look guy, every man has look at a woman's ass at one point or another I his life.\",\n",
       " 'Conte being a little bitch as per. Get sacked already you average cunt 🖕🏻',\n",
       " \"@Baddiel I don't mind her saying she's a whore, but the implication regarding other women and #MeToo goes beyond the pale.\",\n",
       " \"@wedancedonce #mkr purposely pick slightly unattractive girls who're besotted with themselves. Makes good television lol\",\n",
       " \"@elliextaylor She clearly deserves better if that's how hes gonna act. Hes turned into a bitch. Funny how girls stay loyal mostly but boys always get tempted\",\n",
       " 'Roses are red, violets are blue. You a bitch ass hoe, and yo momma one too. @sha_babyy17 Yeet',\n",
       " '@godlyxeli you’re: that bitch',\n",
       " 'So those blonde chicks are gone, yayy #mkr',\n",
       " 'Yo i hate being a freakin woman where can i grow my new dick',\n",
       " '@KEEMSTAR your a cunt and you are a pussy for blocking me. Fight simon. Prove your not a bitch',\n",
       " 'God fucking forbid someone offend any fucking one on this planet. Idk how our species will continue when everyone is too much of a fucking cunt bitch to speak their minds @instagram please add a filter to this so it can be friendly',\n",
       " \"I have never once met a woman whose mouth wasn't totally full of BULLSHIT. Stupid bitches!!\",\n",
       " \"Well, I don't know anymore. Hard to see the upside of someone so emotionally cold. Who is also a feminazi who dominants guys/manginas.\",\n",
       " 'How much gobshite can that #katesmurthwaite create? Gobby woman, feminazi does she ever come up for air?',\n",
       " \"@AgendaOfEvil Ironic, since Muslims rape, show up at strip clubs, but if a woman is a prostitute she's deserving of… https://t.co/FQuFOeBH1T\",\n",
       " 'how u gonna talk about how men r trash and rape culture but u out here laughing abt a girl u hated in high school getting raped bitch fuck u',\n",
       " \"RT @NotA_Misogynist I'm not sexist but girls get more attention when they tweet, thats why they have 832057238K followers, RTs and faves\",\n",
       " \"@CampbellPaton I'm not sexist but the Canadian anthem should not be changed... It's tradition we all know now that men and women are equal.\",\n",
       " '@BrosukeH why? whats your problem\\nwhy would you have feminazi retards as friends',\n",
       " '\"Women\\'s bathrooms are so much worse than men\\'s.\"  Everyone agrees. #fuckthanksgiving',\n",
       " \"Everyone makes mistakes. But only women don't admit theirs #WomenSuck\",\n",
       " \"@HillaryClinton 'a cold, conniving bitch' and a lesbian... sorta explains why married women voted AGAINST YOU... SCHADENFREUDE reigns https://t.co/oJ5OCMtBuy\",\n",
       " '@charlyne_yi no its for women who are being a fucking bitch',\n",
       " '@callmemrcarter: I hope Kat gets Ebola and then hit by a train followed by a smack in the ugly face with a shovel #mkr #katandandre #mkrkat',\n",
       " '@DebbieDoes69 going to bring your Slut whore ass to the states',\n",
       " '@RepWilson How does a wretched ugly BITCH show joy at being a wretched bitch. Wilson crawl into ur hole & disappear',\n",
       " \"@RyanAFournier She's an uppity racist bitch and those women are stupid for being there and giving her the time of day.\",\n",
       " \"RT @sparks_her: @sammuraishawty Cause you are just as wrong as them but want rights at the end of the day i'm no sexist but i'm not for fem…\",\n",
       " 'RT @MKriegbaumJr: Call me sexist, but if you need a specific training segment for coaching women, it defeats the purpose of equality across…',\n",
       " 'RT @athenahollow: @freebsdgirl He REALLY picked the wrong women to go after me thinks.',\n",
       " 'THIS FUCKING BITCH LOL',\n",
       " 'Real shit like stfu and eat my pussy since u care so much',\n",
       " '@RepBarbaraLee Fuck off, you race pimp. #LiberalismIsAMentalDisorder',\n",
       " 'WHAT A DUMB BITCH #MKR',\n",
       " 'RT @smoovfellow The only thing a woman should help a man build is a relationship #tbh #nosexist',\n",
       " \"RT @Heeg5 I'm not sexist but I stand by Chris Paul, the woman ref made a bad call and couldn't take the scrutiny part of her job.\",\n",
       " \"RT @The_Loki_Jotunn: @MT8_9 Screw feminism &amp; the sexist legal system it's directly responsible for creating. This piece of human garbage ne…\",\n",
       " \"RT @Jrod__RigueZ I hate when women talk football but don't know what they're talking about It's only cute when you know your shit! #NoSexist\",\n",
       " 'This ignorant bitch, @HillaryClinton, should know. How many women did she destroy to protect that predator husband? https://t.co/G51IqX9yKp',\n",
       " \"Big difference between Sassy and Trashy. Sorry girls, you couldn't even work a can opener. @mykitchenrules #mkr #mykitchenrules\",\n",
       " \"RT @harrymeisel Call me sexist but a pack of girls skateboarding might just be the weirdest thing I've ever seen\",\n",
       " 'It’s hysterical how much you bitch and complain over something so stupid. Don’t have to catch an attitude every 5 fuckin seconds.',\n",
       " 'RT @queenofdragonsb: Pls shut the fuck up bitch',\n",
       " \"Yes, WE'RE ridiculous. Rofling irl holy shit @noshirtkurt_ Feminists are ridiculous.\",\n",
       " \"ESPN doesn't care what you think. @Andrew_Doe24 I'm not sexist but female sports reporters need to come to an end. Immediately\",\n",
       " \"@talipann bitch I'll beat your ass\",\n",
       " 'RT @schmeezi Again and again I am reminded harshly that having a women boss truly sucks #sorrynotsorry #itsfact #notsexist',\n",
       " 'RT @ColdKurd: #Kobane #YPG\\nI think that hair salons very busy right now ...\\nMany people want to shave their beards #ISIS',\n",
       " '@vanbadham @TheFeedSBS Look I think you\\'ll find the real issue is \"hippy feminazi sociopath parents\"... Uggh. I can\\'t believe these are real',\n",
       " '\"@Transic_nyc: What do u think her punishment should be? http://t.co/ZDqmVf9K9U #QuestionsForFeminists\" #QuestionsForMen #QuestionsForWomen',\n",
       " \"RT @BastendorfGames: @YesYoureSexist No, I'm not, you cock sucking twink.\",\n",
       " \"RT @WesJ14: I'm not sexist, but letting the red ranger be female in PRSS is just, not right. The red ranger is always a guy, no exceptions.\",\n",
       " 'What in the fuck is an #oomf? Well if it refers to women it sucks!',\n",
       " '@MGTOWKnight Feminists think very little of women, it turns out...',\n",
       " \"I saw a woman dressed up like a hot dog tonight. Bitch, it ain't Halloween yet\",\n",
       " 'I really wanna get a rich, married woman pregnant cause my kid deserves the best and a dad that actually cares',\n",
       " 'If the sassy models are really studying psychology they should know all about narcissism... #mkr',\n",
       " \"RT @FO7935: If you're a grown woman who hasn't gotten past your awkward teenage years of confusion and angst, you're probably a feminist\",\n",
       " 'That Emma chick from #MKR is a total #BumnyBoiler',\n",
       " \"I'm back in it bitch If the head game is right and that pussy feel good Throw a rack at that bitch\",\n",
       " 'you a stupid hoe you a you a stupid hoe',\n",
       " 'Fun Fact: Laurie Reynolds is a #StopRush communist &amp; a bitter feminazi http://t.co/SIF6n9f0D8',\n",
       " \"RT @nicolesantucci: That should wipe the smug smile off you're face Kat #rudebiatch #mkr\",\n",
       " '@MSNBC U people @MSNBC r pos. liars. More fake news. U should offer 5 women to Obama. w that skank wife he has he would take the offer.',\n",
       " '@totallyciara YES YOU DO GO TO BED HOE',\n",
       " 'Pray tell, when will \"ready\" be? Guessing \"never\" @AustinRaySmith I\\'m not sexist, but I don\\'t think America is ready for a female president.',\n",
       " 'RT @wiemanindenwald: @MT8_9 Feminism is a snoring issue.',\n",
       " 'RT @TooSexist: Feminists logic http://t.co/ZgvJRA73fb',\n",
       " 'RT @EmilyyLam: The highest score in history better be not be the blondes or Kat. #MKR #MKR2015',\n",
       " 'RT @facerealitynow: @thisonesakillaa I actually got an answer from a feminist today, a remarkably stupid one but an answer nonetheless http…',\n",
       " \"Love's a bitch..\",\n",
       " '@itsfordkath back too you slut',\n",
       " 'i hate those memes which go dear girls, stop doing ___ if you think boys like it because we dont like???? you fucking cunt you think i even spend a second of my day thinking about YOU or your dumbass preferences??? yall are dumb lmaoooooo women dont give a fuck about you',\n",
       " 'Via Anti-Feminazi http://t.co/W3vXLp6eiM',\n",
       " '@politicalcomic Oh pardon U R just a disgustingly fouled mouthed feminazi radical left winger? Less embarrassing to just say \"Democrat\"',\n",
       " '@Yrgirlnayeli bitch that hoe mad annoying like i fr logged of your twitter bc it kept going off',\n",
       " '@MelodyHensley @JeffSharlet @GQMagazine what kind of woman joins the feminazi cause?',\n",
       " '@KiloGG I used to jebait other people with that, you fucking whore',\n",
       " \"RT @Keerufudechuu: @freebsdgirl You're bat-shit insane to *allies*, and then wonder why you HAVE so few. That's why radical feminism has al…\",\n",
       " 'Since the feminists at #sorryitsaboy &amp; #everydaysexism NOW just LOVE \"jokes\" I thought they\\'d like this one...right? http://t.co/y5tE6iR650',\n",
       " 'これ、下水道も｢日本語音声/英語字幕｣だと、｢Oh wow. You scream like a fucking whore.\\nKind of a turn on to be honest.｣にはならない…？直訳だとどうなるのか楽しみ～😇',\n",
       " \"Eww these women are butt ugly lol I'm actually laughing my head of lol 😂#ENGCMR\",\n",
       " '@svg_shawty this bitch acts like single moms can’t date wtf. watch her dumbass get pregnant this year.',\n",
       " 'Bitch really said city girls better than megan 🤯😂😂💀',\n",
       " 'You mean before she sucked dick for fame? https://t.co/GSMTuhDugL',\n",
       " \"RT @joshpowers32 Look, I'm not sexist, but tell me you don't get at least a little nervous when you see a woman truck driver\",\n",
       " '@Mama_Bridgie This Meadowlands mama is just a \"pity party\" you gonna stop using a taxi coz some skank called you fat?',\n",
       " 'you coulda had a bad bitch /: @lizzo https://t.co/fIz24NJYiX',\n",
       " 'Your bitch a true thot had to let her go like a cool cop shoot u and put a hole in ur head like a juice box',\n",
       " 'RT @sports2inflatio: @lissasauras #feminism supported pedophilia, you will find people like me fighting against it. http://t.co/gLNCGkuukp',\n",
       " \"I have a stupid man crush on Lloyd and I can't help it. #mkr2015 #mkr #sexylloydmkr\",\n",
       " '@AnalBDSMPlaisir You have proper right for being anal whore!',\n",
       " \"I like to fuck meme makers and never talk to them again just so I can see the angry sub posts... I'm an asshole like that\",\n",
       " 'I’m so upset! I really wanted that stupid fucking bird! 😭😭😭 Ziriya baybe, I’m so sorry that an ugly ass bitch would even do that to you.\\nStupid fucking whore is probably gonna use it, ONCE without cleansing it before and after. Then fucking sell it for a hundred bucks on eBay',\n",
       " 'Harvey: Ugh! Just disgusting. Pedro: Disgusting are the illuminati women because they were fucked up in every hole.',\n",
       " '@easierthor he\\'s was like \"this fucking bitch\" LMAO',\n",
       " 'this fucking bitch beside me thinks my boss likes her better than me 😂😂😂😂😂😂😂😂😂😂😂😂😂😂😂😂 fuck off ahslynn',\n",
       " 'We should be running this bitch https://t.co/NSKfACMaBx',\n",
       " \"SO HILARIOUS U WRITE UR OWN MATERIAL? @JesseElJefe A lot of ppl call me sexist. But those ppl are women, and their opinions don't matter.\",\n",
       " \"RT @omahajon Don't get your pants in a bunch. I'm not sexist. But in this PC geekdom world, heaven forbid if you disagree.\",\n",
       " '@Yami_Riki I forgot I’m your lil whore 💗',\n",
       " 'did i really just get called a feminazi',\n",
       " '.@NatalieTudor Agreed. I just hate that society is so economically illiterate they blame sexism rather than capitalism for those questions.',\n",
       " \"@maaac_daddy @N0_Pomo_ @LukeDuffy4 @Purr_Gande Oh gosh, its banter, dude. And I'm a girl bruh but sure kick  #feminazi\",\n",
       " \"I would slap the smirk off Kat's face  #MKR\",\n",
       " 'I\\'m still bad at flirting with ladies. My game ends at \"how YOU doin\\'\"\\n\\nWhereas w/dudes I just demand their commit history. #everydaysexism',\n",
       " 'OK @Krygier_Lilly Call me sexist, but most people I have muted on my twitter are women.',\n",
       " '@DaftBrian Is that what #AskHerMore is?',\n",
       " \"I'm such a little pussy ass bitch on my period what tha fook\",\n",
       " 'k i come on to twitter to make fun of you but i dont fucking need to bc you do it yourself fuck off cunt hole https://t.co/RINV9CFgOz',\n",
       " \"RT @schmeezi: @YesYoureSexist i didn't even say why it sucks let alone that I undermine her authority. Assume much? Congrats4going a step f…\",\n",
       " \"RT @AriaAkariCo: @YesYoureSexist @IWUWildcat85 nice meme you fag, it's part of mythology and making a female Thor is an retarded try to car…\",\n",
       " '@annmarievazja Skank man .. you got!!',\n",
       " \"No you're not a feminist. You're a FEMINAZI.\",\n",
       " \"When you're in love with her and find out she doesn't do anal so you're gonna have to cut her loose https://t.co/IS5fkgJ7is\",\n",
       " \"cuf yo boy and yo girl Have you heard ‘pull a bad bitch’ by Reese's stuffed with on #SoundCloud? #np https://t.co/7lWhxofn0q\",\n",
       " 'Someone get Kat a straight Jacket!! The bitch needs some time in a padded room!! #mkr',\n",
       " 'So he called women who stuffed their faces fat, Jamie C a cunt and wanted to fuck Girls Aloud.. in 2002. BURN HIM AT THE STAKE #LooseWomen',\n",
       " \"knuckle up cause I'll fight for mines Yo pussy petty, U wasting time .. U seasonal, part time U get fucked up fuckin w/ mine U lil bitch\",\n",
       " \"RT @littlebrinks2 You can call me sexist or whatever, but there's just something bout women drivers that bug me\",\n",
       " 'Im deadass so annoyed 🙄 i don’t get why people who talk so much shit about the boys pretend to be their biggest fans and say “ I deserve to meet them” like no bitch get the fuck over yourself and stop pretending',\n",
       " \"RT @Riic14 I'm not sexist, but more women know what DIY means due to arts and crafts. Lol\",\n",
       " \"'Your dick too small' Bitch first of all your pussy too deep https://t.co/zKIMmpwe2T\",\n",
       " '@Zaddy__Zayn @Noleen_ZjM @anupamae hoe you dont even know??Tragique....add me back',\n",
       " 'Giving You A Sneak Peak Of Her Hot Little Cunt Hole https://t.co/Mr8x6U401m',\n",
       " '#KCA #VoteJKT48ID AusPolQuestTime: Meh Ash and Camilla .. not a big fan of them much... mostly deluded #mkr #mkr2015',\n",
       " '“Rape by Fraud” Feminazi Strike Again http://t.co/ppcm8jt8cY http://t.co/0Yml1SCMNY',\n",
       " '@NotChrisSmith Is the fact that women are asked that question \"sexist\"?',\n",
       " \"RT @SxFlint93: @YesYoureSexist well I don't followyou you so stop trolling.You have tohave something better to do then to look up sexist tw…\",\n",
       " 'My mum & dad fired me when I was 2. Didn’t make me bitter & twisted the fucking slag whore gay cunts #TheApprentice… https://t.co/93xWQ3hpld',\n",
       " '@WildeFreedom @CNNPolitics Really do tell! Hysterical? Strange tweet you got there. Hysterical is supporting POS #4… https://t.co/Cr9z3LZqT0',\n",
       " '@bryanokwara this your whore you going to marry and lie to me about will never marry women who show body to public https://t.co/SjGh4daeuA',\n",
       " '@spinnershells fuck you, you racist bitch, and cunt piece of shit, glad we know now where your entire family stands on social issues',\n",
       " 'Why does it look like her pants are falling down or are they tights as pants? #mkr',\n",
       " 'It kills me when men say women should take \"I\\'d fuck her\" as a compliment and not objectification when men will literally fuck an apple pie.',\n",
       " '@Hambone108 why do women have holes? To fill, duhh!',\n",
       " 'Why is this bitch texting me in all caps tho',\n",
       " '@Gregco5088 This cunt? Probably blames women for getting raped',\n",
       " 'Some of you bitches should be puttin coconut oil up your vag with ya stank ass twat',\n",
       " \"RT @iHateJono: Whos idea was it to hire a female as an NBA assistant coach. Man that is ridiculous, not sexist but that's not the place for…\",\n",
       " 'Then da cop decides to get in da car and try to make da girl suck his dick in da backseat for what reason Idk smh had to beat this nigga ass',\n",
       " '@SumbelinaZ @IronmanL1 @Hatewatch Sorry bitch, you did your research in your own asshole.',\n",
       " \"@melaniedrinnan feelings mutual mate, just gonna give up on feminazi's like yourself\",\n",
       " 'RT @Grasspunch: @YesYoureSexist good I hope so. #InvertedAndInserted #SheWasTouched #TeamLeftItIn #Grecklodon',\n",
       " 'Sympathy levels rising.... \"We\\'re still two hot blondes\" &amp; it\\'s gone... #mkr',\n",
       " 'A woman talking about equality is a \"feminazi\", a man joking about rape and sexism gets a show on tv #justsaying',\n",
       " 'Getting called a CUNT because I am the type of woman who mouths back to a disrespectful twat of a guy',\n",
       " 'One of my exes has become a feminazi that believes in homeopathy, I think her bitch ass beta boyfriend is to blame',\n",
       " 'Sucks to have the smile wiped off your own face huh Kat? She in a glass house should not throw stones. #mkr  #mkr2015',\n",
       " 'They are really proving they are dumb blondes #MKR',\n",
       " 'Is Kat Strategic or Just a Sore Loser? http://t.co/RqnfrB5uYF #MKR',\n",
       " \"Judging by your username alone, yeah, you are. @skateparkslut I'm not sexist, but I really dislike the majority of teenage girls\",\n",
       " \"JUST FELT THE NEED 2 EXPRESS THIS 4 SOME REASON @benjorrell Don't get me wrong I'm not sexist, but seeing female engineers on site is weird\",\n",
       " 'Ah feminism is still going strong, \"At least we\\'re still two young,hot, blondes.\" #MKR',\n",
       " '@DonCannon @DJDRAMA Ole fat neck ass nigha . Release the motherfucking song ... I’ve had it with you cunt holes',\n",
       " '@ryxter5 Im not sexist but the woman who hate men stareing at their breasts are the ones who wear tops 2 sizes 2 small!! Actually annoys me!',\n",
       " \"@ReaverBait @GrnEyedMandy why don't you go choke, one less feminazi troll in the world.\",\n",
       " 'Kat is such an awful bitch!!! #mkr',\n",
       " '@lexxynichelle So this bitch blocked me but check her pinned tweet out, she is accusing men of rape on tumblr with… https://t.co/bX0V5V7kQU',\n",
       " \"Maybe she'll have cleats on. @tbowditch12 Call me racist, call me sexist, but every time Olivia Chow talks in this debate, I wanna slap her.\",\n",
       " 'Sitting on steps is always massive turn on for those watching. Good girl #stephapproves #slut https://t.co/bdrpSXaZWq',\n",
       " \"RT @lennyfinnegan2: I'm not sexist I am sexist I'm not sexist oh wait I am no I'm not whoa whoa whoa @yesyouresexist who knows if I am or n…\",\n",
       " 'RT @glamadelaide: Fringe Review: Kirsty Mac- Feminazi  http://t.co/oTJRrspUUB #Adelaide #ADLfringe @MacKirstys @gluttony_fringe',\n",
       " 'RT @missgypsyck: Sassy.. More like trashy #MKR2015 #MKR',\n",
       " '1 really Kat and Andre?Good luck girls:) #mkr',\n",
       " 'i just had the rudest fucking bitch cunt on the phone to me at work and i want to push her off a cliff n jump on her ribs . Ent phased',\n",
       " \"You're such a bitch! Stop being such a FRIGGING SKANK and give him back!\",\n",
       " \"some girl really tryna pick a fight bc I was 'standoffish' at a conference. bitch I'm workin\",\n",
       " \"RT @DieselxNash: @ReaverBait @GrnEyedMandy why don't you go choke, one less feminazi troll in the world.\",\n",
       " \"RT @firex21566: When feminazi/anti-gg cry about video game's being bad and GG is a hate group i'm like....#GamerGate http://t.co/9ZO2ZUWj1n\",\n",
       " \"@g56yu @JillFilipovic @rsmccain @ShunCampusWomen There's a difference between a feminist and a feminazi. Fools call the latter the former.\",\n",
       " \"You ever look at someone and think 'yeah Ima fuck you'\",\n",
       " \"WOW can't believe all these women riding the subway today? Shouldn't these bitches be making sandwiches LOL #ihatefemales..\",\n",
       " 'if the temp is 50 degrees & up in the fall time🍂i will always wear shorts & booties. call me a slut, hoe, or whore idc🙂',\n",
       " \"Anyone else notice that all 3 of Katie and Nikki's dishes were based on them being sluts? Sausage, cock and tarts? #MKR #MKR2015\",\n",
       " 'RT @gater_ebooks: You Big Government, anti-freedom fucks are why I am in favour of fat shaming',\n",
       " 'ok so this is my missing yoonmin tweet : i  miss yoonmin come home bitch #Uh_Oh #G_I_DLE @G_I_DLE #여자아이들',\n",
       " '@srhbutts @ThatSabineGirl \"yeah this sounds like a thing a feminazi would say.  #nachoshield\"',\n",
       " 'RT @NatalieTudor: @melisssugh @MT8_9 @Republican_Mrs feminists believe that the existence of a rape culture is solely down to the \"patriarc…',\n",
       " '@husska89 go rape your whore of a mother',\n",
       " \"'Feminists have been stigmatized as hysterical women for a long time' Olga Marin, FARC #GVAPeaceWeek\",\n",
       " \"Wow that is actually the stupidest thing I've read all day. @hashtag_fritch Swear I'm not sexist but boy meets world &gt;&gt; girl meets world\",\n",
       " \"Last I checked men HAVE THE PENIS and women DON'T. I Won't say it again but THE DICK IS ALL THAT MATTERS #MensRights!\",\n",
       " \"RT @taxo__: Her:I don't get what u want outta this relationship Him:Well, I was only looking for a bj but u kept coming back https://t.co/l…\",\n",
       " \"WOW TOP SHELF HUMOR @arabdizzle What's the point in having a cleaning lady when I have a mom and a sister? #NotSexist\",\n",
       " 'Talmbout. I was always feeling lmaoo bitch shut up and drop that baby fat before u try and jump on this dick. It got a Weight limit',\n",
       " \"@StevensFarm @MIAA033 Hysterical. And pathetic. She won. Flat out. Bunch of crybabies won't let a girl beat boys? BS\",\n",
       " 'Some cunt at Walmart went full psycho on me saying how she had no fucking space to put her shit bitch ur taking up the entire conveyor belt',\n",
       " \"RT @SexualTruth: Men are smarter than women that's why women always get played by men. #Truth\",\n",
       " \"@3L3V3NTH And what's with that butt ugly dress?\",\n",
       " '@thebradfordfile Sweet. Broke-assed bitch will shut her jizz-hole for once. Once.',\n",
       " 'These Blonde girls are full of themselves they should just leave #MKR',\n",
       " 'And look at this shit. LOOK YOU SLUT. Stop distracting yourself with your flavored dildos and LOOK. LOOK YOU FUCKS. LOOOOOOOOOOOK!!!!',\n",
       " '\"\\'There\\'s nothing worse then a feminazi!\\' You know what\\'s worse? Nazis.\" -Robin Tran',\n",
       " '@chAinedDesiress I know you do, slut https://t.co/Q39cuUKocS',\n",
       " \"RT @Bene_TheJet It still bothers me that Cammi Granato got in the hall of fame before Adam Oates. I'm not sexist but really?\",\n",
       " \"@Twatchkee he fucked a cousin and kicked a woman out for refusing to suck his dog's dick. #coon\",\n",
       " 'alright ms bugs life built headass now tell me how shes a skank bc apparently you you know my bestfriend better tha… https://t.co/X7lymZTXon',\n",
       " 'someone: not all men - me: yes, you are right. lee everret would not do this',\n",
       " 'Sexual harassment/sexual assult/rape are NOT & NEVER ok As a man, I stand with every single woman whos been through this ✊ #Respect #MeToo',\n",
       " \"'I don't take bitch or slut as an insult.'\",\n",
       " 'Because no one likes being a stupid bitch, alone..... https://t.co/Z7xhwpgkWj',\n",
       " \"You're fucking hysterical, I don't know if I've ever been in a ts channel with you where I was laughing my ass off,… https://t.co/Ee3OkQ9y66\",\n",
       " 'Stupid ass bitch unfollowed me LMAO',\n",
       " \"@Scrimshaw9 @Ahhmandah straight to 'cunt'? Over.. what exactly?? cause a woman online posted something you dislike… https://t.co/MyLrhWeVCx\",\n",
       " '@Onlyyaelin_ @_celesstee So you just want money skank',\n",
       " 'Hating men is an important part of feminism why cant these men serving brats just shut the fuck up',\n",
       " \"RT @MensHumanRights: .@CBCToronto This drunk woman legally knows better than to endanger lives driving drunk but, can't decide whether or n…\",\n",
       " '@AnnCoulter @DonaldJTrumpJr Yes yes Ann, lets continue to perpetuate the hysterical woman stereotype. Such a shame. You dont deserve your position of power. A disgrace to fellow women.',\n",
       " \"pepperspray or smth, if you dont protect yourself dont be surprised if u get raped :/' like bitch maybe just teach men not to rape women\",\n",
       " \"I hate When girls don't wanna start anything cuz they don't wanna ruin your friendship I DIDNT WANNA BE FRIENDS FROM THE START #WomenSuck\",\n",
       " '@comattwow @ChubsSays I remember/respect your story but, no...convo was about feminists opposing common sense preventative measures.',\n",
       " 'RT @jimanish: #BlameOneNotAll is just a rehash of #NotAllMen, right?',\n",
       " '@catarybertt @lorexplo #feminazi detected',\n",
       " \"@JudgeJeanine Crawl back in your hole, you're nothing but a fame whore tv judge\",\n",
       " '@Noremacsmada She’s a whore',\n",
       " 'RT @aussie_gal27: #katandandre gaaaaah I just want to slap her back to WA #MKR',\n",
       " 'Cuffing is not DEAD If everybody stop being a hoe then you can cuff 🤷🏾\\u200d♂️😅 But nahh being fuck Buddies in style at #myasu https://t.co/3d4mo2YZvS',\n",
       " 'RT @ShitMyPants11: Only a fraction of women are crazy. That fraction is 100/100.',\n",
       " 'The menus look like they were made by a 5 year old little girl...in this case just the mental age of a 5 year old girl I guess #MKR',\n",
       " 'Ugh. Fuck off Kat. Your turns next.  #mkr',\n",
       " 'ROFL.. When Kat said she was humiliated... Hubs voice from the corner of the couch  \"Good\"\\n\\nHe really doesn\\'t like her at all #MKR',\n",
       " 'Wonder what bitter FemiNazi wrote that RT \"@totalgolfmove: Proof that you can\\'t please everyone http://t.co/XolrT1cQeX\"',\n",
       " '\"u fuckin\\' faggot bitch\" aHHHHHhhH',\n",
       " 'I just need one kitty one butt hole to lick one person to be my NUMBER ONE FAN& support me I just need a bitch to be my peace just ONE 🤷🏽\\u200d♂️',\n",
       " '@RageGearProps Um excuse you I am a twank, a twink and a skank',\n",
       " \"RT @Shahan_Amin: What did the doctor say to Sarah Silverman's parents? #SorryItsAFeminist\",\n",
       " '@jrosejunior1975 You toxic skank Becky! https://t.co/c7v83g5XP7',\n",
       " '@GhostofGigi Are you calling me a Twitter Whore? Kiss indeed..',\n",
       " '@AnnCoulter @DonaldJTrumpJr If anyone would know about hysterical women, it would be you btch',\n",
       " '.@BlackOpal80 Realized then that selfish hypocrisy is the crux of modern feminism, not equality.',\n",
       " \"RT @mshaysoul: Don't call yourself a bitch then say a man can't. Don't call yourself a nigga and say a white man can't.\",\n",
       " \"Literally just saw a 10 year old girl wearing a shirt with sparkles that said 'doing my best' fucking same bitch where'd you get that😂😂😂👽⚠✖ https://t.co/24tSFVM9Ps\",\n",
       " 'What the fuck bitch! I need more followers 🙄 i don’t even be on here but shit show me love or some',\n",
       " 'Is this serial killer cunt whore for real? https://t.co/GC81dS66gU',\n",
       " 'It’s like women can’t wait to be a hoe when the relationship ends',\n",
       " 'Y’all really crack heads out this bitch',\n",
       " 'just another day of being a dumb fucking bitch who fell into wet asphalt',\n",
       " \"@Nk_t_ko I'm not sexist but women shuld familiarise themselves wit the pots after all a way to a man's heart is thru the stomach #JustSaying\",\n",
       " '@xxxfurrygirl @AlwaysBeAPet101 I love playing with your ass will you rid my cock and I eat you out https://t.co/PyN97M8v37',\n",
       " 'IM SICK BITCH https://t.co/Wj0hJI9w39',\n",
       " 'RT @sales88194029: The face of very ugly promo girls ! Faces like cats arsehole #mkr excited to see them@go down tonight...literally http:/…',\n",
       " \"Nothing pisses me off more than when skinny girls tweet shit like 'Fat Girl Problems' #WomenSuck\",\n",
       " 'I would tag your stupid ass but you bothered and blocked me, so should I tag your new bitch? 😭😂',\n",
       " \"I simply said, I like someone's boobs. Now, that flat-chested feminazi went on about objectification, sexualization, yada yada yada.\",\n",
       " 'RT @M3gaToxic: @TheSavageHelios @gamespot Yep. Not sexist but women need to chill out. Us guys get called many things online and we just br…',\n",
       " 'Go girls you got it go gueensland and stop being mean Kat and andre #mkr',\n",
       " 'Calling me a \"feminazi\" doesn\\'t offend me at all lol y\\'all dumb',\n",
       " 'No one cares what u think. @GND_BDURHAM: Call me sexist, but heels &gt; no heels. Sorry ladies. Also nasty nails = vomit. Look clean at least.',\n",
       " \"@ThelmaSleaze uh... did you watch the video? one of the women talked about how it's assumed she's angry because she's latina.\",\n",
       " \"@drayzze omfg!! and I did not know a man could have a camel toe  but it's there ladies  hahaha https://t.co/CO5MXCiT2Y\",\n",
       " \"Can't wait for the VIC girls, Ash &amp; Camilla to wreck Kat's ass . Like girrrrl, learn manners and etiquette #mkr\",\n",
       " 'RT @Isaac_F97 Not sexist but why do girls talk football, do i put on your tl which mac product to buy? no stay in you lane',\n",
       " '@Minaj_QueenUK Whoever sent this rude ass message to you is a fucking cunt. You cant just get over your grief, especially with your mother. I mean for fucks sake, you spent nine months inside that woman. Mourning can last for a lifetime, especially with y',\n",
       " \"RT @taxo__: Snapchat me that PIN number, if it's... cool😅💳 #memes #lol #lmao #bruh #petty #truth #girls #love #guy #ctfu #dead #fuckery #pe…\",\n",
       " \"Still find it stupid how Zephiel wasn't even sucking dragon dick\",\n",
       " 'Who was responsible for convincing these girls they were so pretty? #MKR',\n",
       " '@TammaraMaiden1 @AdamShah1972 @TracySorrell1 @SenRandPaul @Ross_7_7 You just cant handle the truth obviously feminazi!',\n",
       " 'RT @ThumperBryan Women vocalists in rocks music... thoughts? Me personally prefer men singers, seem to have more passion #NotSexist',\n",
       " '@AnnCoulter Most Hysterical Woman? Way to apply a type of feeling to a specific gender. That is an absolute disgrace to insinuate that 1) Woman are Hysterical and 2) being called a woman is an insult.',\n",
       " '@AnElegantMinx Hips pushed forward, cock immediately entering her tight cunt and that obviously caused the Wookie to groan aloud.',\n",
       " '@JessicaValenti Exactly. I posited it was less bias about ‘good family’ and more about the value of a male’s life over a female’s.',\n",
       " '@AnnCoulter and you are competing for the ugliest nastiest SKANK in America.....',\n",
       " '@beefy_girl hey bitch stop selling yourself to @INCIndia run cunt run https://t.co/3fGwEW8Loa',\n",
       " 'RT @allen_theshift Some girls should not wear any type of tight clothing',\n",
       " \"#MKR Awe never mind - there is always that illustrious Victoria's Secret modelling career Nikki...oh you model for Target. My bad.\",\n",
       " 'RT @asyrfmzlan Girls should know guys over protective with his thing, especially his girl. He doesnt like sharing',\n",
       " '@ItsNikG And you deleted your tweet you pussy shut up and take your pills old man',\n",
       " \"@ChrisCuomo @NewDay you leftist gimps are hysterical. I'd call you a lemming but that would be an insult to lemmings...\",\n",
       " 'But sexism is totally over, laydeez: http://t.co/nvFHi52cgy',\n",
       " 'There are good men out there women stop accepting ass holes that appear to be right.It is a excuse to turn lesbian cuz of a no good man.',\n",
       " \"@ValerieInsinna I thought the whole movie is about gaslighting/making women think they're hysterical/generally deny… https://t.co/daf33LyJZ7\",\n",
       " 'Hollywoods newest Feminazi movie remake will be titled \"Ben Her\".~Me',\n",
       " '@AnnCoulter Really, Ann? Hysterical woman? What is wrong with you?',\n",
       " 'I gotta stop posting about not wearing condoms cause these bitches is startin to make me wear condoms',\n",
       " 'Kat the contradictory cow. Says she regrets voting strategically but does it again #mkr #mkr2015',\n",
       " \"Fuck slut for @realDonaldTrump 'daddy' Laughs. Slut cunt https://t.co/QeUlrcCWJR\",\n",
       " \"This kid too much of a bitch even do shit on his own He's gotta get some stupid ass whores to do his shit for him\",\n",
       " 'Man so why I was drunk last night and my mom was at work texting me and asked me to make her some noodles she was about to get off so I fell asleep on purpose she talking about I was like I know this bitch ain’t fall asleep that quick 😂😂😂 why I gotta be a bitch doe',\n",
       " \"@marvin_emily 'Getting lit off trays of fucking Molly you mermaid loving slag' - the only true response to give her\",\n",
       " \"RT @cheuya: Women who disavow feminism in the name of ~advocacy~ for ~men's rights~... http://t.co/ZyhosbrFFf\",\n",
       " \"RT @1Terror409 Women's sports &lt; staring at a blank TV screen... Not sexist but can't seem to get any enjoyment out of it\",\n",
       " '#MeToo women always blame men for everything . How about not dressing like a whore?',\n",
       " 'RT @pwreclive: @YesYoureSexist taking it way too personal yo',\n",
       " 'I wish u would stfu guilty hoe',\n",
       " \"RT @Peggy_Olrenshaw Ghostbusters 3 with an all female lead cast will not work. I'm not sexist, but it's simply a bad idea. Lost interest now\",\n",
       " \"@senji @KTTunstall Actually I do think women should be reclaiming 'cunt'. It's past time.\",\n",
       " 'lmao as if this cunt gives a fuck about women with anxiety https://t.co/T2soHcAF4u',\n",
       " \"RT @JackofLondon: “@myallsw: Nice arm pit vagina #MKR http://t.co/sv9HLKQ2aM” It's deconstructed.\",\n",
       " '@augietwt just stop before you make it worse. eat your cock and pussy',\n",
       " '\"Fukken anita sarkesian doesnt allow responses to her videos!! Feminazi!!\"\\n\\nhttps://t.co/WNAmh7HCTv\\n\\n*gets blocked by roguestar, AGAIN*',\n",
       " \"RT @Te4m_NiGhtM4Re: Apparently I'm sexist. Time to make my gf quit her job so she can clean &amp; cook. Not to mention use her as meat 4 sex ri…\",\n",
       " 'Real old whore slut and granny with thirsty vagina https://t.co/8M6jsVWvro',\n",
       " '\"what I see as a fact\" rofl @aliffabr Emotions get in their way far too often. I\\'m not sexist, I\\'m just stating what I see as a fact.',\n",
       " \"RT @IMrTrippy: @IronCurtaiNYC @YesYoureSexist I'm all for equal rights, just annoying that they complain about things that don't matter is …\",\n",
       " '“@emmadaisy___: They won\\'t mind if it\\'s not perfectly presented.\\n\\nReally girls? Really? #MKR” says the girls who are \"All about pretty!\"',\n",
       " '\"Hoping the girls will pull something out\" Seriously no one deserves that #MKR',\n",
       " '@AtticusGF Bc it fits the sexist narrative that men are the true victims and women are hysterical',\n",
       " '@tedcruz fuck your life jump off the rmpire state building and impale your self with everybodyd hate towards you you stupid cunt',\n",
       " 'So bummed the dull chicks on #MKR are using such a great name for their restaurant. #Sassy #Iamlatetothepartytonight #IQ',\n",
       " \"'Cunt again? It was odd how men like Suggs used that word to demean women when it was the only part of a woman they valued.'\",\n",
       " 'Women who scorn other women for charging rape are what makes it hardest for women 2 seek help. We are half the pop. 2gether we rise. #MeToo',\n",
       " '@rabbfam93 @masonsmiff Yea you pussy boy like I said Ill get into your room if I have too !',\n",
       " \"@eisemad15 maybe if you weren't such a tease your mom wouldn't tease you #WomenSuck\",\n",
       " 'Please tell me why the bitch next to me in the piercing line is so judgmental about everyone she fucking sees. SHUT THE FUCK UP.',\n",
       " 'Western males &amp; females; bred to become #spineless potato &amp; #Feminazi. ✝ http://t.co/JYf0aMADpz http://t.co/UhycB07Zk4',\n",
       " '@DLoesch You forgot skank in your Twitter description.',\n",
       " 'Hysterical over here bc every bitch with eye liner & an iPhone 7 is a model now 😂',\n",
       " 'i swear to god if any of these people snapchat me dick pics they are getting posted on my site.',\n",
       " '@SOLOSEAVEY theyre both disgusting! bryce called my friend a whore and a slut when she told him she wouldnt have sex w him bc she didnt know him and she was 14 😭😭',\n",
       " \"@nickreviewsnews #BlameOneNotAll in the west, how aren't they? Don't men, in fact, have less rights than women now?\",\n",
       " \"@reneejess0205 @ColbyCovMMA The skank that looks like half man and half IT actually has the nerve to make fun of someone else's looks?!?! I can't make your kind of stupid or ugly up. Looks like your surgery was a success, congrats, dude. BTW, why do you f\",\n",
       " \"RT @kushkingmorris: I can't even sit down and watch a period of women's hockey let alone a 3 hour class on it...#notsexist just not excitin…\",\n",
       " 'everytime i reach the highlights of smut im reading me: ok hoe calm down calm down sit your ass relax its just a smut',\n",
       " \"You don't have haters, people just hate you, dumb dumb\",\n",
       " \"@women_trumpton Go fuck yourself Feminazi. Hope you and @WomenDefyUKIP both get raped by your precious Muslim rape gangs and Saville's ghost\",\n",
       " \"RT @mlktestbot: MT @aliennnqueen: Daily reminder that I 100% don't care about straight cis Jews's opinions on racism &amp; feminism.\",\n",
       " \"Voting strategically is not 'fighting hard' Kat. I don't like #Katie&amp;Nikki but I wish they pulled thru despite ur score #MKR\",\n",
       " '@archibaldcrane @LostSailorNY What a fucked up insult to MLK...wow.',\n",
       " \"Gals ❤ 2 holler ' I'm dat bitch' Well I'm tryna 2 b 'dat woman' Dat woman wit a college degree n money.Dat woman strong in her faith in God\",\n",
       " '#METOo 74% women admit to moral sex... Whore# https://t.co/oAWJpzoXwv',\n",
       " \"Follow my blog. See the men who *are*fighting for men's rights. #Zakatus #misandryisreal #teens #NaturalRights http://t.co/6n4V9kBtya\",\n",
       " 'MegynKelly is skank. Whore paid $$ for what? Only thing left to watch on .@nbc anymore is SNL. More truth to them t… https://t.co/Z6ZJWR2N0V',\n",
       " '@TheCaterjillar @Bohobookgrl @democracynow @TaranaBurke Hysterical screaming is what woman should try not to do - -cl… https://t.co/WjkRkhBGnt',\n",
       " '@liverbird17 @RespectableDenz @PissOffHon My nan was a cunt and nobody liked her. One woman cried at her funeral an… https://t.co/eV0QSFwcXq',\n",
       " 'its melting because you didnt put it in the freezer before you served it you dumb skank! #MKR',\n",
       " \"They're so bitchy! They're just saying whatever comes to mine, do they have no shame or filter in their heads? #mkr\",\n",
       " '@ZackFord @femfreq So stop crying and make some movies with female protagonists. Or is whining all you are good for?',\n",
       " '@aloshalbasrawi I am serious and sure that I want to put my penis in the hole of your ass https://t.co/LEhOciliLb',\n",
       " \"'aw, does the little slut love when mommy touches them? you're such a whiny mess right now. such a good whore for me, angel.'\",\n",
       " 'It’s hysterical that some1 as big as @KailLowry keeps filing PFAs. If I were the judge I’d take one look at her and say “bitch you good” 😂',\n",
       " '@AnnCoulter And here they are! The most hysterical women at the #KavanaghHearing!',\n",
       " \"Why did God create lesbians? So feminists couldn't breed\",\n",
       " '@itsgabrielleu happens to women everywhere, not only rape but sexual abuse and pple still ask what she did to provo… https://t.co/4SnwJWGSH9',\n",
       " \"CHORTLE @FollowFlow That blind date last night is why I don't do blind dates. All she did was call me sexist because I like being chivalrous\",\n",
       " 'Before bed I wanna give a shout out to the skank at #MescalColorado Yeah you could have approached me and told... https://t.co/JB5TdMQAbA',\n",
       " 'Crazy Uncle Joe.... Takes meetings with clowns....but never paid a porn skank.... https://t.co/ozkKZNjJRt',\n",
       " 'Why does kat always need to make big eyes? You freak me out witch #mkr',\n",
       " 'Talent- Fucking up EVERYTHING',\n",
       " '@DevonESawa I was gonna say, sounds like a dirty lie @IncredibleCulk would tell 🙄',\n",
       " 'Laying in my bed telling me not to suck your cock cause it smelled... we know why.. it was up some skanks arse before you came to mine',\n",
       " \"@smitty_one_each @KatiePavlich @rsmccain These feminazi's really have a great time redefining English to mean I hate men in 9000 words!\",\n",
       " '@xWildKitty @iball @Maxxllovesya @Twitch Or stop being a whore on twitch you rat',\n",
       " \"@DailyCaller Let's see... Rape woman then kick the dog. This fat pig needs to be neutered & hung in the public squ… https://t.co/AExJzqyLSd\",\n",
       " \"Women ruin everything. Look at the movie Ted. Everything was fine till That bitch from That 70's Show fucked it all up #WomenSuck\",\n",
       " \"I'm astounded women have to tell grown men 1) Don't drug us on dates 2) Don't send dick pics 3) Using power/position/fear isn't consent https://t.co/3KGrkG0yMO\",\n",
       " '#blackmilk #squirrelgirl #bmmechalegs #everydayrobot #howiwork https://t.co/OS7DgmWR0H',\n",
       " 'RT @MeninistTweet: This is disgusting. http://t.co/Yn6MQjy22r',\n",
       " 'There just horrible #lemontarts #MKR',\n",
       " '@UntouchableShe No, feminism lobbies to have equality vetoed, actually... http://t.co/ZsmzUXIbH5',\n",
       " 'RT @bazjayuu: @rachdancey @joanne_pardoe @tracci74 typical female, wants everything :-)',\n",
       " 'RT @WizardryOfOzil: RT @YesYoureSexist: \"Says more about you than about them. @WizardryOfOzil\" not when my opinion is abnormally popular.',\n",
       " \"RT @Connorsmart3: @rorybrown_mufc @YesYoureSexist Jealous cause they can't stand up while having a piss\",\n",
       " '@realDonaldTrump Really mr. grab em by the pussy? Yes, you do talk like that and you werent elected. Your were instilled by russia. Stfu you moron. Youre going to prison, Traitor Tot.',\n",
       " 'RT @TwoThug4U: @YesYoureSexist but honestly stereotypes are light-hearted and usually harmless. Let people joke around.',\n",
       " 'RT @Hdharris_irl: @raininblack personally I am just glad when they use the actual word and not feminazi',\n",
       " \"RT @sales88194029: Colin says the meat in the thigh was moist &amp; tender ??? Are you talking about the main dish or Nicki's thighs ? #MKR\",\n",
       " 'Sucked in Kat, you mole #mkr #mkr2015',\n",
       " 'In space no one can hear you bitch',\n",
       " \"I'm not vegetarian to an extent but eat anything but beef? No. @ConnorAPercival I'm not sexist to an extent but female rappers? No\",\n",
       " 'Tired of this bitch using bad pictures whenever they post seunghyun articles do better be like soompi bitch',\n",
       " 'Im already bursting into tears what the fuck bitch the love of my life will be there',\n",
       " '@kain_larsen @gigagiga333 Nope.',\n",
       " \"Especially old women who can't shut their pie hole.\",\n",
       " 'RT @OsmanMays Am I the only one who was never aware female pilots existed? #bumpyride #notsexist',\n",
       " \"Are some men actively looking to be congratulated for not abusing women? I'm confused about #BlameOneNotAll\",\n",
       " '@Jedi_sluts I moan as I watch your perfect blue pussy descend upon my big dick.',\n",
       " '@BrokeTilIGetRch @CriticalKaiju Nope.',\n",
       " '@SenKamalaHarris @maddow Is there a more stupid person in congress than dipshit Harris? This woman fd Willie Brown, thats gross. Total skank with the intelligence of a pollywog.',\n",
       " \"@She_TheWolf @brotheryellow Men are.  Women cannot be.  Feminism says that's equal enough.\",\n",
       " 'Nikki has massive #armpitvaginas #mkr',\n",
       " '@AmericanHotLips @DHSgov @FBI @Alyssa_Milano Skank you are already in the streets. Make my money whore.',\n",
       " '\"I am a Gangster\"\\n-4 min später-\\n\"What is bitch\"',\n",
       " 'GOLD @cartermontg Just heard someone say \"feminists are fantastic\". I\\'m really hoping I don\\'t hear that ever again. #notsexist',\n",
       " 'RT @metin_gozde I remember when I used to refuse to get on the bus if a woman was driving it #NotSexist',\n",
       " 'Anyways the big boobed bitch was also a lowkey whore but nobody knew except our mutual friend who had also told me what she had done',\n",
       " 'Trump is like those 90s cop shows, its ok for the cop to be butt ugly like trump but always has to have a pretty girlfriend wife or dead beautiful prostitute, all to rock music',\n",
       " '@p4ndiamond A known \"dudebro\".',\n",
       " '@dickbuttforever @Republican_Mrs aw such an intelligent tolerant feminazi 😂',\n",
       " \"@Amb_MSteiner #GermanProfessor gives meaning to term FemiNazi.Doesn't hire Indian Men bcz of Indias's Rape Problem.\\nhttp://t.co/zyvMzmeEA6 …\",\n",
       " '@VeenaMalik_Fans @iVeenaKhan randi ki nasal ....indian fucking bitch',\n",
       " '@TshepiVundla When a man ejaculates inside the woman you love, he should be decent enough to marry. I hope that cunt proposed!!!',\n",
       " 'you could have all the drip but if you butt ugly. gtfo',\n",
       " 'What phase of the moon do I need to jerk off to to get more dumb bitch energy',\n",
       " \"If you're a chick and I followed you back its only cause you live close enough to fuck ☺️\",\n",
       " 'And then some bent cunt turns up for a flyer.....last time on this shit hole!',\n",
       " 'STOP SAYING SASS OR I WILL PUT MY FOOT UP YOUR ASS #MKR',\n",
       " '@piperalex_ Unless cow tipping is classed as physical assault you should shut your fucking whore mouth, i hope you never show your face outside of whatever hole you went to hide in because frankly i would love to drop kick you off a fucking balcony xoxoxo',\n",
       " \"RT @Arab_kell: Leave the washing to mum because she's not a complete remtard #WomenEqualWashing #NotSexist #WellSlightlySexist #IMeanMumIsB…\",\n",
       " 'RT @MiracleCuresYou: Yet another #Gift; Erol sums-up the weaponised #Feminazi #paedophile-run system ✙ http://t.co/nR4V2EySOx http://t.co/a…',\n",
       " \"can't decide which is the most hysterical woman between you and Booker - the batshit crazy is strong in both of you. Taking lessons from old Pelosi?\",\n",
       " 'RT @genaro_m17 Girls should shave no matter what month it is',\n",
       " 'http://t.co/hKlr3dDNqY\\n@PolitiBunny @FemsHaveBallz\\n#IfWomenRuledTheWorld #FeminismIsAwful #feminazi #WomenAgainstFeminism',\n",
       " 'Slurp....#Coffee #MKR #MrBump #Relaxing #10ThousandStepsAgain #KillinIt https://t.co/gwoaRbVSUw',\n",
       " 'RT @messypixels: ORLY --&gt; \"I have done more for the cause of women in tech than almost anyone.\" #stopWadhwa2015 http://t.co/vGaOHhheQS',\n",
       " 'Just asked him if sexual harrasment n rape r even recognised as crime in Islam or if yes why only women is guilty… https://t.co/rQCvLK8Rf9',\n",
       " 'Feminism - Yes men and woman ARE equal but no, we’re not in a rape culture and no, not all men are rapist. Just stop.',\n",
       " 'If feminazis put the same effort into working as they did bitching about patriarchy then maybe they would actually deserve equal pay.',\n",
       " 'Plot twist: women do, in fact, like nice guys. Women do not like “nice guys” who call you a bitch for rejecting him after he was “nice.”',\n",
       " 'Let me make this perfectly fucking clear. Every female major target of GamerGate is seeing a fuckton more mentions tonight. #LawAndOrderSVU',\n",
       " '@benshapiro @JONEEFRY I cant believe you havent blocked that slimy skank yet',\n",
       " 'Some dumb bitch really sat on a “black woman are bomb” page and said that black women are copying Kylie’s braids https://t.co/dBHB9fbx5d',\n",
       " '#katandandre #absolutetwats #mkr2015 #mkr why would you be such dicks!',\n",
       " \"You're a horrible parent. @jrdrury13 Call me sexist but my son can do whatever he wants lol my daughter not so much\",\n",
       " 'I need someone to watch the tv show atypical on Netflix and talk to me about how much of a dummy cunt bitch the mom is in it please.',\n",
       " '@asr1018 @M_pritchh @angela_idalia Hey skank you wanna take a huge step back before we have to get everyone on your… https://t.co/U3zSojqdvG',\n",
       " \"*In class today* *Girl next to me* 'I hate how every girl dressed like a skank for Halloween' *Guy in front of me turns* 'IT WAS AMAZING\",\n",
       " 'RT @hsaymssik: Sucks to have the smile wiped off your own face huh Kat? She in a glass house should not throw stones. #mkr  #mkr2015',\n",
       " \"What the hell is this recurring weirdness @janicewidit I swear I'm not sexist but female chipotle employees can't roll burritos for shiizzzz\",\n",
       " 'RT @MensHumanRights: @MT8_9 @UndeadTurning @Mich_McConnell @Cerebrawl80 @TamedInsanity She doesn\\'t know cuz, \"Math is hard\" but, some Gende…',\n",
       " '@lacerci65 She is simply hideous! Good Lord, when you put her next to First Lady Melania, you can really see how butt ugly she is. Scary as heck😳',\n",
       " \"RT @GeorgeWorshingt  Call me sexist, but shouldn't everyone on the panel have either played or coached at the collegiate level?\",\n",
       " '#LateNightThoughts how many Congressman dicks did women suck to finally gain voting rights',\n",
       " '@Adrian357Adrian @ianlfc05 @ClinicalFirmino I have a big cock, doubt you can say the same',\n",
       " \"@AGVFoundation @Twitter Thank you. Not all men are bad. In fact, this isn't just a 'man' problem. I've had women sa… https://t.co/uGc7mP6vNz\",\n",
       " 'This bitch dead flipped a tweet to about rape for attention. I done really seen it all',\n",
       " '@imogenhowson LOL, you do dress like a slut :-) you look excellent.It entertains me that you have the slutty dressing covered while I do the slutty acting',\n",
       " '@QuazRoodt Basically, Women are the chicks, & Woolies is the #notallmen crew.',\n",
       " 'RT @Laarrma im not sexist. but... it does bring a tear to my eye when i see a woman successfully reverse into a parking space.',\n",
       " \"RT @MMMotorsports: @ChaseDahlaBillz @YesYoureSexist @keatonwessman @CJ_Obray Women drivers, what? I'd say we kick ass. http://t.co/3N77tA5Z…\",\n",
       " '@MidlothianPD To the girl cop who I caught looking through my window, While my car was parked. Suck my whole dick and die hoe.',\n",
       " 'Cat needs to understand that she is a terrible cook and needs to strategically vote herself out of the competition #mkr',\n",
       " 'Peter Thiel will always be a fucking bitch.',\n",
       " 'Those bitchin, big-noting #MKR babes need to fall into an oven, cook better or shut the fuck up.',\n",
       " 'Mr Shorter - scum bag posting things like this -FADEC ON LSE YOU ARE A CUNT - SON OF A WHORE #hnr',\n",
       " \"If u don't think rape culture exists in the US u should prob check your feed right now 'cause literally every woman u know is posting #MeToo\",\n",
       " 'My dicks name is Curiosity... Cause it kills the kat',\n",
       " '@FernandaPutita Love to put my cock so far down your throat now so hot',\n",
       " '@lacrlmosa Stop stereotyping women. Just like how not all men are jerks, not all women spill the beans.',\n",
       " 'booty fever out in this bitch #insensitive #rape #iknowwhatkindofniggasaregonnafindthistweet #butter #icecream #sexualharassment #sex',\n",
       " 'Most hysterical woman #KavanaughConfirmationHearings #BrettKavanaugh #CoryBooker #KamalaHarris',\n",
       " 'Sometimes you gotta beat ya dick like it stole something',\n",
       " \"Cis white man, a huge 'advocate' for women's rights when it gives them an excuse to be racist, urges you it's 'not all men !!' #Weinstein\",\n",
       " \"RT @facerealitynow: It's absolutely crystal clear now that with the amount of SJW feminists on campuses that guys must tape every sexual en…\",\n",
       " 'im changing the password nobody knows backyardigans fucking bitch!',\n",
       " 'RT @p4ndiamond: i love equal rights, fuck men , i love men , men are rapists ,not all men i care about MGM , LOL HIS DICK GOT CUT OFF #Twee…',\n",
       " 'keanu shaved his fuckinh beard what the FUCK bitch',\n",
       " \"I officially hate Kat and Andre!! That's more like cheating than being strategic! Really heartless animals they are. #mkr\",\n",
       " '@cashpointmeets Faggots pay day !! Hand it over as you get bitch slapped by my cock ! Hahaaaa',\n",
       " '@yercuntiness @Anne_Starling @CHSommers she is the Neo of the feminazi matrix.',\n",
       " 'RT @VILLEGOD I always really wish i had a girlfriend when im hungry. #NotSexist #ImHighOkay #TooLazy',\n",
       " '@PolitixUk Pernicious insulting myths: women as hysterical snowflakes who think everything is harassment; men as un… https://t.co/oumEB6jCkc',\n",
       " '@tonygoz1e @AmyJoRyan I need...twit blocked me.',\n",
       " 'I saw a women driving whilst speaking on the phone I cursed that cunt :)',\n",
       " 'I had this girl bite my dick a lil too hard last night',\n",
       " 'FUCK BITCH MCGOBBLE\\nHey warren, can I have a sip? https://t.co/MB1RqUncl9',\n",
       " \"@loftygols @Alantwatts23 @Hydro_75 Regardless, she'll always be butt ugly.\",\n",
       " 'well ya standards are pretty low bitch #MKR',\n",
       " '#mkr The only thing these promo girls are going be able to sell after this episode will be black hair dye #painfulmorons not #killerblondes',\n",
       " '@MichellePiper18 Did that cunt bag just blame #rape victims for the way they dress and/or act?! https://t.co/fYzp24L0to',\n",
       " \"kat's eyeballs freaking out #MKR\",\n",
       " \"WASNT IT GEORGE WASHINGTON WHO SAID 'FUCK BITCHES GET MONEY'?\",\n",
       " '@willberthelot Get a girl pregnant and find out...',\n",
       " '@HTC_GabriellaW @TexansCheer Here comes your camel toe pics the entire world is gonna see',\n",
       " '@AgentP22 @NicolaSturgeon Absolutely disgusting, sadly all too typical Scottish racism and bigotry! Embarrassing!',\n",
       " '@WhiteDomGoddess @chAinedDesiress Watching you two as my black cock grows harder and harder',\n",
       " '@realDonaldTrump @NFL Fuck off you Kunt',\n",
       " \"RT @GaryWorkid: @DubaiNameShame I'm not sexist but I'm old hat cleaning the car a blokes job cutting the grass a blokes job we have a dish …\",\n",
       " \"I'm not worried about a bitch that live with her mother you can't even get a place in your name you got rules stay in a child's place #COON\",\n",
       " \"NBC Rachel Maddcow not concerned about Rape &; Sexual abuse of women occupying Hollywood Harvey? Straight women don't count I guess\",\n",
       " 'Why did women vote for Trump? bitches will vote for a bitch',\n",
       " \"Two months ago you were 'fat &; a whore' now y'all talk... boys 🙄🙄😂😂😂😂\",\n",
       " \"Feminazi's favorite hangout. http://t.co/bQtbSuy9KG\",\n",
       " 'The term \"feminazi\" is actually really insulting lol',\n",
       " \"Hoes think just cause they don't reply it means there's no answer/no consequences. Lmao BITCH no reply means you guilty as shit 😂😂\",\n",
       " \"@Feminazi_Front I'm more than happy to admit I'd never want to work those jobs... Yucky icky bleeeh lmao ;3\",\n",
       " 'ill throw rocks at your window you dumb whore',\n",
       " \"RT @mickystre: “@stweet_heart: I still refuse to believe that his real name is Drasko!\\nI'm sure that Drasko is a Drain Cleaner in Poland #M…\",\n",
       " \"I was sure they'd roll Lynn out like Violet Beauregarde #mkr http://t.co/CE3ohCaWrK\",\n",
       " 'Keko, feminazi.',\n",
       " '@HumanistFury @gabystama @JimyIsAHappyBoy How is that the same education?  Did he get a teaching degree, as well?',\n",
       " \"Did anyone in the movie 'Pretty Woman' even suggest\\nthat Julia Roberts' character shouldn't be such a whore? https://t.co/zNikKNhZaH\",\n",
       " \"RT @mistaphill: #AskAWhiteFeminist Seriously, what rights don't you have, and why can none of you answer that question?\",\n",
       " \"RT @rlfrmllvwr: Nooo Sheri and Emilie, I don't want to see them in sudden death 😣 #mkr\",\n",
       " \"@aso_deliwe @Mizzpurple01 @SsquaredSA Isn't a pussy an exit hole too? https://t.co/AVss2HNteF\",\n",
       " '@jul_hamomelett sorry sweetie, but women are the causes of all problems',\n",
       " \"@SkyeCitySeries @AOC That's funny.\",\n",
       " '@FoxNews @DLoesch Not all men...just the ones who are pussy grabbers.',\n",
       " '@ALftbI You stupid ignorant cunt',\n",
       " 'Bitch boi still doesn’t know his girl still barking up my tree 😴',\n",
       " 'After the #hike we go for a #drive #KissyFace #igers #instamood #instastyle #duckface #asian… https://t.co/4GHCukw1g9',\n",
       " '@TheHockeyLife48 so you admit to actin like a hoe? 💀',\n",
       " 'Maybe if women want to stop being seen as inferior to men they should stop acting inferior to us!^',\n",
       " \"RT @asredasmyhair: They claim to be for equality...and then cont. to focus only on women's issues. #WomenAgainstFeminism #FemFreeFriday htt…\",\n",
       " 'doesnt make u better than anybody else, its about what you do and that a silly title based on GPA is ridiculous and absolutely hysterical',\n",
       " \"RT @BastardKeith: Over $100,000 has been raised for Darren Wilson. But man, why must liberals bring RACE into this?! It's about...oh. http:…\",\n",
       " 'RT @teesmurf Richard Petty was right. If Danica Patrick was a male no one would know she was on the race track. #notsexist #Daytona500',\n",
       " 'His bitch stay on my social media. Why? Idk. You’re sweating me mama chill',\n",
       " 'Annie says a pony ... Are you joking...you idiot #mkr',\n",
       " \"RT @deanesmay: Violence, censorship, &amp; intolerance of dissent. It's why we call feminism a hate movement. @TheGags29 @troooper316 @JustLaur…\",\n",
       " 'shut the fuck up you fucking pussy you wouldnt know survival if it hit you in the face you draft dodger',\n",
       " 'RT @robinashe: Yep, #QuestionsForMen in fact. @paulawrites',\n",
       " 'Fool me once shame on you. Pussy ho you wont fool me again.',\n",
       " 'I am so glad those annoying bitchy blonde thots got kicked off #MKR',\n",
       " 'And bitch i was tweeting a song i got no times being sad for smeone i mean im a busy women you see.',\n",
       " '@Michael2Wallace i didn’t know kyrie irving was a bitch made diva',\n",
       " '@omahajon \"PC\" = \"I can\\'t be an asshole to people anymore! What gives!\"',\n",
       " '@cazzapuppy Are men not human?  Do they deserve #EqualRights?',\n",
       " \"@tom_usher_ the [clean] version dubs out the line 'such a fucking hoe' for 'such a filthy whore' which i swear 2 god is actually more offensive\",\n",
       " '.@BigBadCharn Please identify the straw man, Dunce.  My sarcastic mocking hypothetical or those real examples?',\n",
       " '“not all men” first of all, you stay quiet when women want respect/equality.',\n",
       " 'Promo girl \"Katie\" calls her stuff \"spajacock\" and \"mascaronie\" ... Never cooked before. Why has @channel7 even picked them? #mkr',\n",
       " '@AnnCoulter @jimd22551 I think Cory Booker wins the competition for most hysterical woman.',\n",
       " \"RT @victorymonk: .@MT8_9 @McEntropy @Superjutah @Shermertron fathers who can't pay child support is the only noncombatant group who can be …\",\n",
       " '@jalenramsey Lmfao shut the fuck up with your Brentwood Academy havin ass. Yall have one of the worst QBs in the league as far as TD/INT ratio go but you hate on every other quarterback.... Sit your pussy ass down and get swept by the Titans again.',\n",
       " '@EdKrassen I guess that it what happens when you are the most hysterical woman in Congress.',\n",
       " \"your girlfriend a major snorter but that bitch ain't worth a quarter 😬\",\n",
       " '@dino_akin lol plot twist ..what if your girl is secretly a hoe 🤷🏽\\u200d♂🤷🏽\\u200d♂',\n",
       " '@keansburgirl67 @collectdust Nah, the only worthless skank here is you. Good job outing yourself.',\n",
       " 'RT @truthhonk: Wonder how many feminazi &amp; social justice warrior heads explode when Hillary makes Villaraigosa her running mate? Hopefully …',\n",
       " '@NicolaSturgeon don’t tell her, show her. The country is waiting #indyref2 https://t.co/SaW2ShlVMn',\n",
       " \"Her- send me a dick pic Me-*sends dick pic* Her- that's photoshopped Me- https://t.co/AWKO4mEG5X\",\n",
       " 'I want a feminazi to argue with',\n",
       " 'Feminazi Blog Reminds Libs Today Is “National Day of Appreciation for Abortion Providers” BOWLING FOR BABY MURDERERS http://t.co/w04KNOldxU',\n",
       " ...]"
      ]
     },
     "execution_count": 44,
     "metadata": {},
     "output_type": "execute_result"
    }
   ],
   "source": [
    "df_test[df_test['prediction']>.5].sort_values('prediction', ascending=False)['text'].tolist()"
   ]
  },
  {
   "cell_type": "markdown",
   "metadata": {},
   "source": [
    "Non-misogynistic:"
   ]
  },
  {
   "cell_type": "code",
   "execution_count": 45,
   "metadata": {
    "pycharm": {
     "is_executing": false
    }
   },
   "outputs": [
    {
     "data": {
      "text/plain": [
       "[\"@JPunx999 for you! Cuz no one else cares when I post it but I'm pretty sure you like it. Get your skank on!\",\n",
       " 'Proof there is no God.\\n\\nKat survives.\\n\\n#mkr',\n",
       " 'Actually u need help @purexelegance Call me sexist but I actually have nightmares about Nancy Pelosi, Hillary Clinton, and Elizabeth Warren.',\n",
       " '@the_author_ @UnseenPerfidy In some respects it feels like a radical elimination of vocab. They know like 15 words. RadFem, feminazi, etc.',\n",
       " '@ChubsSays ...for life.  Yes.',\n",
       " '@Play4Blood @ryanjj245 @UnburntWitch “I’m an enlightened centrist, and think that MLK’s career insists entirely of the ‘I Have A Dream’ speech, and totally ignore that he renounced the speech later in his life because he was fed up with ‘the white liberal’ who by refusing to help actively hurt the movement”',\n",
       " '@Republican_Mrs\\n#IDontNeedFeminism #WomenAgainstFeminism #feminazi http://t.co/0QCfPycW5p\\nwhen was the last Amazon empire?',\n",
       " '@chilblane u jelly',\n",
       " '@jimmycarr Have you got the camel toe, too?',\n",
       " \"No apple, I don't want an amber alert for a stupid 16 yr old bitch that got into a 21 yr old pedos car .\",\n",
       " \"RT @thisonesakillaa: I don't blame these SJWs for hating themselves. They're just choosing the wrong reasons. Grade A white guilt. http://t…\",\n",
       " \"@picklepikkl @UnburntWitch no they're right\",\n",
       " \"RT @AIIAmericanGirI: 🇺🇸\\nFeminazi's Want To Replace The Andrew Jackson On The $20 Bill With This Hosebeast http://t.co/rqJYklTM93 #WIUNION\",\n",
       " 'a women without a man is like a car without an engine; it doesnt work.',\n",
       " 'Drasko in #MKR looks unnervingly like crazy Clay from TV show #Banshee',\n",
       " 'RT @PeterTownsend7: #islam #islamic #ISIS engages in sexual slavery. Is this Anti-Islamic? http://t.co/O97BgHT1rF http://t.co/ovuQTlwxH6',\n",
       " '@JessicaValenti @Good_Haro Reading this makes me feel disgusted. Rape is any instance you are forced into sex without your consent',\n",
       " '@hayleyjoness ...as a result there is a POSSIBLE supply of 100% of the population for all \"female\" jobs vs. maybe 20% for some \"male\" jobs.',\n",
       " 'What do you call a woman who has lost 95% of her intelligence? Divorced',\n",
       " '@PardusXY The idea...or the argument?',\n",
       " '@realDonaldTrump @NFL This is hysterical. It’s YOU who’s too much talk and not enough action. DO YOUR JOB and stop tweeting !!!!',\n",
       " \"@georgialewis76 @roosta81 You basically don't give a damn about the contempt in which British men are held, do you, in your feminazi bubble.\",\n",
       " \"@AllisonMorris1 Exactly Allison. Situations like these reveal a person's true character.\",\n",
       " '@JessicaValenti It’s an endless struggle just to get the fuck out of bed',\n",
       " \"Her- where'd you learn to eat pussy like that? Me- https://t.co/GmipSRZ9sr\",\n",
       " \"RT @fee_bee_63: Kat - you're not a morning, lunchtime, evening person either. I'm not sure you're human. #mkr\",\n",
       " 'you all respect him...you respect him, right? right? #mkr',\n",
       " 'Me and my girl Lokra. #selfie http://t.co/pt5R7QXRC1',\n",
       " 'RT @girlziplocked: .@Jason you have no idea what \"crazy internet mob\" looks like until you\\'ve seen what @femfreq @freebsdgirl and @TheQuinn…',\n",
       " \"RT @lwilliams0594 I'm not sexist, but this woman bus driver has nearly killed 2 pedestrians in the space of 4 minutes #sortitout\",\n",
       " \"RT @ESMART234: ISIS: Jihadist police beat up woman for 'exposing eyes' under veiled clothing: Women living in Mosul who offen... http://t.c…\",\n",
       " 'Get rid of that Kat. The worst person I have ever seen  #MKR',\n",
       " \"When you ride past that bitch that don't like you https://t.co/zKED6TgVXE\",\n",
       " 'RT @FLOSSWeekly: Just added to the schedule for April 8:\\xa0Randi Harper - Online Abuse Prevention Initiative (http://on...: Just ... http://t…',\n",
       " \"RT @NikFuq: @magali_c @YesYoureSexist another thing u haven't realized is that this post is a joke. A mock of posts I see during black hist…\",\n",
       " \"@themeredith I should probably make you my WCW now cause after I fuck you I'm never gonna talk to you again... At least I'm honest ☺️\",\n",
       " 'Fuck everything. Back on the road.',\n",
       " 'So the Nagaland rape case was a false charged filed by the woman. Thank you Pink Chaddi Feminazi idiot drafted laws.',\n",
       " 'RT @jhamby: This guy is comedy gold, @freebsdgirl. And Popehat is encouraging him, wtf smh. https://t.co/87sQXHjh6Q http://t.co/eVLbzoZVoC',\n",
       " 'Erol exposes the #Feminazi groomed by Zionist Jews to join them in hell, for eternity, as #misery craves company &gt;&gt; https://t.co/2ootOyI4gj',\n",
       " 'RT @robfit: Graphic time line of #Islamic #Jihad invasion vs the #Crusades ....  #tcot      https://t.co/2iAMIyeK4o',\n",
       " \"RT @lismarie56: Oh, you're humiliated Kat? We've been embarrassed for you ever since this show started #mkr #MKR2015\",\n",
       " '@bryn_adams @natbenkowski #YesAllMen because... http://t.co/ldkaw3NCta',\n",
       " 'RT @sensip40: The broken ladies of my and younger generations fail this description in one way or another. And the men are to feminine to d…',\n",
       " '#mkr hey Kat. ure a c$#t.',\n",
       " 'Lee \"Scratch\" Perry &amp; The Upsetters - Lover\\'s Skank (aka Spanglers Clap)',\n",
       " \"@BBCRadio4 the media show is hysterical. Journalist ' Women can be predators too' Presenter - 'isn't that blaming the victim?' Emmmmmmm no\",\n",
       " '@breecarlson_ Long rape scene? Even though there was no sex scene in the movie, and the woman agreed to a rape fantasy, then stopped it? LOL',\n",
       " \"Today's status: 👍😎\",\n",
       " 'The problem with “women are sacred” idea: It is one half of the Madonna/Whore dichotomy, long used to divide women against each other. 1/2',\n",
       " 'How you bitches look with your snapchat filters https://t.co/nOkSlAMy0Y',\n",
       " '@kezdugdale with a passionate speech covering the Stonewall Riots, current intolerance and hate crime and importantly, her commitment as a feminist to trans inclusion. @ScotParl will be poorer without her passion for equality #50YearsScotland https://t.co/aEwGMzLXdI',\n",
       " '#mkr nikki has hot teeth',\n",
       " \"RT @MGTOWKnight: @MT8_9 @MegNordmann There's a platform that could easily collapse under her #AntiSJW #WomenAgainstFeminism http://t.co/l1f…\",\n",
       " 'This is the most disrespectful thing a man can do to another man! 😂😂😂😂, You turned off Pimp C!!!! 🤕 https://t.co/Udm99NF8vK',\n",
       " '\"We proved that we\\'re not just pretty faces\". Oh Nikki you proved that when you first appeared on TV. #mkr',\n",
       " 'RT @nikochoski: #AdviceForYoungFeminists Remember boys are stupid, men are more stupid. Instead of rocks, throw rape allegations on them. T…',\n",
       " 'lol where my period at 🤣 this bitch playing w me',\n",
       " 'Refining thru deconstruction. Right. #MKR #killer blondes',\n",
       " '@HawkeyeFootball OMG!! These are butt ugly!! Worse than MSU’s neon crap and most of Oregon’s shit show unis!! Absolutely awful!!!! 😡',\n",
       " '@abnormalcybias @manishlimbu532 \"Google false rape accusation 41%\" might work.',\n",
       " 'RT @thehill: Did TIME magazine give Hillary Clinton horns? http://t.co/mdCTjPyYbK http://t.co/1on85FUcv5',\n",
       " '@geofparry7 @7NewsPerth #olwyn has done you a favour then #mkr #shittv',\n",
       " '@Auragasmic &lt;--Hysterical feminazi Level 100 @jtidyman @TheMitch182 @E__Strobel',\n",
       " '@athenahollow YOU ARE MARRIED YOUNG MISS GO HITHER',\n",
       " \"@Beachlovin82 @abc15 You're aware that not all men like women right? Get out of your bubble\",\n",
       " '@Illdrinn omg!!!! congrats! with the person i met a year or so ago?',\n",
       " 'These girls are fucktards!! #MKR',\n",
       " 'You constantly act like you havent done bad shit in the past when you CLEARLY have. You constantly pretend that youre a good person, but you constantly make threats towards other people and call Tevin an ape. Shut the fuck up, grow the fuck up, and take responsibility you cunt',\n",
       " \"@AMohedin Again skipping what you don't like. It says that men are in charge of women and men are superior to women. http://t.co/5mAnQbibj1\",\n",
       " 'Trust women and support their decisions them make in their pregnancy and don’t be a cunt',\n",
       " 'Damn Kat &amp; Andre sneak through, would much rather Katie &amp; Nikki had gotten through #mkr #damnukat',\n",
       " 'Being a pizza delivery person before GPS or mapquest must’ve been a bitch',\n",
       " 'From @JessicaValenti ---&gt; Pregnant Women Who Are Assaulted Are Being Treated Like Criminals\\u200a—\\u200aNot Victims: https://t.co/hwGp58PaKW',\n",
       " \"Last night God took Dan out of the He She and now women won't find as much energy to bitch w/ about men. The bogus agenda needs to stop now\",\n",
       " \"All you boys going to senior week WEAR A CONDOM! Cuz when girls say they're on the pill, they're probably lying!\",\n",
       " '“The Fat Girl Behind the Fitness App” by @naomialderman https://t.co/VGb5Dluy3a',\n",
       " 'gozleme is taking way too long #mkr',\n",
       " 'Skank ❤',\n",
       " 'Women drivers no survivors',\n",
       " '@SindhuBoddu It will always be ready and hard for you to bring your holes and beat it with your cunt and ass https://t.co/OtoJQvC7FF',\n",
       " '.@cooperlewis_  None. I was going to go w/ \"toxic femininity\" or something if they answered but #50ShadesIsAbuse has great plate discipline.',\n",
       " 'Fuck you for not reading the source material and going around BULLYING people and TERRORIZING others for not supporting Emilia or Daenerys, people who’ve read the books would have a reason you have none other than being a brainless fucking bitch to people who disagree with you. https://t.co/RuCwWax2wc',\n",
       " 'How basic bitches wash away their weekend sins and mistakes https://t.co/pw5xSg1ENt',\n",
       " \"I'm talking specifically about the term 'feminazi.' These types of people are NOT feminists. They are equally as detrimental as misogynists.\",\n",
       " '“Pregnant Women Who Are Assaulted Are Being Treated Like Criminals\\u200a—\\u200aNot\\xa0Victims”\\u200a—\\u200a@JessicaValenti https://t.co/nvivFqI07G',\n",
       " \"Compulsory femininity is expensive and exhausting. I don't want jewelry, perfume, makeup I carry around to reapply, hair accessories, etc.\",\n",
       " 'Prince think he slick AF... He got everyone out here fooled https://t.co/ZBbCxSWKVq',\n",
       " 'You should be humiliated Kat! You are awful!!! #MKR',\n",
       " 'And now for the dish that best represents the girls...... A big deconstructed TART  #MKR',\n",
       " '@nolanwhyte @mistaphill ...K.  Thanks for demonstrating a firm understanding of legal rights.',\n",
       " \"RT @SaS2AFoundation: Hillary Clinton deleted 32,000 'private' emails, refuses to turn over server. #defiant #FemiNazi http://t.co/wRxwTYSn3Z\",\n",
       " '@rileysomething Civilians.',\n",
       " \"@dylanw that's why I explained. I still think you're an asshole.\",\n",
       " 'RT @GrumpyVancouver: Issue with female hosts on sports broadcast is that most have no variation in tone of voice.    #notsexist.',\n",
       " \"@AnnCoulter That's because you've already won the title Most Raggidy Skank Who's A Disappointment To Her Father...\",\n",
       " '@movingfasternow @HadleyFreeman We needed a counter -balance for the rape apologists now? These hysterical women are… https://t.co/kjq4E1OuPz',\n",
       " 'RT @ImAnotherVoice: @Dezzantibus @MT8_9 @theesadiemarie One should consider we actually get more tax breaks and less intensive jobs even in…',\n",
       " '@SuzikinsSays @HawksGal_ Nyour obsessed cuz there is nothing wrong with you stupid skank. You’ve been warned for last time you shall suffer',\n",
       " '@Audmum1 The girl who played Palin in porn only got $3000 for SAME job as Patty...',\n",
       " '@cwoodfield yah. mgt fund fees are pretty low. ~$25/year.',\n",
       " 'Ash found her inner bogun #whistle #fingersinthemouth Ewwww #MKR',\n",
       " \"@Chickowits I call out people like Jenn because she is causing problems by flooding join_oapi. It's moronic.\",\n",
       " '@mymenarche @McIncount2 @LeighDrunkClown @CHOBITCOIN @keozeo According to who? The feminazi gestapo?',\n",
       " '@nyvic26 And 4. I was calling you the sexist. Obviously. It applies to YOU. Don’t not all men me when you can’t eve… https://t.co/ZKePJasmB1',\n",
       " '@kmx1974  Stupid. Got it.',\n",
       " \"Why you always actin mad? Always bringin' up my past You in your feelings about a hoe that don't matter Know that I'll give you my last\",\n",
       " 'Dixie Comet #hairy pics gallery https://t.co/VL0d2mtUnz Dixie has on her tight little yoga outfit. It gives her a fabulous camel toe and she',\n",
       " '#katandandre gaaaaah I just want to slap her back to WA #MKR',\n",
       " '\"Do you think the other teams are going to pick on the pretty girls tonight?\"  Are there some other girls coming to dinner? #MKR',\n",
       " 'The one thing that could actually end the \"harassment\" of #GamerGate... http://t.co/RuMt3nVPXS',\n",
       " '@parscale @Google Shut the fuck up snowflake! I think Communism and Natzis pose a hell of a lot more of a threat to democracy. Fuck your so called republic dictatorship. Google is doing America a great service if they are in fact censoring the Alt right c',\n",
       " \"RT @s11jim: @YesYoureSexist sorry that was stupid &amp; unfunny. I've deleted it.\",\n",
       " 'Last year I cuffed that bitch well now it’s over @ChiefKeef',\n",
       " '@Addiecfc Pretty sure white men make more than everyone else and have lowest unemployment, so 200+ yr aff. action program is still working',\n",
       " 'In the past 12h, @spacekatgal is seeing the most targeted abuse, with 194 (36 OC/158 RT) GG hashtaged tweets mentioning her. Congrats!',\n",
       " \"honey, it's not you vs. skank. It's you versus EVERY skank. It's like she's a mighty Spartan warrior but there's a… https://t.co/hPmR9agoV3\",\n",
       " '@femmefataleirl my dad does the same thing but he calls it my \"liberal comminist feminazi bullshit\"',\n",
       " \"I was raped by a 28 year old woman when I was 16 years old #metoo! In my state in America that's statutory rape rather I wanted sex or not.\",\n",
       " 'shit she knows how to walk.....you go girl...one foot in front of the other.....#MKR',\n",
       " 'Does he think women will like him more if he capitulates to their hysterical agenda? Or perhaps he thinks that mock… https://t.co/6ttTEGdzAo',\n",
       " 'NEW The Dine &amp; Dash Dater https://t.co/92CstDJjUO #single #singles #nyc #boston #story #amwriting #blog #blogger #advice #listen #comedy #podcast #instalike #instadaily https://t.co/qbQ1TJI6fi',\n",
       " '@ugobananas OBVIOUSLY',\n",
       " '@hoshigang bitch why are you digging up middle school memories',\n",
       " 'If someone got body and dick..... but not the face.... would you dub them?',\n",
       " '@67fisherman @AdamSchefter And since you love trials and false equivalency between athletes and protecting women how about this one Duke lacrosse rape??????',\n",
       " 'Why do husbands die before their wives? Because they want to',\n",
       " 'RT @Bearable_Baloo: Tough talk from behind a 10K+ blocklist, @leighalexander. https://t.co/BuCTeimFL2 http://t.co/BdD6pe0mVD',\n",
       " 'I was just called a \"feminazi\" which is sadly not unusual on the show',\n",
       " 'RT @facerealitynow: @MT8_9 I asked that question recently and actually got an answer http://t.co/oD98sptcGT',\n",
       " \"RT @Quinnae_Moon: Also, I just found out about this: http://t.co/iSRfYMYrss What in Andraste's name is this nonsense?\",\n",
       " \"RT @PeerWorker: @freebsdgirl The threats are either serious or they aren't.  I guess you don't view #GamerGate as emotional terrorism.\",\n",
       " 'Men who get defensive about #metoo because “not all men are like that” are part of the problem. Women know not all… https://t.co/JylC8hwnyS',\n",
       " '@Allehegens Romney or Jeb would be huge mistakes.',\n",
       " 'Following Kat &amp; Andre i would love Annie &amp; Lloyd to piss off they are almost as bad. Miss ray of sunshine is as fake as her hair colour #MKR',\n",
       " '@femfreq Anita is equating gamergate to cosby and weinstein so she can equate herself to actual rape victims so she can keep playing the card',\n",
       " '@JessicaValenti This brings rage inducing levels of disgust',\n",
       " \"Ladies you need to realize something. You may have a boyfriend, but unless there's a ring, you're still fair game ;) #WomenSuck\",\n",
       " '@terroristavcisi @PressTV Go back to your hole you fucking roach.',\n",
       " 'Sounds like you are a mysogenistic dick weasel to me Aaron. When you call mysogenists dick weasels you always feel better https://t.co/QlSaV9Cvzc',\n",
       " 'RT @victorymonk: @thisonesakillaa @MT8_9 Reminds me of Simpsons where grandpa was screaming \"Death!!!\" at everything. Now it\\'s rape. https:…',\n",
       " '@JessicaValenti @BittrScrptReadr You mean white boys who grow up to be white men who make laws against women, immigrants, minorities and the poor... https://t.co/0cCXCr9b7A',\n",
       " 'The one thing we can learn from listening to @freebsdgirl talk like someone from #GamerGate is that it takes just 5 yrs to become a feminazi',\n",
       " \"I say 'I do' a lot for someone that would never say I do...\",\n",
       " '@cwgusu Your example is 42 years old, you realize?',\n",
       " '@ColeMcDowell2 So maybe the issue is not \"BOYS ARE BETTER AT SPORTS\" but \"they are children playing school sports so leave them alone.\"',\n",
       " '@AbbyJSS @Google @EverydaySexism have you read @CCriadoPerez latest book, Invisible Women? Full of (infuriating!) examples like this! Part of the trend of \"male as norm\"',\n",
       " 'Girls that eat ass will always have a special place in my heart... And bed',\n",
       " '@realDonaldTrump YOU FUCKED PUERTO RICO & THE PEOPLE AND YOU KNOW IT! MY OWN FAMILY MEMBERS BORE WITNESS & LIVED THRU IT! AT BARE MINIMUM, STFU INSTEAD OF ATTACKING WITH LIES & BULLSHIT! YOU & YOUR PAPER TOWEL THROWING BULLSHIT! YOU FUCKING LIAR!! PIECE O',\n",
       " '@mykitchenrules Kat be humiliated from your attitude.. Not your cooking. #MKR',\n",
       " 'This is why I hate people https://t.co/19E4rarP5j',\n",
       " 'Fuck off Holly you slag #thismorning',\n",
       " 'im on the wather',\n",
       " 'RT @IsraelandStufff: #Police shot dead #Arab driver in vehicular terror-attack injuring 2 Policemen in #Jerusalem\\n\\nMale &amp; female... http:/…',\n",
       " \"@joanneleon @ChristophHeer52 ... Nazi ideological indoctrination. And wiki will tell you that half the world's neo Nazis live in Russia.\",\n",
       " '@gkrnours bastards',\n",
       " '@SeanCla2012 We must be brave and strong and show decent logical women that not all men are rapists we must come together and speak out',\n",
       " 'I will always love you & Ken though @LisaVanderpump I really admire you & feel like a mother tiger with you! I could of jumped through the TV when that skank slapped your face! That upset me! A lot!!!',\n",
       " 'When the woman says “no” and the husband forces himself on her, that’s rape. Please sir, you sound uneducated https://t.co/n6JhaT1ywb',\n",
       " \"RT @JacobScottStill: If you're a girl and don't make me food when I ask/tell, there's a good chance I might just hit you #MaleDominance\",\n",
       " \"RT @TheDWridg: I hope Kat and Andre's kitchen burns down! Un-Australian their tactics! They can't be happy with that! #flogs #mkr\",\n",
       " 'RT @Lavita_ Still not a fan of this lady that commentates during games played on Sabc... #NotSexist',\n",
       " \"This is how you support women. 'Not all men' doesn't cut it. Be better. https://t.co/hv2GPN1lmb\",\n",
       " \"RT @KanoWyatt I'm not sexist but if I come home and my bed isn't made I'm gone kick my mum out of her own house\",\n",
       " '@UltClassicRock M &amp; M and RAM have absolutely NOTHING to do with Classic Rock so why are you doing this?',\n",
       " 'RT @JordanWalker654 Lucky to come off that bus alive #womenbusdriverproblems #notsexist',\n",
       " '@mykitchenrules Hot pot?  Come on girls  . About as technical as a ham and cheese toastie. #disappointing #MKR',\n",
       " \"No one even likes you Kat &amp; Andre. You won't last long...#mkr\",\n",
       " 'you’re not going to tell me to say happy birthday to someone that called me a cunt and a slut within the span of 10 minutes',\n",
       " '@IAmThe1Teacher @IronmanL1 @stevecorrales80 Try reality teacher. http://t.co/X8sqLd5jZU',\n",
       " '@PJBuckeyeFan @OHWildBill @BuckeyeGurl99 @buckeyenut82 @FullMichigan @PantalonesGordo @larry1ventresco @BuckeyevsTworld She blocked me too and I never said anything to the skank 🤷\\u200d♂️',\n",
       " 'd for DYKE',\n",
       " \"@Oterooooo @Tigraah So you hate 'Ominous' as a hole because of this... seems legitimate and highly mature.\",\n",
       " 'lol. is she still screeching about me blocking her? what a turd.',\n",
       " \"@chsfword I'm guessing you learned of feminism from Beyonce.\",\n",
       " \"I've yet to come across a nice girl. They all end up being bitches in the end #WomenSuck\",\n",
       " \"in any serious forum, i will fully support feminism.  feminazi's, however, are a real thing and in their presence i will be a #meninist\",\n",
       " 'RT @GloriaMitchell6: Suit yourself: Utah court lets woman sue herself over fatal wreck http://t.co/jyfHMI63BC @FoxNews She wants money for …',\n",
       " \"If you've never choked on a dick have you really ever had sex?\",\n",
       " 'hahahaha. watching the whole \"Cunty\" conversation is... yeah. That is me 3 years ago.',\n",
       " \"So many sluts texted Stephen when we got Lionel 'our cats look the same!' Bitch 95% of house cats in the US are domestics, stay in your lane\",\n",
       " 'Kat and Andre scored strategically just so stay in the bloody competition. SO UNFAIR! #katandandre #mkr #katieandnikki',\n",
       " 'yeah colin would be looking for more fat in his sausage.... #MKR',\n",
       " 'Ooh this is getting into Shakespearean levels of manipulation. And of course he goes for the hysterical woman angle, with a side order of using Hanssens feelings for Roxanna against her. #HolbyCity',\n",
       " 'Shame on @NicolaSturgeon for excluding non binary people #NotMyAlly  #Pride https://t.co/ROo4rnT7AK',\n",
       " 'The blondies eliminated ... Feckkkk #mkr',\n",
       " \"Tell you one thing-- I've seen more'n enough dick and balls tonight to last me a lifetime.\",\n",
       " \"What's with Petes face, looks like he's been varnished  #MKR\",\n",
       " '@kcgreenn Do you have any comment?',\n",
       " \"Omg I hope Sheri and emeli don't go to sudden death #mkr\",\n",
       " '@scoutsaber yes.',\n",
       " '@GPerplexx Stfu pussy, no more Apple Music for you',\n",
       " 'RT @GohJarrod: Nikki has massive #armpitvaginas #mkr',\n",
       " \"@NicolaSturgeon Yes men are often the victims of male violence. That doesn't make them women.\\n\\nTry doing something about male violence please.\",\n",
       " 'RT @Tweet_deseballs: We gonna get turnt for #MKR rest easy brosss gone but never forgotten #A4MKR',\n",
       " '@mykitchenrules Oh the sass #MKR2015 #MKR #katieandnikki #thepromogirls #somuchsass http://t.co/kmRyabcIRo',\n",
       " 'Hurry up! Kat and Andre are dicks #mkr',\n",
       " 'don’t let me catch you face to face in this bitch',\n",
       " \"Anything that bleeds for a week and doesn't die is a monster #WomenSuck\",\n",
       " \"@a_man_in_black noted. Although this is tricky - what's it going to accomplish? Another suspended gater account?\",\n",
       " '@RudawEnglish Utterly insane article.',\n",
       " '@hansmollman ah, describing women as hysterical, how innovative, original, striking',\n",
       " \"I'm not anti-Semitic but Breaking Bad &gt;&gt; Better Call Saul\",\n",
       " 'RT @TRobinsonNewEra: http://t.co/enEd81tCJf\\nMangaluru: Women allegedly assaulted for opposing loudspeakers in Madrasa',\n",
       " 'Today: emails, twitter, emails, emails, whatup congress, code, code, code, emails, world of warcraft.',\n",
       " 'Mike scott aint no fucking bitch',\n",
       " 'Women are like elephants. Everyone likes to look at them but no one wants to keep one  #WomenSuck',\n",
       " 'Thank you @rhysiedarby for the hysterical & heartfelt wonder that is #MysticTimeBird! #WestworldAudition #Periphs… https://t.co/DxpKx4Uhgm',\n",
       " \"Friend- I'm getting married Me- https://t.co/hzRDvjRHJU\",\n",
       " '@SkoomaPipe Because she\\'s not a \"feminazi\" and is really cool. I have a lot of friends with different views.',\n",
       " 'RT @LynneMcGranger: OH NO!!!!! ( she says sticking needles in her eyes!!)#mkr',\n",
       " 'I bet Drasko loves a bit of spatchcock #MKR',\n",
       " 'RT @benpobjie: Well that’s Lynn and Tony screwed #MKR',\n",
       " '@AnonMnom Rights mean nothing if they can be violated w/ no recourse.',\n",
       " 'Kanye with a hint of more Kanye, the fuck you thought',\n",
       " \"@DCpierson Feminazi Activia: When you want to shit all over everyone's freedom and entertainment.\",\n",
       " 'RT @cheuya: Fake victim whining rapist motherfuckers. They need to die',\n",
       " \"@UnburntWitch Don't look back in anger...\",\n",
       " 'Y’all.. when this bitch said “look into my eyes” I only kept eye contact for 1 second bc I was so intimidated. 😳👀',\n",
       " 'it’s camel toe season ladies',\n",
       " \"@brushyblues @KellyTurner99 She's in that warp where political correctness trumps reality.  It requires a lot of compartmentalization.\",\n",
       " 'These girls on MKR are giving me the shits! #MKR',\n",
       " '@asyrafx sbb kau bitch hahahahaha',\n",
       " \"If #cuntandandre make it through, I'll... I don't know what I will do. #mkr\",\n",
       " \"Not all men? True. But you wouldn't play Russian roulette either, but you're asking women to do exactly that. Trust has to be earned. #MeToo\",\n",
       " \"Trump also refuses to release Melania Trump's immigration papers and give and explanation to how she got an Einstein visa for being the world's greatest stripping whore https://t.co/8HbQKHwWlU\",\n",
       " '@edgeofthesandbx @batchelorshow @FearDept Furthermore,even the most right wing Ukrainian groups are anti authoritarian.Unlike dictator Putin',\n",
       " '@tjathurman @sarahlicity Women must be addressed as milady until they turn you down at which point the correct form of address is \"feminazi\"',\n",
       " 'When someone leaves a dumb comment https://t.co/fByPKwCCiX',\n",
       " \"RT @Quinnae_Moon: The ease with which one can dogpile others is scary, not least because we all think we're acting as individuals rather th…\",\n",
       " '@Elizabe19845961 @CNNPolitics You seem hysterical.',\n",
       " \"RT @robertosamalia: @YesYoureSexist um I mean teen/young adult books, yeah there's Harry Potter and Percy Jackson but that's about it. Sorr…\",\n",
       " \"@ncoghlan_dev i'm a jerk with an ego the size of texas, and i'm still having probs wrapping my head around it.\",\n",
       " \"@CharliceHurst NM.  Sorry, didn't read your TL first.  I see you are not a feminist.\",\n",
       " '@SamEnvers you unfollowed me? Fuck you pussy',\n",
       " '@AnnCoulter LOLSO TRUE!!I THINK BOOKER IS WINNING THE BATTLE OF MOST HYSTERICAL WOMEN AT THE KAVANAUGH HEARINGS!!!@CoryBooker',\n",
       " '@cakickboxher one day you will be that skank😥😎',\n",
       " 'Stick to your day jobs girls #MKR',\n",
       " 'Cat seems more like a dog with all this strategic voting #MKR',\n",
       " '@SenKamalaHarris Its all about $$$$$$ dollar signs for those hysterical women',\n",
       " '@geeky_zekey It kind of looks like this. http://t.co/T73hzP9kQH',\n",
       " '@Shermertron @aussielung Based on need, not gender?',\n",
       " '@damilne1 @NicolaSturgeon \"Overfunded and increasingly threatening\" you mean terfs',\n",
       " '@rabcyr @gewt If someone on stormfront calls you a feminazi js that an insult or a compliment?',\n",
       " 'RT @CathyYoung63: After the #BorisNemtsov murder, I\\'m at 0 patience for special snowflakes who bleat about feeling \"unsafe\" b/c someone sai…',\n",
       " '“@mickystre: @XavierPrideux &lt;-- troll much?”only with lame fat jokes #mkr',\n",
       " \"#HalloweenCostumeIdeas Kim Kardashian's vagina... In other words, ground beef.\",\n",
       " \"Talking about 'in the bible, a woman is a man's property.' Therefore as a senseless misogynist, rape in married women cannot happen.\",\n",
       " '2016 The Winner is revealed on #MKR',\n",
       " '.@BristolBen @TheGags29 has either taken to some seriously ham fisted trolling or shes on meth/out of meth which I have suspected about her',\n",
       " 'Remind me what I pay NI for. And what the fuck have you done with our money cunt? https://t.co/OGyzE5SxrO',\n",
       " \"#MKR Annie's never cooked on a BBQ before. See...she is an alien.\",\n",
       " '@thehill @AnnCoulter already won Most Hysterical Woman with her 2 day twitter freakout over leg room on a plane.',\n",
       " 'old person: did you buy that shirt with holes in it? me: yes it’s called fashion bitch look it up',\n",
       " \"the salary conversation is highly representative of every salary conversation i've ever had with coworkers.\",\n",
       " 'No trending in Alexandria VA,\\nYoga pants and camel toe 👀',\n",
       " \"When're I go to a wedding all I can think about is how many times the bride is going to get pounded after the wedding #HoneyMoonPoon\",\n",
       " '@fuck________off well what is your sc',\n",
       " \"@JessicaValenti @patschurman Who's the judge? He needs to be named and he needs a draggin'!\",\n",
       " '@Kaya786 Or I can go to the proven barbaric attitudes of Muslims as an excellent reason to hate Islam. http://t.co/X2hMFQJRSu',\n",
       " \"@Mrminibagel @alston_myles ...and whose definition is that anyway, Margaret Sanger's?\",\n",
       " \"i'll make sure you let everyone hear how good mommy's making you feel. show them what a good whore you can be for mommy.\",\n",
       " \"RT @lotteelou: @Aisha_Jade I feel @gemma6foot6's 'you're as deep as a paddling pool' comment is definitely suited to these 2! #MKR\",\n",
       " 'RT @musicshooter: Oh Shit. Now we have to put up with freaking Kat and No Balls Andre for another week. FMD.  #mkr',\n",
       " 'THIS IS SO CRINGEWORTHY #MKR',\n",
       " 'Seems legit #mkr #mkr2015 http://t.co/xYB6FTJ7wd',\n",
       " '#MKR Kat: the Wicked Witch from the West',\n",
       " 'JODER xDDD @InkingMyPast @feminazi',\n",
       " 'Friend- do you wanna be buried or cremated? Me- https://t.co/uQSTSW8FTW',\n",
       " \"I'M SO MAD #MKR\",\n",
       " 'Strategic or Talentless Hack? You be the judge #mkr',\n",
       " \"RT @loganbrown64 It's good to talk with your wife but it's so much easier to say shut up n make me a sammich #notsexist lol\",\n",
       " 'the sheer state this bitch is in, is comical. put her out of her misery already.',\n",
       " '@sahouraxo N countries where women hve bigX political power.rape is rare/ Fareed Zakaria interviewed HRC this a.m.T… https://t.co/Lbht92EOxU',\n",
       " 'Pokemon Gooooooo fuck yourself',\n",
       " '@HPluckrose @Feminazi_Front No, I\"m saying that the \"inequalities\" between men &amp; women are artificial &amp; subjective.',\n",
       " \"When she cancels the dick appointment cause she's 'sick' then you see her in the bar on her snap story https://t.co/Yqxi4oamlm\",\n",
       " \"RT @NotFaulty: Mark Kern is the dictionary definition of 'Willfully Dense' http://t.co/Yfu94K6iD3\",\n",
       " '@aninkyaffair yes :D',\n",
       " 'gamergate just called @j4cob a \"copy boy or personal assistant\" on 8chan.',\n",
       " 'I had a dream I was drowning last night moe I think this bitch gave me a fake perc',\n",
       " \"Kat you don't look suspicious at all!  #MKR\",\n",
       " '@aninkyaffair I am jealous.',\n",
       " \"My uncle Vern said women get their peiods because it's the only way God could get rid of some of their evil #womenareevil #evilwomen!!\",\n",
       " '@thesledgetobias An Illinois PD studies nine years of their cases once....41% false.',\n",
       " 'Pregnancy, Periods, Breast Cancer, Being Walked On, Rape, Harassment, Abuse...Females Go Through A Lot. WOMEN ARE STRONG ♥',\n",
       " \"When you're out to eat with your girl and the waitress knows you by name https://t.co/Q5LoPZiODu\",\n",
       " '@realDonaldTrump You own it! You and the GOP sabotaged it! Pha -q ya kunt!',\n",
       " 'In Australia, we have always had tall poppy syndrome. Since when did sabotage and bitchy behaviour get you on national TV??  #MKR #mkr2015',\n",
       " \".@TigerClaud @DasJef @Pattypickles called MRA's dishonest, then used one untreated mental patient to smear whole MRM. http://t.co/8cY7h9Cdyu\",\n",
       " 'RT @NACCHOAustralia: Nutrition is key to closing the #Aboriginal life expectancy gap http://t.co/IHtNiRJMa9 #MKR2015 #MKR http://t.co/ktnqA…',\n",
       " \"@Clashoftherats @tummala82 @YusufPeaceful @IndyVoices Do reality check. Ask why people don't hate Buddhism,Hinduism,Tao like they hate Islam\",\n",
       " '@scarmichael18 @shaner38 Not legally.',\n",
       " 'You \"fought hard\" so it \"wouldn\\'t be fair\" to be eliminated? Are you joking me? You scored unfairly the whole time! #mkr',\n",
       " \"If I ever do get scared, you'll never know. 😘\",\n",
       " '@AnonMnom @LBigmann Any real world examples of women actually being jailed for it?',\n",
       " \"RT @OliveWahh: The scoring wasn't even done honestly #MKR\",\n",
       " 'I see mein public shaming vorked. Zee vile #CarolCorps vill now have black members in zee comics. Strucker: I put zee Nazi in #FemiNazi',\n",
       " '@TomiLahren Sorry Tomi not all men were raised correctly! I was raised that all women are ladies until they prove otherwise!!!',\n",
       " \"Women have a hard time In stores understanding '3 for 5'...that means you have to get 3 not 2, or 6. The deal is '3 for 5' #FUCK\",\n",
       " 'How far can you go down the rabbit hole ?',\n",
       " '#INeedMeninismBecause watching feminists/their lapdogs have conniptions &amp; mock a movement created solely to mock THEIR movement = TOO funny.',\n",
       " 'RT @ashleylynch: No remark necessary for this one. http://t.co/iswNgFsgOw',\n",
       " 'not to be mean but that album cover is butt ugly https://t.co/mz5GNkOzON',\n",
       " \"@krisaubuchon it looks like it's white with shitty color balance.\",\n",
       " 'Kandre are SUCH bad sports #MKR',\n",
       " '\"raped\" is not a synonym for \"touched\" @magconboysthe He just got raped by that water https://t.co/sFPJE0dmqX',\n",
       " 'RT @victorymonk: @MGTOWKnight @highwiregirl oh, snap!! Here is what W from 3 world countries think abt ppl like you. #QuestionsForMen http:…',\n",
       " 'RT @immichaeldixon: Katie and Nikki, smug, vacuous, condescending, putrid, self congratulatory and bland. There. #MKR',\n",
       " \"We are not all men and women of God in this context, I'm not talking generalization, I'm talking about Gods prophet… https://t.co/Fpv0cEs0Co\",\n",
       " '@TSUpdatesNYBU @radaronline Delulu 🤣 For someone irrelevant, you didn’t, honey. Taylor’s going on top. This bitch 🤣',\n",
       " 'Kat and Andre are the shittest cooks to get a pass on this show #MKR',\n",
       " '@TamedInsanity Jessica is a special type of human feces.',\n",
       " 'i was crying and this bitch really started laughing 😔😔',\n",
       " 'Its a good thing I always wear a glove on my left hand because if I EVER had to touch hands with a woman my IQ would totally drop to 0 Lol',\n",
       " \"@CappyD Man, I thought Chevaldayoff was a human paper weight...what a trade for the Jets. As good a deal as I've seen in years (decades?)...\",\n",
       " '@elsveel SOLO JE VOIS CES BITCH SOLO JE VOIS CES BITCH OUNGA GROS BAILS',\n",
       " '#Kat could Skank for Australia at the next Olympics. #MKR',\n",
       " \"If you can't spell 'masturbate' right, we can't sext... I don't have time for that kind of negativity in my life\",\n",
       " 'I can get a list of userids that have RTed a tweet with GET statuses/retweeters/ids - but what about favorites?',\n",
       " 'I thought everyone on Twitter hated the butcher/promo girls when they were saying mean &amp; self-absorbed stuff about other contestants? #mkr',\n",
       " \"I put the AGE in savage cause I'm old AF\",\n",
       " 'The boys!\\n#cattery  #coon #cats http://t.co/iXbBB65YWf http://t.co/EnyxaPRXi9',\n",
       " \"@AnnCoulter @JamesWilarUpton Booker wins the award for putting the 'B' in the hysterical woman category\",\n",
       " '“Not all men” or “‘not all white people” both phrases that’ll fuck you up on Twitter 😂😂😂😂😂',\n",
       " \"News flash: It's not for you. @_REDDY71 A word to all the ladies in very short skirts or shorts this summer - 'Thanks'. #NotSexist #Grateful\",\n",
       " \"Happy 4th of July everyone! Ladies don't fuck it up! () () () () <---- vaginas\",\n",
       " 'to everyone saying hyuna ruined edawn and pentagon needs to shut the fuck up. she didnt ruin it, yall who complained and sent hate to her did. because of yall sensitive and jealous asses this is what we, actual fans get.',\n",
       " '@Galaxy_Allie No, feminism opposes choice of parenthood via financial abortion for men.',\n",
       " '@Anne1411A @TVWEEKmag Soggy bread looked disgusting #MKR',\n",
       " \"Come on down! We're cooking ears?! @cityofmandurah thegoodguysau #CrabFest15 #MKR  #ChloeandKelly https://t.co/6kGw1LEjFR\",\n",
       " '2014/15 Coke puts names on cans 2016 Coke puts lyrics on cans 2030 Coke puts dick and pussy pics on cans',\n",
       " 'RT @valentinaveshi: My kind of Pokemon presented by the best: @Yourfuckboy1 https://t.co/lJ68uo0xrG',\n",
       " '@KKallDay36 @iRunNewJerz 😂😂😂😂😂 that dyke wild af https://t.co/2jiwy9kBQn',\n",
       " '@tskillet69 Feminazi- the dress is being raped with your privelige',\n",
       " 'Goals AF https://t.co/dqTQ26GqZi',\n",
       " 'has anybody ever met a dyke that isn’t a vegetarian....i was the last one i think',\n",
       " '@LGA121894 @GlasgowMake @KoshkaTweeting @wimthetim @NicolaSturgeon @JoanMcAlpine @joannaccherry trans hate crimes gone up 81% this year... 9 in 10 have thought about committing suicide, because of reoccurring transphobic comments like this , making trans people use toilets/changing rooms assigned at birth will just make this worse\\nr u gonna ignore that?',\n",
       " 'the fact that cube would rather fuck their whole existence, along with the artists careers under their label to TRY AND PUNISH A RELATIONSHIP IS BEYOND ME. I hope they choke on a dusty ass dick.',\n",
       " \"When your phones at 3% but you're about to get laid... https://t.co/Zeeo339vrq\",\n",
       " 'Walking around with a half hard dick all day is a really good look on me',\n",
       " \"What bullshit. Kat &amp; Andre rejoicing because they got through. But they scored a 1. That's the equivalent of cheating. #mkr #killerblondes\",\n",
       " '@Mora_Fornelli An enemy of @clementine_ford is good enough for me...F/F',\n",
       " '@JuliaHB1 Are you actually advocating making up claims of rape for personal gain??? That’s pretty vile (@lilyallen)',\n",
       " '@shaner38 Toss \"denied student loans\" onto that list, as well.',\n",
       " '@JessicaValenti @nchammer326 maybe we should stop letting rapists be judges',\n",
       " 'How every man saying not all men, but every woman been sexually assaulted....',\n",
       " \"Hey, Twitter, @Grasspunch is probably a rapist. If you google his handle you can also see he's a white stoner gamer. SHOCKING\",\n",
       " '@foshtown @macfadyenangus @Derych @NicolaSturgeon I have a mean streak too... Helps when planning to win.. 😉😉',\n",
       " '@RGC_BPPA NO. I brought in that post to show why defending the term feminazi is rude given how harassers are using it towards Anita.',\n",
       " '@harikondabolu is a national treasure',\n",
       " \"How's this for sassy? From #voguecafe @MacquarieCentre But if I hear that word again I'll throw a shoe at the tv #mkr http://t.co/RJ56iwjy2x\",\n",
       " 'Witnessed an #Asian guy put himself down by stereotyping himself 2 defend his #white friends while standing in a McD drive-thru on La Brea',\n",
       " 'An Annie/Lloyd vs Kat/Andre elimination cook off would be....oh God....please let this happen.  #mkr',\n",
       " 'Oh...I get it now. Immunity on #mkr = not having to do the challenge. I was wondering where 4 of the teams were!',\n",
       " 'Felling love with this Couture Inspired Sandwich Maker by Dash: https://t.co/sfozqEj4ta #sandwichmaker #appliance… https://t.co/BLKaWIvcAD',\n",
       " \"@jkronenwetter18 I'm sure the commentators you DON'T find attractive make less money, because your opinion matters so much.\",\n",
       " 'What. 😦 #mkr\\n\\nThat was. Not ok.',\n",
       " \"Celine isn't funny stop it #mkr\",\n",
       " '@JihaTweAnbarwea Where are the buildings?',\n",
       " '\"Edgy\" means u get 2 complain about how persecuted you are for saying horrible things while u continue 2 face no consequences 4 saying them.',\n",
       " \"@thoughtxriot @lilmissagitated I was specifically on her side, 'cunt' was directed against the woman who compared b… https://t.co/a7whjEtaBX\",\n",
       " 'RT @Shimmyfab: @Icarusflyer @JustLaurenB @wesleywitch @GibberAUS @MT8_9 @TheJusticeCat wont drive this 2 my \"Stop Raping Class\" then http:/…',\n",
       " 'that is very true, any good Psychologist will tell you the same thing. Rape is rape by a more powerful assailant. https://t.co/juHGriHSvQ',\n",
       " '@AOC Are there any grown ups in their party? You can’t drag free people into socialism.',\n",
       " \"RT @WittySam: Colin's review of Kat &amp; Andre is equivalent of a teacher saying well done on writing your name in pencil. #mkr\",\n",
       " '@boxedariel Can you explain the wage gap?  What does the often cited 23% figure reference?',\n",
       " '@femfreq But how can they be raped if no men are there to rape them?',\n",
       " \"Most women just want to be ravaged... But sadly most of these men don't know what that means and wouldn't know where to begin...\",\n",
       " \"When you're fat but so cute that everyone loves you anyway https://t.co/k6j7xAbcEf\",\n",
       " \"RT @IronmanL1: The Quran likens taking a life to 'killing all of humanity' . . . kind of. . . not really.  #islam http://t.co/hdxmhyV06D\",\n",
       " 'Why does this stupid Herrera guy pass the ball without taking a touch then when he loses it presses like a cunt?',\n",
       " \"@WhoopiGoldberg When Roman Polanski drugged, raped and sodomized a 13 year old girl it wasnt 'rape, rape' right Whoppi? https://t.co/fmsGHPUZPh\",\n",
       " '@PrisonPlanet Telemarketer did same to me called me a whore and said he would rape me. Nice.',\n",
       " \"When I'm trying to figure out how my dick hasn't fallen off yet https://t.co/dJapP8DPAT\",\n",
       " \"@Ali_East_West Let's test that... http://t.co/Q518iRDd3B\",\n",
       " '@HPluckrose @Feminazi_Front Nature/evolution provided men &amp; women with perfect equanimity',\n",
       " '@MrAndyNgo Please don’t stop being kind. There are women out here that know not all men are pervs.',\n",
       " '@kezdugdale ...feeling proud of yourself Kez....\\nAll down to you I’m afraid. https://t.co/1pD8WQ6ges',\n",
       " '@98Halima @johnnygjokaj @somersert @cdnKhadija @BilalIGhumman @rfrankh53 And why do we care about this guy?',\n",
       " \"RT @JulianDeVizio: Can't get enough of My Kitchen Rules at the moment #MKR\",\n",
       " \"RT @RyanGebble: @YesYoureSexist Because FemShep was a character created to appease people in a pathetic way and didn't add depth or any dif…\",\n",
       " \"I don't have to tell my homies not to take women cus they don't want us we just move on to the next bitch 💯\",\n",
       " \"Says man who suggested an actress reported an historic rape to gain more work - you're a fully paid up cunt - https://t.co/ia9wKnM5Tm\",\n",
       " '@feministlah @GreenWeiner Women have more legal rights in every Western nation.  Who is privileged?',\n",
       " \"LRT: It's fucking rich when women are delegated the lion's share of housework and then mocked for their prowess at it.\",\n",
       " '@TURBOCUNT my new babies: http://t.co/rFODaqEHAW',\n",
       " \"I didn't take a picture with a bear @JessicaValenti https://t.co/6oUGjHN2lV\",\n",
       " '@JagoSarbahaara @autumnrainwish you forgot Ram mandir',\n",
       " 'Karma is a b i t c h #mkr &gt; Kat',\n",
       " '#MKR praying these two bloody bimbos will leave the comp in the next round',\n",
       " '\"@ErikssonMalin85: #QuestionsForMen ever walked home in dark seen another person and becomed scared?\"  Men are attacked 4 times more often.',\n",
       " '@theeagle1111111 Not all men. Some. And at least im not defending them like you are with the pussy grabber',\n",
       " 'RT @Angel__Kitty: These women are fighting against Islam in most unusual way~\\nhttp://t.co/yjw5iBDXfN',\n",
       " 'When someone online tries to come at me and thinks I care... https://t.co/3ag1u1elsY',\n",
       " 'I got an actual real life ‘not all men’ today, have I officially made it as a difficult woman now?',\n",
       " '@icecoldbulmers @AllisonMorris1 @johnfinucane Ps the disgruntled unionist excuse was a belter 😂😂😂',\n",
       " \"Maybe the reason why people aren't approaching Annie is because she's scary #MKR\",\n",
       " 'Kats face when the score was announced made me want to puke eww wtf #mkr',\n",
       " \"Pro Tip- There's nothing but sad lonely bitches at the bar drinking away their 'I'm a lonely loser' feels today\",\n",
       " '@photokill1 @TheMercedesXXX @GGmad_cat @Liberal_Lunacy me? One woman army. I melt feminazi brains or convert them to non zombies',\n",
       " 'If Richard Stallman has 1 GB of RAM, and if you have 1 GB of RAM, Richard Stallman has more RAM than you.',\n",
       " 'Bitch is literal referring to the mass murder of falsely accused women (and one man). Weinstein isn’t even to court… https://t.co/wg9UH72Ot4',\n",
       " 'I was watching a fight on Facebook that was edited and the one bitch got hit so many times they said “combo whore” 💀',\n",
       " '@GrantJKidney While the billions outside America love SNL and just point and laugh at the stupid cunt in the White House 😂😂😂',\n",
       " \"Ugh these #KillerBlondes are killer boring, and what's with spreading their dna all over the table? Unhygienic -and- gross! #MKR2015 #MKR\",\n",
       " 'Even if a woman goes to a nude beach .. doesnt warrant sexual abuse assault or rape .. stop victim shameing #metoo',\n",
       " 'Van Dyke Parks -America https://t.co/QMdmypT6yo',\n",
       " 'Gay fiancé is not going to cope being away from the fresh meat #MKR',\n",
       " '@Steve_Mac112 @NicolaSturgeon Blocked.',\n",
       " 'RT @catesish: THEY JUST CROSSED THE STREET AND ARE NOW WALKING DIRECTLY OPPOSITE OF ME',\n",
       " 'Social Media Ambassadors | WOAR - Women Organized Against Rape https://t.co/llp2iEFhin',\n",
       " \"@horowitz39 She's gonna rock n rolla with the Ayatollah !!! Another bundle of cash of course ... they can ride her camel (toe) I mean camel on a moonlight drive...\",\n",
       " 'Before I rip you a new asshole vs after https://t.co/F8tNFmarSZ',\n",
       " \"I haven't ever complained about #pokisquad stream sniping me lol\\n\\nI have only spoken about the type of @UnburntWitch #gamergate harassment and DPR type or threats made on my life because y'all support @pokimanelol\\n\\nI even changed my lag on my @TeamYouTube to help you snipe me🤣\",\n",
       " \"It's the #mkr ladies cooking up a storm already at #Crabfest15 http://t.co/Vl0RUEduOx\",\n",
       " \"Waiting for outrage. You'll see.\",\n",
       " \"I can't believe that amidst a rape discussion, a whole woman called in to remind us that not all men are trash. Increds.\",\n",
       " \"#mkr That steaming cunt will go down in flames in a very short time. They still can't cook\",\n",
       " \"Dear Facebook, Jus coz I have these whores numbers in my phone doesn't mean I want them seeing my personal life, please stop suggesting them\",\n",
       " 'RT @DisgruntleGamer: @JustLaurenB @grybranix @MT8_9 @clitbabe @JulianDavis @Synthovine In Canada 10-18% of us are not fathered by the man w…',\n",
       " '@Snewsma @AgentP22 @NicolaSturgeon A crowd of racists. Open to all? What a joke. So anti English. You should be ashamed',\n",
       " \"@JustJennnnnni @seroovilbrooks That's what's so ridiculous to me. It's like watching the 'feminazi stole my ice cream' thing in real life.\",\n",
       " \"RT @Awkward_Duck: Too many asking protests not be disruptive. That's the entire point! We're here to interrupt the status quo, not plan aro…\",\n",
       " '@ceruleetheblue @UnburntWitch I’m saying white nationalists are clowns with poisoned minds who kill people every week and never get laid',\n",
       " \"@VijayTrehan9 @Swamy39 Ask your mom, you son of filthhyy pimp. BTW how's your mom surviving in her Red Light District Area quarters\",\n",
       " '@alston_myles @Mrminibagel ...sorry, just checked your TL.  I thought you were arguing in concert w/ this genius... http://t.co/CSEPnXse48',\n",
       " '@FoxDefeated @UnburntWitch none, this is What If? number 44, a single issue. hell of a single issue',\n",
       " 'That guy kept going for a while, too. I think he proposed. Are we married now? Does this mean I have health insurance?',\n",
       " '@boxedariel @LostSailorNY No one said she should.',\n",
       " \"Guess one of em isn't too bad ;) #mkr\",\n",
       " \"Don't sell me dreams cause I'll return them as nightmares\",\n",
       " \"'Australia's favourites are back'? Uhh.... what?! #MKR\",\n",
       " \"I just....can't.....do .....it. (post a lame, inane tweet to see it on TV) #MKR\",\n",
       " 'Having a dirty mind makes life a lot more enjoyable.',\n",
       " '@JeriLRyan @linseygodfrey Lies! Women who came out of the gutter all of a sudden cry rape or abuse but traded it fo… https://t.co/t5For8SCow',\n",
       " \"I'm kind of a big deal for someone who ain't shit\",\n",
       " '#mkr ahhh... the dulcet tones of Robert the Texan...',\n",
       " \"@halalcunty @biebervalue @liamxkiwi @greenlinerzjm @halalflaws I know you can't leave country without male permission.\",\n",
       " \"RT @jamesy_cuv: The best part of a woman's body is their hands, simply because they can make sandwiches and clean shit with them #notsexist\",\n",
       " 'Yep, by stoning women to death when they report rape. No reporting. No more scandals. https://t.co/vcGLojHDsj https://t.co/sfQ5CbN4fT',\n",
       " '(1) @DebraMessing < STFU These women put their babies in harms way &Subject them 2 rape &more by the coyotes who they pay 2 bring them here.',\n",
       " 'Everyone has immunity this week...Kat and Andre are sure to fail big time #mkr',\n",
       " '@Stan_Philo agreed.',\n",
       " '@FeministFailure @MaravillaTom What is the event?',\n",
       " '@erinjmccarty YUP. Clemson Uni.',\n",
       " \"@PelorsHope OK, you win that one.  Go tell your cousin's friend to fork it over...\",\n",
       " \"RT @oldgfatherclock: @YesYoureSexist @mjb_1971 it's not the same job...otherwise they'd be competing against each other. Better sportsperso…\",\n",
       " \"@TylerBucket24 I wish I had a dollar for every time I met people who didn't understand basic psychological concepts like confirmation bias\",\n",
       " \"@youfoundthecard @ChrisWarcraft I'm not as young as you think I am :P\",\n",
       " '@jimrome  @SklarBrothers Only a mother could love Shea Stadium.\\n-Butt Ugly',\n",
       " 'where are my fellow hysterical women who would have either been a) an oracle in ancient greece or b) burned at the stake in medieval times..make some noise ladies',\n",
       " \"#menrdecent India men should grab the RSS feed of my blog to see men of the world fighting for men's rights. http://t.co/6n4V9kBtya\",\n",
       " \"#MKR you'd think in her downtime Annie would have paid Napoléon Perdis a visit and learnt not to use the same coloured blush as your hair...\",\n",
       " 'Usually it’s about thus time shopping with my Mom I start being a bitch because I have no patience for it but I am trying so hard to be good.',\n",
       " '@howradisit @UnburntWitch \"Like we treated nazis in America\" guess what? Silence and politeness isn\\'t what happened there',\n",
       " '@reddroostermann @No1_2Trust Of course there are countries where there are no greedy corporations and no private banks, like North Korea.',\n",
       " \"Kat and Andre shouldn't be there they suck dick holes. The moles win my vote with the burnt butter icecream #mkr\",\n",
       " 'RT @BackCzech88: When a dog bites a child, nobody blames the child for being afraid of all dogs after. #BlameOneNotAll',\n",
       " \"I hate it when people say they're never gonna talk to me again... And then they do...\",\n",
       " '#mkr is it ok if I hit Kat? Cause that was not cool',\n",
       " 'Pizza shops owner and 3 workers gang rape lost girl who asked them for directions https://t.co/XxyMNhfeHM',\n",
       " 'is this a dirty tl 🥺',\n",
       " \"When your leg cramps up while you're fuckin https://t.co/T0zRokkUAV\",\n",
       " \"@_JuicyGina you've turned into such trash #WomenSuck\",\n",
       " \".@NotChrisSmith Free market. They get what they negotiate. Producers feel it's fair or not. The actor/actress can accept or not. #AskHerMore\",\n",
       " '@BrandesStoddard The princess is destined to evolve into the next queen when she one day has a daughter. At that time the current queen will be killed so that the new princess can construct a throne from the bones of her grandmother.',\n",
       " 'I really hope Kat gets hit by a bus, than reversed over, than driven over again, than reversed  than....  #mkr',\n",
       " '@mattmfm Wrong, you slithering kunt.',\n",
       " \"@girlziplocked i'm an engineer w/15 yrs exp, and i get mansplained career advice by dudes with 1/2 the xp and bad life decisions.\",\n",
       " \"RT @join_oapi: We're looking for volunteers! http://t.co/uWFHoYhK4x\",\n",
       " \"I wouldn't have done anything if you didn't express any interest THE BITCH WAS 12 YOU MOTHER FUCKING CUNT. HE REALLY IS TRYING TO JUSTIFY HIMSELD..THIS IS EXACTLY WHY HE SHOULDN'T HAVE BEEN RELEASED\",\n",
       " \"Nobody texts faster than a guy that's about to get some new pussy\",\n",
       " 'Summer? More like camel toe season',\n",
       " 'in other news, just been called a skank and a cunt for telling a man not to hit, headbutt and slap his child',\n",
       " 'West Indian Heritage Month: Born on the Caribbean island of Cuba Desi Arnaz was a successful actor and producer. Desilu produced The Andy Griffith Show, The Dick Van Dyke Show, The Lucy Show, Mission: Impossible, and Star Trek. https://t.co/xZaIN2F0cn',\n",
       " '@liamxkiwi @greenlinerzjm @halalflaws @biebervalue Another Muslim blowhard. The average GDP in Saudi is less than the US. And women r slaves',\n",
       " 'My Kitchen Rules #MKR 2015 episode 23 recap: Eva and Debra serve up a record ... - @SMH_news http://t.co/DKA5rXsxJk',\n",
       " \"RT @VikingsFan1964: “@NFL_Memes: NFL Valentine's Day Cards http://t.co/VTT7oRsboe” @steelchick34 @PollyY2C\",\n",
       " '@M_Wein @edzitron im p. worried now tbh',\n",
       " 'Geez, should have expect the unexpected. I just happen to forget to foresee what a mouth of skank you have.',\n",
       " \"@themeredith and I'd rather shove the fat side of a wine bottle up your ass... We all have our preferences 🌚\",\n",
       " \"It's kinda cold but I don't want to stop wearing my superhero outfit.\",\n",
       " '@kent_keith Stars wars t shirt is quite apt. He certainly looks like he is from another planet 🙄 what a dirty scumbag!',\n",
       " \"@travisalabanza @LGBTIQoutside Anyone who tries to defend women's rights is accused of transphobia.\",\n",
       " 'RT @join_oapi: Revenge Porn and doxxing was just banned from Twitter. http://t.co/e0LndwyWJA https://t.co/m2ZigUXYSh',\n",
       " 'Baba is asking if you liked the number 69, that number before 70, you get? Jeez! You have a dirty mind😁 https://t.co/ye6WtK3e9N',\n",
       " '@NorthWitch69 you give me a penis boner 😘',\n",
       " '@korvys 800 sq ft',\n",
       " 'Katie is all sASS   #MKR',\n",
       " \"RT @candycandyilove: And for dessert, a dropped pie -like Katie's face #mkr2015 #MKR\",\n",
       " '@Ryan140GG Nope. Adoption and safe haven.  She is not bound.',\n",
       " '@Xer0Dynamite uh, okay?',\n",
       " '@MichaelToes @MrRepzion and here we see the lesser spotted feminazi being ridiculed by equalitarians',\n",
       " '2 really slow days. [ not even sarcastic, this is considered low volume ] http://t.co/J0UNIsPQkc',\n",
       " '@LeftisEvil6 Legally it is rape if you inserted something inside someone without their consent',\n",
       " '@MaddyBaylor Hey @BristolBen please translate this nonsensical nonanswer if you can...TY. @FutureFeminism',\n",
       " '#MKR #MKRAUS This will be my face when your nasally, bogan head is banished from my TV! #superbogan #cheats #ihateyou http://t.co/2PNnMR0r5f',\n",
       " '.@jlorry96 twitter search for my name and \"set yourself on fire\" and see if i give two shits about what you think.',\n",
       " '@JessicaValenti Unacceptable I’m furious',\n",
       " '@13_moths @UnburntWitch So you’re supporting terrorists okay thanks for telling everyone that',\n",
       " '@bkerensa sometimes!',\n",
       " '@JTheJudge The thing is some men are shy and some women are more forceful like me: not all men are the out front protectors.',\n",
       " '@thehill No doubt cory wins most hysterical women his eyes are popping out of his head foaming at the mouth',\n",
       " \"I love little kid 'foodies'.  #mkr\",\n",
       " '@13_moths @UnburntWitch Wait are you saying Antifa is Batman?\\nNarcissistic personality disorder https://t.co/JlPPqD327U',\n",
       " \"@oolon you know this is like the only time a dude's code was ever incorrectly attributed to a chick, ever. :P\",\n",
       " 'Kat and Andre are so so mean. #mkr',\n",
       " '@nickalicious_49 @FilmFatale_NYC You 😊 sure 😊 are 😊 #NotAllMen',\n",
       " 'RT @victorymonk: Oh, I have one too!!!  @MT8_9 @HisFeministMama @fruitondabottom http://t.co/jrvmjyILge',\n",
       " 'Kat the #CuntFaceBitch #mkr lives to fight on. http://t.co/ngtgO2U85R',\n",
       " 'Wearing extensions around me is as dumb as wearing panties around me... They both getting ripped off of you',\n",
       " \"@PoliticsShawn @social_gazette The prince looks cute cause he's a child. Wait until he hits puberty, the little toad will look butt ugly!\",\n",
       " \"@CarterGee we'll have to agree to disagree. :P\",\n",
       " \"@Oneiorosgrip @Dogsplained That's what I thought at first...haven't read comics in a while, so...I have no reference.  Awesome job if fake.\",\n",
       " '@themeredith the man is a legend in my mind 😂',\n",
       " \"#Metoo 'If all the women who have been [#rape(d)] wrote 'Me too.' as a status we might give people a sense of the magnitude of the problem.”\",\n",
       " 'RT @finicalgal: NOTE: In a spatchcock dish, the pomegranate being the \"star of the dish\" is not a GOOD thing.\\n#MKR',\n",
       " '@KristianJosephs Do you know how traumatizing rape is?',\n",
       " '@a_leesha1 You are hysterical get a grip & focus more on the systematic rape, abuse and murder of women by sections… https://t.co/oDSFu9u4OW',\n",
       " \"Never thought I'd feel bad for #promogirls, but that episode got me right in the feels. And now I feels like punching Andre #MKR\",\n",
       " '@DavidFeild @ThelmaSleaze @the_author_ then why did she link to *my* tweet?',\n",
       " \"Can't believe #cuntandandre are still in the comp\\n#mkr\",\n",
       " 'Guy with the cap and Pete said.\\nBye Kat and Minion #mkr',\n",
       " \"Neter Sesen Book 2 Verses 61 -62: Tehuti: 'Do not all men have a mind?' Sesen: ' Be cautious what you say, for I... https://t.co/k5Rz1ym2Zt\",\n",
       " \"@safirnewstv Gee, an opinion with zero evidence.  I'm convinced.\",\n",
       " \"When someone announces that they are 'officially unfollowing' https://t.co/suuWPZ2tnN\",\n",
       " \"By making it a Muslim man's right to rape non -Muslim women and children. Normalize it, and remove the outrage. https://t.co/2lCvwPiDxh\",\n",
       " \"The other teams KNEW kat would vote strategically, why wouldn't they score higher to get rid of kandre #mkr #cunce #katisadog #katisdirt\",\n",
       " \"Dealing with journalists 101: Don't use slang if you don't fully understand the implications. // @wadhwa\",\n",
       " \"When she's bitching at you for absolutely no reason and you're wondering why you ever left the single life https://t.co/WSXsWvQgYk\",\n",
       " \"Have a feeling u'd find s'thing 2 complain about. @Hheath10 wouldn't care if she was just an average ref but she got it all wrong #notsexist\",\n",
       " '@amishman84 @Tara_lyn1 @NicolaSturgeon You say we’re angry. If you were to consider women’s point of view at all, you would realise why. How is it that you empathise so readily with transwomen, yet not with women?',\n",
       " 'Brilliant, stone a woman after rape, there is no scandal. https://t.co/tzvGXBpDnZ',\n",
       " '@stericasantos @ImmortalTech @JessicaValenti Looks like someone who lives and breathes lobbyist money 🤮',\n",
       " 'All of a sudden the guy went hysterical because he thought that the girl is assuming that something’s going on between the both of them.',\n",
       " '@pNibbler @AlterNet @MaxBlumenthal Hate Nazism, not the Nazis.',\n",
       " 'Not all men. Rather, all men and women - - and journalists - - working in Hollywood.',\n",
       " 'Seen it many times. Hair brushes too https://t.co/yGPJNmMz7g',\n",
       " \"RT @melbsonmymind: I have that ice cream maker. She's got the central insert in upside down. #mkr\",\n",
       " \"@PetuniaCatLand @yona1959 @CageTheErumpent @ScotlandChooses @NicolaSturgeon Karen white self iding isn't an issue though. It's the prison system fucking up and letting a trans prisoner with a clearly documented history of violent assaults on women mingle with gen pop.\",\n",
       " \"RT @KanoWyatt: @jennahhhx I pay the bills in this household it's the least she can do\",\n",
       " 'RT @OlieCoco: Fingers crossed Kat &amp; Andre go into sudden death - where they belong! #mkr #katandandre',\n",
       " 'New dress!!! http://t.co/extjriLnty',\n",
       " \"@TheRickWilson Perhaps Ann meant to tweat that she wished she herself had been present to compete for the most hysterical woman? Regarding Kavanaugh, as Harris & Booker's questions revealed, I felt that he was less than decisive, forthright with his answe\",\n",
       " '@NicolaSturgeon 48% of transwomen serving 6mth+ sentences in UK prisons are sex offenders.\\n\\nTranswomen are usually unmedicated heterosexual men &amp; have the offending profile (unsurprisingly) of unmedicated heterosexual men.',\n",
       " '#MotivationMonday \"Good leaders make good leaders.\" -- Logan Dyke, a #CommunityPartnershipSchool student leader spoke to @MZSHAUNEE @iHeartMedia with @Community4us1 about the model and the impact on students and entire communities. Listen HERE: https://t.co/WyvF4HHwDi',\n",
       " 'I still can’t believe someone actually typed out “pedophile isn’t a dirty or shameful word” and then sent the tweet',\n",
       " \"@UnburntWitch That's over $1200 in 2019 money lmao\",\n",
       " '@ULTRAGLOSS Thank you Logan for building my childhood leading me up to being a white mans whore by being in the Percy Jackson movies',\n",
       " '______________________| | Shut the fuck Up you pussy|______________________| \\\\ / (- )',\n",
       " '@stimpyrules need to sit here with @sherirubin :)',\n",
       " '@realDonaldTrump #johnfkelly. I remember the golden woman years in the NJ State Police being callked a cunt for 20 years. Sacred,I think not',\n",
       " \"@GlennF @ChrisWarcraft i'm just gonna credit mike judge.\",\n",
       " \".@SopranoJM  ...can't relate.  Have to be overtime of Game 7 of the Stanley Cup Finals w/ no DVR.\",\n",
       " 'Pro Tip- Stop thinking you are special... You in fact are not',\n",
       " \"@trishesdishes  No.  Name one men's right they fight for...\",\n",
       " '@DQTwitchStream Allegedly did Hartnells ugly wife.',\n",
       " '@BristolBen I think Arquette is a dummy who believes it.  Not a Valenti who knowingly lies.',\n",
       " 'Men are fighting for their rights. Subscribe with RSS. #EqualParenting #bb16 http://t.co/6n4V9kBtya',\n",
       " '@Bryan_G_URU @Antifada161 @UnburntWitch Says who?',\n",
       " '@UnburntWitch Holmes &amp; Watson\\xa02018',\n",
       " '#MKR France Vs Ireland Vs Paleo Pete...LETS RUMBLE!',\n",
       " '@reddroostermann @No1_2Trust Their position now is democratic confederalism.',\n",
       " '@UnburntWitch On an “Empire Strikes Back” Hoth monster ❤️',\n",
       " 'It doesn\\'t \"pertain to the workforce\" because women\\'s work isn\\'t paid, and therefore is not considered work. But you know, shine on',\n",
       " \"RT @join_oapi: Great article!\\n\\nWired | Curbing Online Abuse Isn't Impossible, Here's Where We Start http://t.co/MJEj6niarc\",\n",
       " 'My fave too now bring on the #salmondish #MKR yuuuummmm #peopleschoice http://t.co/aLVZUYUJ4y',\n",
       " '@antifempsycho2 Two people went to jail in the UK for criticizing feminists.',\n",
       " \"I'm sure that sausage on the hotpot looks more like a turd.. #MKR\",\n",
       " \"@PeerWorker @EvvyKube Nope. You keep saying that, but we both know you're lying. Show me where I called you stupid.\",\n",
       " '@cruzesmeralda Are you complaining? Do you know how to defeat ISIS with no civilian or property damage?',\n",
       " '@Royal__Reporter @NicolaSturgeon Never seem krankie daily tweet mentioning this, I wonder why?😜',\n",
       " '@ClayTravis Eric Swallowswell is a dipshit. Camel Toe Harris is an emotional basket case. Joe is a total creep. And someone needs to tell Senator Bennett aka Mr. Mackey “drugs are bad ummmkay?”',\n",
       " '@GOP @POTUS A man with 3 wives, 15 women accused him of assault, 13 yr old girl accused him of rape, makes speech about religion &; values. Funny! https://t.co/qq8L27OwFh',\n",
       " '@HumanistFury You pay, yes.  Split, no.  She pays, no.',\n",
       " 'Is there enough blue in the wardrobe department!?\\n#mkr',\n",
       " '@jacksfilms Anti-Feminazi also uploaded the same video... just saying.',\n",
       " 'Its a dirty game out here yo',\n",
       " \"I've kind of missed Annie's batshit crazy weirdness #mkr\",\n",
       " 'A 10-year-old rape victim gave birth in India\\xa0–\\xa0and the girl was unaware that she was ever pregnant. https://t.co/ZKbGz5O2DP https://t.co/6Cqj4RLPZM',\n",
       " \"When someone says they're unfollowing for what I post on MY FUCKING PAGE.... FOH https://t.co/KKZq7w5LtC\",\n",
       " 'Now his slag mother has been blown up hopefully that lil cunt gets it nxt as well https://t.co/BTmxENcXKR',\n",
       " '.@MarciaCrocker01 @trishesdishes ..mistake. I find both abortion &amp; child abandonment detestable. But, if one gets an awful choice, both must',\n",
       " 'Hooray! #MKR just got exciting again lol',\n",
       " \"She can't hear you you little troll #mkr\",\n",
       " '@ZilayHumaDar How could I forget my buddy @SJzehri. But with not a dirty but very sharp and intelligent mind.. 😊😊',\n",
       " \"@zesty_leftwing Its the muslins, you can't object to rape in Islam, to do so is to insult Muhammed.\",\n",
       " '@NUBionicwoman Is it wrong to argue by implying the other person cannot get laid?',\n",
       " 'HA-HA-HA.... TAKE THAT KAT!!!!! YOU SUCK!! #MKR',\n",
       " '@ajaydevgn you sir such a humble person but @aamir_khan he is a business man. Ab to confirm ho gaya screen 50-50 hi milega 😂',\n",
       " 'RT @redbrasco: The best statement I`ve seen about #Kurdistan.The West needs 2 wake-up and fully support the #Kurds. #TwitterKurds http://t.…',\n",
       " 'Today is co-founder and steering group member @kezdugdale’s last sitting day in Scottish Parliament. Huge thanks to her for pushing forward the work towards women’s fair representation in her role as MSP for the lothians 👍🏽',\n",
       " '@SharkFu You have to be kidding! This is some Bull! https://t.co/Iv5KjVUtVG',\n",
       " 'FUCK. MY GARRISON.',\n",
       " 'Guilty: Man did rape woman on Darlington riverbank https://t.co/fZtcevTJI9',\n",
       " '@JessicaValenti @abradacabla *white boys can',\n",
       " '@UnburntWitch You obviously have never watched his content',\n",
       " \"@daffy5dugs @Janela_X @MhairiHunter @Ips_cali @BBCPhilipSim @theSNP @NicolaSturgeon But you don't see that person as doing anything wrong because he supports your thinking....ideology so that's OK then eh🤔🤔🤔🤔\",\n",
       " '@dennisrakim @LoveSarae @jussnanette Fam all you’re doing is arguing the narrative that “not all men” as if you kno… https://t.co/O5O6drmOwv',\n",
       " 'These are the same people screeching about how Sarkeesian is an \"angry feminazi\" even though her videos are never less than calm &amp; measured.',\n",
       " '@DanielleDASH @mikeleffingwell his wife Barbara',\n",
       " 'Maybe the girls should have less tickets on themselves and worry about the cooking. #MKR',\n",
       " \"I wouldn't be talking to you if I just wanted to be friends. #WomenSuck\",\n",
       " '@UnburntWitch But we can agree that in retail, closers work harder than openers, right?',\n",
       " 'This is an ex-coworker of mine. She was also an enforcer for far longer than I was.\\n\\nhttps://t.co/NByQoZCiK0',\n",
       " \"Ain't that the truth https://t.co/M21cQHhrht\",\n",
       " '@UnburntWitch She is  so tiny\\nperfect doggo',\n",
       " 'RT @RICANROLL: @YesYoureSexist no, rape is',\n",
       " \"@petite_royale Hmmm...... But you know it's not all men\",\n",
       " \"So @CoryBooker is a faker and a tool. And he's competing with @SenKamalaHarris to see who can be the most hysterical woman in the Senate. What a surprise.#Kavanaugh #Trump2020\",\n",
       " \"@amberhasalamb I didn't realize I was supposed to treat you as a child whose opinion is irrelevant, sorry.  My bad.\",\n",
       " \"Yo @KJAllianceGoA it must suck to be that terrible at pvp. I'd have to invent rumors about being against 40 people too if I was that bad. :(\",\n",
       " 'Obama just said \"user face desginer\" - oh no. no no no.',\n",
       " \"Girls are not human beings, they're objects\",\n",
       " 'They also attack the stat that 1 Aussie woman a week is killed by her partner. They swat it away in the biggest #notallmen ways.',\n",
       " '@JessicaValenti Na this ain’t for real.',\n",
       " 'Be careful what you do to a good woman because you will have to deal with the bitch you created 😏',\n",
       " '@mutaSawwif @TawheedNetwork_ Are you actually denying that Sharia says that apostates must be killed?',\n",
       " \"A 4th round of instant restaurants? I thought 3 was enough this year. Don't get me wrong i love this show but seriously? #MKR\",\n",
       " 'Are they going to \"sudden debt\" or \"sudden death\"?\\n\\n#MKR',\n",
       " \"Remember nothing says 'I love you' like letting her pay for dinner... It shows her that you really trust her to take care of you\",\n",
       " '@willberthelot @naaadnerb Deadbeat dad-ism is ILLEGAL.  This is the LEGAL system screwing him.',\n",
       " '@SirScatters @nonirishpaddy Oh, missed that part of it.  No...no reason to get physical.',\n",
       " 'Pro Tip- Gray board shorts show a dick print just as good as gray sweats',\n",
       " \"If I'm only nice to you and don't insult you, I don't want to sleep with you\",\n",
       " \"Fuck it, I'll just play The Sims 4. Because Origin never breaks, right?\",\n",
       " \"RT @doctorow: They have summoned the 'SOC'\",\n",
       " '@nowthisnews I believe Putin has a video of trump screwing a 12 yr old in Moscow hotel. Trumps resorts are whore houses for the rich. He golfs a lot.',\n",
       " 'Sub or not all men are weak & stupid for me be useful and keep fetching my clips @ https://t.co/bQ2h7877nr… https://t.co/xHYKoHgHyN',\n",
       " 'Do yourself a favor and read this badass shit: http://t.co/xmM2JWwyr1',\n",
       " 'I need a gif of a woman laughing derisively while dropping garbage in the trash, because that is my mentions.',\n",
       " 'RT @olivewhippet: Kat and Andre are serving \"floaters\" for dessert #MKR http://t.co/nhvsgYh3NF',\n",
       " '@nwOryzen Borrowed from Q on Startrek.',\n",
       " '@AzakaelTweets blasphemy',\n",
       " '@rdxxxz @Whore_Hey97 Streams',\n",
       " '@hypatiadotca a million times this.',\n",
       " '@edgeofthesandbx @batchelorshow @FearDept And any fool can read about Stephan Bandera and find that he had no Nazi ideaology.',\n",
       " 'I usually dont hate people but I actually hate that bitch. You tried to be friends with me outside of work and then when I had a crisis you decided to be professional and use that against me. Thats the worst type of person. Fucking cunt will get hers though.',\n",
       " '@DoctorAvenue sorry 😟',\n",
       " 'I should not be up this early, but this bitch ass bird flew into my window and now we can’t fall back asleep',\n",
       " \"If you're a man, women can't be trusted. They'll turn against you, it's in their nature.!\",\n",
       " '@RepStevenSmith Since you believe in justice for rape victims I hope you will stand up for the women who have accus… https://t.co/d4b9AFEOAT',\n",
       " \"You're ugly. Caking on makeup can't fix ugly. It just makes it worse!\",\n",
       " 'RT @nrrrdcore: At the very least, questions will be raised. And we now understand that women in our industry must choose between incompeten…',\n",
       " '@sinboy or just scary',\n",
       " \"RT @natashaessell: You guys are scoring them a 1? Really Kat and Andre? I think the fat on the pork is actually more edible that your 'home…\",\n",
       " '@realDonaldTrump STFU Donnie. Theres no one who gives grades for things like natural disaster relief. You f*cked that one up and 3,000 people are dead. Now youre mocking them. Youre a loser, a pussy, and a bully all wrapped up in a flabby orange skinsuit.',\n",
       " 'Not all men treat women badly. There are some really great ones and they deserve recognition. Maybe this way we can show our daughters...',\n",
       " \"#mkr It's looking like Lynn and Tony will be safe.\",\n",
       " '@scarmichael18 @shaner38 No idea what u said.',\n",
       " 'Kat, your cooking appears to be as unpleasant as you. #MKR',\n",
       " '@pattonoswalt Going to be where no one will leave the house or even look at a woman because she will claim “rape”.… https://t.co/gyhAbEtqSA',\n",
       " 'I greeted the Uber driver with a simple “hello”, and he dead came off mad rude. Do I need to tell you that it smells like a dirty McDonald’s uniform in this car?',\n",
       " '@Damhan97 How is that related to Islam?',\n",
       " '@AllisonMorris1 @irish_news poor don-yeoo, his only crime was posting banter.😔',\n",
       " '@JoshuaCallen @DropThe_Mic not all men are bad, but you certainly are',\n",
       " '@13_moths @UnburntWitch Wrong answer.\\n\\nBatman would despise Antifa. Batman always believed in the freedom of speech and press, Antifa never has. Batman allows both sides to talk, Antifa is biased on it.\\n\\nI can go on all day, while your analogy gets sliced down. https://t.co/0jFUVAnGEr',\n",
       " '@CarlyandTresne you are the best #MKR',\n",
       " '@eminemtbfh @iconicora \"It is fact.\" &lt;-- offers no evidence',\n",
       " '@witch_sniffer @auntysoapbox I know...was on #NoMorePage3 for that whole thing.  Best troll EVER.',\n",
       " '@BRIGHTPRIMATE @ChrisWarcraft give it time.❤️',\n",
       " '@sakjur i usually go with thin crust, garlic pesto sauce, feta + garlic toppings. is good even with chain restaurants.',\n",
       " '@UnburntWitch That lime has a HUGE patch of fuzzy white mold growing on it',\n",
       " '@Sheilam19534814 @catskiv @IanMurrayMP @NicolaSturgeon Sad lonely Ian. Wee nervous man from yesterday’s party, confirming that he has absolutely no grasp on politics, no interest in Scotland or Scottish peoples welfare and is only a Labour luvvie apologist for a party that’s maybe pro Brexit, who knows? The weakest WM opposition ever',\n",
       " \"RT @PatriceChienne: Everything is deconstructed. They're no good at erections then? #MKR\",\n",
       " 'See you GF week #mkr for the real stuff #boring #imdone',\n",
       " '@1800PetMeds Macchiato would love cooking in Home Ec class! She could stay in the kitchen and sample what she made :) #win #contest',\n",
       " 'Uplay, kindly fuck off into a fire.',\n",
       " 'I hate playing never have I ever cause I have',\n",
       " \"jacquirudd: This is why this show is ridiculous - it's not about the cooking...it's about the game playing. #mkr #whogivesa1\",\n",
       " 'No, “not all men” are like Harvey Weinstein – but apparently the left wants you to think so https://t.co/g6UOi32CGk https://t.co/U7k4DY2Lo2',\n",
       " 'Congratulations to Juan Lara Reyes on his new 2018 Loaded Ram 1500! We greatly appreciate your business!! Hope you enjoy your new ride!!!',\n",
       " 'RT @Ben_Creasey86: #MKR \"everyone under estimated us\" umm bitch you came second last, like literally just survived - you didn\\'t win! My god…',\n",
       " '@DefaultProphet this even caused some controversy, iirc.',\n",
       " '@JessicaValenti Jesus. The way the judge went about the whole thing makes me wonder who he’s raped.',\n",
       " \"@saintbenny63 @Peter90666913 @Qantas So israel Folau quotes a verse of the Bible and gets smashed, but Mundine says they should be killed and yet i don't see Twitter going crazy. Is it double standards or just an attack on Christian beliefs?\",\n",
       " \"@RealCandaceO @AOC @SenSanders Let me translate: People that view themselves as permanent victims are bad. You're the REAL victims, my #MAGA peeps... and @realDonaldTrump always being treated unfairly 😂\",\n",
       " 'I just watched #LawAndOrderSVU. It was... distressing. Corny early in the ep, but then... jesus.',\n",
       " 'Lamb meatballs for breakfast. WTF! #mkr',\n",
       " \"When you're trying your best to fit in https://t.co/o78N69sDOm\",\n",
       " 'a gay just wanted to go to pride once to say they’ve done so but now i can definitively say that the dyke march was like at least 50x better than chicago pride',\n",
       " 'RT @RKHayer: #Kurds &amp; #YPG drive out #ISIS from border area 3km from #TalAbyad &amp;Cut #ISIS off #Syria in #Singhal http://t.co/QXayaIhpS8 via…',\n",
       " \"Everything is deconstructed. They're no good at erections then? #MKR\",\n",
       " '@AOC man you are so insecure lol if you’re going to dish it you better learn to eat it too https://t.co/f1pBcukqpN',\n",
       " 'RT @morninggloria: . @MT8_9 where can I buy this in bulk',\n",
       " 'Ew Kat and Andre are still in the comp. #MKR',\n",
       " 'Imaginate el pobre Dick Van Dyke, crucificado en Times Square.',\n",
       " 'RT @natpattherat &lt;&lt;&lt;as funny as a fart in an elevator : They have treated this lemon tart worse than Brandis did Triggs #MKR',\n",
       " '@AnnCoulter @DonaldJTrumpJr You need to crawl back under your are the hysterical woman.',\n",
       " '@notyoursweetbab @UnburntWitch I mean I agree with 95% of the stuff that he says but he is a big a******* the way he got banned from Magic the Gathering was because of sjws and most likely gender politics. Pandering and all that but his attitude is what makes him an asshat.',\n",
       " 'RT @muffintopmon: Deconstructed anything just sounds lazy.\\n\\nHere, try my deconstructed muesli bar!\\n\\n*hands you a bag of trail mix*\\n\\n #MKR',\n",
       " 'Online harassment takes many forms. Some is actionable, by the service provider (ToS) or law enforcement.',\n",
       " 'RT @DavidCleevely: Raspberry Pi Foundation looking for a new CEO. One of the most exciting jobs in the charity sector!  https://t.co/GnoefX…',\n",
       " \"@LeoKikiLady89 Men's rights activist or advocate.\",\n",
       " 'This Girl Got Rape Threats On Facebook, What She Did Next Will Inspire Everyone! https://t.co/3XCE7FalkB',\n",
       " \"@Angry_Feminazi @FeministFailure it's seems to mainly to be young women mostly. I hope these post haunt her forever.\",\n",
       " '@AnnCoulter And I was the most hysterical woman while watching comedians tear you a new one at the roast of Rob Lowe!!! Hahahahaha Hysterical!!!',\n",
       " \"@wetsprocket the only thing that's really concerning is that she's stalkerish in her obsession. reminds me of dude that showed up at my work\",\n",
       " '@jaredchase killing you how?',\n",
       " \"What's the polite way to say, excuse me but I think I speak for everyone on the boat when I say I'd love to make a sloppy mess of your wife\",\n",
       " 'Investigation underway after woman reports rape on OU campus https://t.co/l0B7PTwmnk',\n",
       " 'RT @TastelessGents: When you first start dating vs a year later https://t.co/vTFfxoGGeJ',\n",
       " 'Who is toby? http://t.co/NVq8FKo1YH',\n",
       " \"@Kokomothegreat I feel your pain.\\n\\nThat's the EXACT same thing my rapist said to me.\\n\\nCalled me a whore while he raped me.\\n\\nI stand beside you.\\n\\n#StrongerTogether\",\n",
       " \"RT @shannoneurell: Fark. At this rate #mkr won't crown a winner until 2022. Just get on with it\",\n",
       " \"I apologise on behalf of my generation for Nikki and Katie. We aren't all so vapid. #MKR #NikkiandKatie\",\n",
       " '@AMohedin @halalflaws @islamdefense @haroonstyles @greenlinerzjm What does your 4:34 say? Same as these? http://t.co/euBhAxWUDK',\n",
       " \".@a2daj123456 Thanks.  I think it's hilarious.  But, I realize there is a limited market for Terry Pendleton humor...\",\n",
       " '@up_adventures @stuart272 @NicolaSturgeon \"Overwhelmingly\"\\n\\nIt was a UK wide referendum, and 1 million Scots (myself included) voted to leave.',\n",
       " '@S_Elhussieny you, yes you, are the one who planted them to victimize yourself #feminazi 😂😂😂',\n",
       " '@darxtorm sigh',\n",
       " 'Breaking from the whitehouse. \"User Face Designer\" is now a tech job title.',\n",
       " \"Ever been so hungover that your stomach feels like it's eating itself\",\n",
       " \"A frightening piece from the zealot Jessica Valenti of @EverydaySexism fame: universities right to deny education to anyone who's ever been a racist.https://t.co/86JGdZYcwY\",\n",
       " '#Egyptian president wants joint #Arab force to fight Islamist terror http://t.co/YWQlC0YUIM via @timesofisrael',\n",
       " \"You're pure comedy to the WNBA. @itsshaqhoe Not sexist but WNBA is pure comedy to me .\",\n",
       " '@4corners Lots watching #MKR who are oblivious about where tin for their phones and computers come from. Ignorance is bliss?',\n",
       " \"RT @JMontgomery94: I'm not sexist, but I've seen 5 pieces of the most dreadful driving this morning in this garage, everytime it's been a w…\",\n",
       " '@mikewhiteatcj @JessicaValenti @mikeduncan it means rich and or with good connections with other (possibly rich) people',\n",
       " \"@realDonaldTrump I though in a free country you could worship whoever you want too? Isnt america the home of the free? You're a cunt\",\n",
       " '@flvwerchild @autumnrainwish Ya recently here a guy got acquitted of rape charges becos apparently the woman in question said no feebly',\n",
       " 'To the bitch who said the United States is rape FREE. Ask the millions of women who haven’t reported it due to how bad our society is.',\n",
       " 'If you *really* can’t see any difference between @Nigel_Farage and @NicolaSturgeon, then you clearly are blinded by your own ideology or political allegiance... Edinburgh South voters should take note of this https://t.co/Z3liPGPjho',\n",
       " 'Dudes, We love all the RTs/Likes &; enjoy a few comments here/there. But cock pix &; writing novels under our pix/vids gets you blocked! 😠',\n",
       " 'Because if Elliot Rodger had killed just ONE woman who had rejected him for a date, it would not be national news. #YesAllWomen',\n",
       " '@HalpernAlex @MattNowak1 @UnburntWitch Similar to MeToo right? Just like all those other grifters who faked being raped and abused. Just like Andy, I guess they deserved everything they got.',\n",
       " \"@bint_Shu3ayb @Abu_sultan9421 Yeah, that moron Baghdadi doesn't care about the cost to his followers of his little torture shows,\",\n",
       " 'What is Sharia law.  Here are some of its rules. #Islam http://t.co/fI49gUT884',\n",
       " 'lol. i know that editor.',\n",
       " '@jacquard612 @Loveussr Go back to sucking off your little Nazi master, Putin. You are blocked.',\n",
       " '@captain_panties blackmilk.',\n",
       " '@VeganStar2001 @purity95433873 When did the first feminazi learn to read?',\n",
       " 'RT @PaulyPMC: I object to any food item that rhymes with \"turd\" #MKR',\n",
       " 'Talent- Making people feel way more comfortable with me than they should be',\n",
       " \"RT @SimplyLaurax3: PLEASE help find my friend's sister.. Signal boost the shit out of this so we can get her home. http://t.co/8JMu8VljI8\",\n",
       " '@yuskan0723 @essel1 That is simply a lie.',\n",
       " \"I actually can't believe they make contestants pay for the food on this show. #mykitchenrules #mkr\",\n",
       " '@kellyhamilton49 @BachynskiBomber @SethAbramson Says the woman who supports rape',\n",
       " '.@PelorsHope Dunno...ran out of characters...meant which other character in the 1986 Transformers movies did he voice?',\n",
       " '@_DirtyTruths Again, like an idiot you give the opinions of people like you, with no facts.',\n",
       " 'after nearly 2 years this bitch came back to our home only to be hysterical. when will this bitch get hit by a raging bus????',\n",
       " \"Ego's bruise harder than any belt ever could\",\n",
       " \"@UnseenPerfidy Plus the ones you miss will spin this as a plot by the evil Feminazi Cabal. And they'll buy you more fake followers!\",\n",
       " \"Ugh. I need to get married again or something so I don't lose health insurance in a month. That's an awkward pickup line to use.\",\n",
       " '@beardyblue @emily_esque shoot me an email, randi@randi.io :)',\n",
       " '@jacckktaylor You kunt loool',\n",
       " \"RT @markthegraves_x: take that Kat &amp; Andre, scum of the earth LOL #mkr. I just can't with them...\\n#mykitchenrules.\",\n",
       " 'RT @TwoThug4U: if you look at @YesYoureRacist you see tweets of pure hatred. If you look at @YesYoureSexist you see a few light stupidity a…',\n",
       " '@Russell_Barth @Angry_Feminazi @liamfinn19 @PattyArquette ...maybe you should start reading these?',\n",
       " 'RT @radleybalko: Univ. of Colorado disciplined a student for sexual assault even though his accuser admitted she had lied. http://t.co/uhTv…',\n",
       " '@AmarinaW You, too.',\n",
       " '@jkronenwetter18 So secure in his unshakeable faith in patriarchy that he banned me from retweeting his asinine reply',\n",
       " '@harper i have the best shoe game.',\n",
       " '@JulianAssange Dude you’re a truth traitor. You literally deal in stolen information. And not all men are like that - liar.',\n",
       " 'I would not eat any food that pair had stuck their fingers into #MKR',\n",
       " '@fussybabybitch @FunVampire02 he has dyed hair.... the SJW FEMINAZI ILLUMINATI GOT TO HIM!!!!!!',\n",
       " '@gripusa Yeah, I love idiots like you who tell me that I have to tolerate  the intolerant.  You can stick that.',\n",
       " '@BryanRenno blackmilk.',\n",
       " 'Because a man who sexually assaulted my friend in high school with two others is now a cop in my home town. #YesAllWomen',\n",
       " \"I'm voting for Marion Barry for president... That's right, a dead crackhead is a better choice than what's being offered\",\n",
       " '@kencf0618 awesome! :D',\n",
       " '@PrideofGypsies Hey your awesome! We all make mistakes! If taken in context(your charater did that,) I do not believe you condone Rape.',\n",
       " 'RT @thetrudz: + Lauren\\'s name. Defended misuse of \"chief!\" To an Indigenous woman critiquing settler colonialism! Then she insulted Aura, &amp;…',\n",
       " 'Happy birthday to you Naveen Patnaik Orissa CM Om Sai Ram Bhola Re Rock On 2',\n",
       " '@ayeeetippp same AF',\n",
       " 'Count on it https://t.co/ThQNtovafg',\n",
       " \"Via Daniella Peled 'hysterical' Jews and 'frenzied' women https://t.co/uGgFiMioSI\",\n",
       " 'Abuse comes through multiple platforms. We need to get law enforcement more involved with serious threats. http://t.co/jPe2YLnZrp',\n",
       " '@AOC Obama built those cages',\n",
       " 'Maine coon\\n\\n#Maine #coon http://t.co/iiwhpAoV8B',\n",
       " 'ONLY LATELY since I was raped in 2012 women are getting braver in the west to speak out about their rape experiences https://t.co/Ao80wfPCDx',\n",
       " \"Are you kidding me? These girls on #MKR didn't cook their own tomatoes or peppers?!?\",\n",
       " '@gameragodzilla @Totalbiscuit @Grummz @BenKuchera as slurs such as feminazi and the like get shouted around, and everyone goes into',\n",
       " 'Can men please stop shooting people for a goddamn second?',\n",
       " '@NicolaSturgeon @Wimbledon What ?????? You’re obviously not watching Evans and Sousa then 😂😂',\n",
       " \"I don't care what BS cernovich has done, have some goddamn ethics. For real, though.\",\n",
       " \"@pmbairrins It's not hysterical or exaggeration. Abortion is horrendous. There are other ways to help women in crisis\",\n",
       " \"Kats face. I want to slap her seriously I hope they go but it doesn't look good. If they pass they won't last. They can't cook. #mkr\",\n",
       " 'Oh lord #mkr',\n",
       " \"@JeffreyGuterman It's a joke.  They can't even afford to pay their fighters.  And they don't have close to that kind of budget. #Mosul\",\n",
       " '@wonderzombie world of warcraft related things.',\n",
       " '@MCNMG @SethAbramson Says the woman who votes for rape enabling criminal and supports killing babies',\n",
       " '@MelissaHovey1 MELISSA, YOU’RE HYSTERICAL. 😂 I AM GIVING YOU A HAPPY DANCE FOR TODAY🙌🏻 https://t.co/91e6zXZEDH',\n",
       " '@CassandraRules @AndrewWK @Dancingmanfound Omg hysterical you posted this since I was watching how 10 random people became famous on YouTube & look who it is!!!! You & Dancing man!',\n",
       " '@lloydkennedy28 @MaxBlumenthal ROFL. Good one.',\n",
       " 'That was definitely rigged. #MKR',\n",
       " 'Not watching #MKR again until Kat is booted off. What a joke.',\n",
       " '@shubHASHISH OMG EXCELLENT JOKE ARE YOU ON FOX NEWS?',\n",
       " \"@angeleyes_1980 @Pink @NicolaSturgeon Straight up lie. You know it, I know it, everyone knows it.\\n\\nI've travelled all round the UK for work for 20 years. I've never, not once, had an issue with people accepting Scottish bank notes.\\n\\nWhy don't you just say you hate the English? Far more honest.\\n\\n#LiarsForIndy\",\n",
       " '@M_A_Patterson so jealous',\n",
       " \"I wish men would listen to women and call out their fellow men for their sexist behavior instead of instantly going 'not all men'\",\n",
       " \"How do you deconstruct a lemon tart? It's custard in a tart shell. #mkr\",\n",
       " '@comet_ping_pong @ryanjj245 @UnburntWitch A caustic material will still burn regardless if its in milkshake or not.',\n",
       " \"@5h1thouse @Plaguey85150390 @JessicaValenti @SusanChubb1 Yes, I woke up a bit ago and just read this.  It's unbelievable.\",\n",
       " \"@b00berella what does the word 'Parody', clearly stated in the bio, mean to you?\",\n",
       " 'If you whisper \"Social Justice Warrior\" three times into the bathroom mirror, the Feminazi Prime will appear and cut your balls right off.',\n",
       " 'RT @ScottMclelland: So let me get this straight @adriarichards who weaponised tweets to have people fired is now a victim of Twitter ? http…',\n",
       " 'Important note: not all women do this and tale responsibility for their actions, just like not all men are assholes.',\n",
       " \"RT @Shermertron: @MT8_9 @shanarosenberg The Democratic People's Republic of Korea must be a wonderful place, right? Look up the words!!!\",\n",
       " '@farbenstau @xmjEE maybe. But travel/lodging would have to be covered.',\n",
       " 'When her head game is as good as she claimed it to be so you gotta smile and thank god 🙏🏼 https://t.co/WtXYbiJNBH',\n",
       " \"Yes, we get it. You're pretty. Tone down the self promo and just cook! @mykitchenrules #MKR\",\n",
       " 'Awwww. Snowfury loves cuddles. http://t.co/v6jCteRhoo',\n",
       " \"I am going to smack down anyone I see bitching about how cernovich bought his followers. You're spreading unsubstantiated rumors. Not cool.\",\n",
       " '\"someone is going home, absolutely\"\\nwell, yes. #MKR',\n",
       " 'RT @NoToFeminism: I don’t need femisnsn because men carry heavy things that i cannot!!! like shopping, boxes, and a huge sense of superiori…',\n",
       " \"Drasko only likes his mum's hot pot, especially when she's drunk and unconscious #MKR\",\n",
       " \".@abnormalcybias @manishlimbu532 ...women who are actually charged/convicted of it.  It's almost NEVER prosecuted. Cops just close the case.\",\n",
       " 'And just when I thought it was over, they pull me back in!  #MKR #MKR2015',\n",
       " '@deniseob171 I quite liked the look of the air ram?? And dyson.. but you are right they are a bit steep... although others could be false economy....',\n",
       " \"Love everyone... But please don't let Sheri and Emilie go to SD #MKR\",\n",
       " \"During the 'men are trash' narrative you always say not all men but when someone from another tribe makes a mistake you generalise. Smh\",\n",
       " 'BAHAHAHA!  OMG.. Kat has no idea.... NONE!!!  #MKR',\n",
       " \"@UnburntWitch How's Kickstarter been going? Anything else you can't deliver on like facts?\",\n",
       " \"@CathyMcRorie @NicolaSturgeon @MhairiHunter @MhairiBlack To be fair, it's not all men. I know many who are appalled by how female voices are being silenced, our rights trampled on, eroded without a care, to pander to a very minor ( in numbers) group of people. Also many gay men are quite vocal in their opposition to this. 1/\",\n",
       " '@mattjbaldo I just did.',\n",
       " \"Aww I was looking forward to Ash and Camilla butting heads with the promo girls. The drama would've been great #mkr\",\n",
       " '#BlameOneNotAll in a nutshell.\\n\\nhttp://t.co/un0m0L2Cy3 http://t.co/EGQA6Oab0H',\n",
       " '@Terroriser Brian you should’ve got RGB ram!!!',\n",
       " 'WAM put out a report on their findings when escalating abuse to Twitter. http://t.co/qHrBeDggTr http://t.co/Q4RVbFOAan',\n",
       " \"@PeerWorker @DerAmazingLarry @Quinnae_Moon @feministing you're really fond of lying about everything. I said they aren't ISIS.\",\n",
       " 'i skipped english a few days ago so i didn’t know about an assignment and this stupid bitch is making fun of me subtlety',\n",
       " 'hypnotize synthesize love is a lie like a hole in the sky then you die',\n",
       " '#MKR Are these two for real!',\n",
       " 'RT @peteevansnot: OK - get this off my FB page asap!\\n\\n#paleo #mkr http://t.co/n3Y2cItgLV',\n",
       " \"That's nothing new 🙄 https://t.co/lkXHwgSzK9\",\n",
       " \"#KatandAndre: safe one day, but it's not how long you may go, but how far does your knife throw? #MKR #MKR2015\",\n",
       " '@JessicaValenti @michaeljlewis75 How can this judge be sanctioned?',\n",
       " \"I think it's fair to say that my cock and attitude have let me breeze through quite an amazing life\",\n",
       " 'When daddy leaves cute notes for you https://t.co/SfxgxFHOVy',\n",
       " '@NicolaSturgeon Thought may resigns??no longer pm just mp',\n",
       " '@hanipreet_kaur @ZeeNews What are you saying? You are not daughter of ram rahim. ?????',\n",
       " 'Waking up today like.... https://t.co/Q5op9KcqUg',\n",
       " '@NicolaSturgeon Bandwagon jumping from which source???..😂😂',\n",
       " 'NO! #MKR',\n",
       " 'RT @Yaakov_Shmuel: Timely #MustRead MT @avromil French Muslim Philosopher Says Islam Has Given Birth To Monsters, Needs Reform http://t.co/…',\n",
       " 'RT @arstechnica: Notorious 8chan “subboard” has history wiped after federal judge’s doxing http://t.co/MKGXgjReAz by @samred',\n",
       " 'A fisherman found this sea turtle wrapped up in a gill net in North Carolina’s inside coastal waters Thursday night. Any guesses on how many sea turtles are allowed to be killed annually to keep the large mesh gill net fishery open in NC inshore waters? https://t.co/qbtbeuyatV',\n",
       " 'Kingsley-Pierson  2  (Pitching: #20 Rachel Bohle)\\nBlack Raiders  4  (Batting: #4 Madi Van Dyke)\\nBottom of 4th, 2 Out, Bases loaded\\n#iscore #sportsengine',\n",
       " \"@voretaq7 you don't know that.\",\n",
       " '@BristolBen Not aimed at you.',\n",
       " \"imagine chaeyoung cutting some cooked meat for you then you eat one but u choke on it and u die then she leaves your cold dead body on the ground bc she's bored\",\n",
       " '#itstime, @NicolaSturgeon, surely thee can be no more waiting. https://t.co/YE9wvnKjOM',\n",
       " \"@azizdjamel161 Rape comes in many different forms. In the Muslim world women are blamed if they are raped and are blamed if they're not dressed modestly.\",\n",
       " 'This is superb. Practical guide for rights of women esp at divorce and rape in marriage. @HHbruichladdich @RehmanYasmin @SBSisters https://t.co/DTWy7j77Ri',\n",
       " 'Wow.  Kat &amp; annie make the perfect horrible couple #MKR',\n",
       " 'If you stand with rape survivors against rape, then stand up and practice what you preach. #womentakeovertwitter',\n",
       " 'What do you think of the two teams facing Sudden Death on Monday? #mkr #suddendeath',\n",
       " '#MKR making me angry m8',\n",
       " '@pbump @jaketapper His \"Spartacus\" moment was more like a hysterical woman with a serious case of PMS! He also displayed how uninformed and poorly directed he is. He didn\\'t care about the truth. Like all Libtards, it is all about the drama moment. LOL, he',\n",
       " '@FilmBayona @TheHoyt08 I was hoping more scary in this movie like a woman getting killed will be scary!!!! I mean only Zira is the first and only woman on screen to be killed their was second woman that got likely killed in elevator of JWFk from indoraptor But we couldn’t see it',\n",
       " '#Arab Man Arrested Trying To Enter Same #Nuclear Facility Warned http://t.co/PQtv6yBmue Islamic_Terror_Bomb_Waiting_To_Go_Off.php',\n",
       " '@Bigbuffpuff @JessicaValenti Amen sister',\n",
       " 'Free Brutal Pickups Videos youporn stripper skank com porn pics sdms free brutal pickup girl com free porn lindsey russian mypickupgirls my sisters upskyrt streetpickupstube brutalpickups',\n",
       " 'I see @legobutts!!! #gameloading',\n",
       " \"Good morning, I have news to break to the ' not all men ' folks. I am sorry to disappoint you but men( including your MCM) are trash\",\n",
       " 'Sure Sadiq Kunt, whatever you say. 🖕😒 https://t.co/dUAIWd1IPd',\n",
       " \"Shoutout to all the single moms that got pregnant thinking they'd keep a man &; celebrate days like today... lol how'd that work out for you\",\n",
       " \".@wadhwa is so convinced that we're all just misinformed. The same guy that didn't even read a twitter bio of a female dev criticizing him.\",\n",
       " 'You would understand if you had robot legs. http://t.co/NO19qeRXY6',\n",
       " '@JessicaValenti Does that remind you of a certain Supreme Court judge?',\n",
       " 'Bitches are quick to put their height in their tinder bio.... Do me a favor and add your weight too...',\n",
       " '@mabdinur85 @JessicaValenti It’s sad',\n",
       " 'Dude next door: “So what you wanna do about the tp situation?” Me: “ummm you buy your own and I buy mine....” Me to Me: “this kunt 😑”',\n",
       " '@Shaunnagh just saw your tweet on #mkr!! These bimbos should go!',\n",
       " 'I kinda want to see you again just so I can punch you in the kidney. #WomenSuck',\n",
       " '@JessicaValenti \"Why don\\'t they come forward? If it\\'s rape, the court will punish them!\" https://t.co/ZNC9yFTsej',\n",
       " \"@ZiOrim @_Median_ @RushetteNY @Banko40 I doubt that you have ever been in a street fire fight. It's easy being an armchair hero.\",\n",
       " \"RT @benpobjie: It's either Katie and Nikki or Kat and Andre to go, so as viewers we cannot lose. Or win. #MKR\",\n",
       " \"She said 'true' 😌 https://t.co/XOALF4NZSs\",\n",
       " '@JessicaValenti Looks like “white boys.”  Not all boys (see what happened to the Exonerated Five)',\n",
       " 'Uh, no, hosted wordpress. I do not want you to manage my DNS.',\n",
       " '@MetroidThief about halfway through.',\n",
       " '@Shervyn A big project we have going forward is a user facing solution that involves the cooperation of large tech companies.',\n",
       " '@ACurrentAffair9 #mkr star that declared bankruptcy &amp; hides money is an asshole, i.e. Christopher Skase and his multimillionaire sons guilty',\n",
       " '@Morgan1Leigh @ginny_brett @brithume @JoeVitollo True that Morgan!!!!If Obama and Hillary would just STFU and go away, youll never hear me talk about them again. Id prefer to erase those 8 years from my memory anyway.',\n",
       " 'Me- cusses out person for driving the wrong way in a parking lot Also me- drives wrong way in a parking lot',\n",
       " '@UnburntWitch Our dear pup decided to make friends with the box fan. She also likes hair dryer to warm up if she gets rained on. https://t.co/m3HSQv5tox',\n",
       " '@thisonesakillaa Only times I\\'ll block is if they spam or I think they\\'ll try to \"Janet\" me.',\n",
       " 'the fact that who comments on this cube problem is mostly not a cube stan?? yall be creating tweets so you can get rts and like. shut the fuck up if you dont know anything about cube, jesus',\n",
       " 'I️ used to say #NotAllMen but let’s be real. If you being honest, men be trash in a number of ways. And what’s wild… https://t.co/KGuuy2GgtQ',\n",
       " \"Me- refuses to answer anyone's phone calls Also me- infuriated when people don't answer my phone calls\",\n",
       " '@substerrr Think of all the Palestinian Christians that have been chased away by Muslim bigotry.',\n",
       " \"m all back. Even Crowley. 'Cause after everything you've done, you owe us, you son of a bitch. So you get your ass down here, and you make t\",\n",
       " \"@sarcarsten they don't have my size. too big.\",\n",
       " '@mykitchenrules nailed it!!! #MKR',\n",
       " '@lilbeastunleash who knew that was how to do it! #MKR',\n",
       " 'And the 2 best mates from QLD...ugh #MKR',\n",
       " 'How good would sudden death be with Annie &amp; Lloyd vs Kat &amp; Andre. #mkr',\n",
       " 'Hey ladies and men, rape, and sexual assault, etc of any sort is not acceptable in society. For those of you who commit these acts, pls die.',\n",
       " '@Brandy_t_alex @TgirlPromo1 Mmmmm sweet pussy hole :) xx',\n",
       " '@TheSunNewspaper #pinkbus the feminazi bus arrives in Wales Tomaz @TeamSophy2015 @F4JOfficial @DaveyoneF @fathers4equalty #votedad',\n",
       " '@NNdabbour64 They kill him.',\n",
       " '#mkr hey Pete, maybe what those kids need is some liver milk! http://t.co/On9xzxiMOr',\n",
       " \"@RobertGBeckel Bobbys a little butt hurt today. Go have a drink and STFU you are the a**hole. I've lost all respect for you. I used to think you spoke real\",\n",
       " '#atlas picking His toy for the night! #game on! #coon #cat #5monthsold #mainecoone #mainecoon_id #cute… http://t.co/9xkRhRAHTs',\n",
       " '@ithappens_edu @holliepoetry @elsdraeger @gemcairn @EverydaySexism I think the issue is it needs to be aimed at the little people. Sex is a funny word is 8+, we need a picture book for the 5yo’s that explains their bodies. Most primary schools avoid naming the vulva.',\n",
       " 'Every time I try to read this book I get to the part where school &amp; YA are a murderous feminazi conspiracy, and stop http://t.co/W03kbqJQqZ',\n",
       " \"Colin's back #MKR\",\n",
       " \"RT if you've ever been fucked over by a girl. Actually it's not a matter of 'if', but 'when' #WomenSuck\",\n",
       " '@MikePrysner They mean nothing idiot.  Stephan Bandera was never a Nazi, even though he fought with them to rid Ukraine of soviets.',\n",
       " '@Ifehadeoti @Ent_Redefined ROFL. Islam outlaws music.',\n",
       " '@officialKidluke truth',\n",
       " \"Kat and Andre just don't deserve to be there. Even compared to Katie (can't cook) and Nikki (hates all food) #MKR #MKR2015\",\n",
       " \"RT @ColinCowell: Don't go bacon my heart .......#mkr2015 #mkr I couldn't if I fried http://t.co/heJYmIoJaS\",\n",
       " '@_Bradley76 You know I’m a full animal nut. I know horseys love racing. Most involved treat the horses like family. This kunt tho',\n",
       " 'RT @kerriscupcakes: At this rate the MKR final will be in December #MKR',\n",
       " \"They'll be back in The Never Say Die Never Say Never Again round. #mkr\",\n",
       " '@AlfredDaw gosh, i love tank girl. &lt;3',\n",
       " \"RT @DufresneFrank: “@gabystama: @DufresneFrank @MT8_9 it's a great website, use it” omg you are right! It is great! http://t.co/FMOhTrpJkN\",\n",
       " '@Friday13 @DarkSim7 @InvisibleJimBSH @iam8bit your mom was uncalled for.',\n",
       " '@UnoriginalJohn @girlziplocked @ameliagreenhall bahahaha',\n",
       " 'MEC Panyaza Lesufi will visit a Mamelodi school to receive a report on the alleged rape of a 17-year-old girl pupil. https://t.co/eegsJulxTv',\n",
       " '@Vernaculis It is both. The likes reward this behavior so you train yourself into being regularly hysterical.',\n",
       " \"@halalflaws I don't see your 33:33. Only something about a house and can't breath. What does that have to do with 33:33.\",\n",
       " \"Food's not for you, lol @KING_CONNAR Coming downstairs and four girls are cooking dinner, not sexist but not complaining\",\n",
       " '@The_Loki_Jotunn @melisssugh Awesome.  Will go into my \"daily use\" folder.',\n",
       " \"What's the difference between a blonde and a washing machine? A washing machine won't follow you around all day after you drop a load in it\",\n",
       " '“@LIncsgq: The girls could get a job at Hienz making baby food #MKR2015 #MKR” No! Think of the children! The children!',\n",
       " 'Kat and Andre...drown yourself #MKR #mkr2015',\n",
       " \"This is to decieve people who don't know that women that report rape in Islamic countries are arrested on charges of fornication or adultery\",\n",
       " '@cloutlessrat i just took a dna test, turns out i’m 100% am for tomorrow\\n\\nwtf is that even supposed to mean (yes i typed it out while playing bitch lasagna in my head)',\n",
       " '@0xabad1dea BM is getting closer with their newer LT sizes.',\n",
       " '@MoiraDonegan @JessicaValenti Yes. Pay for my therapy.',\n",
       " '@beerandfeminism @Wyowanderer777 Which is?',\n",
       " '@Professor_D i did LE at prime. I only ever did prime. :P',\n",
       " \"@tommckearney that's how it works with a private account.\",\n",
       " \"When you're on a first date and they start talkin about their ex https://t.co/lE2TGAtrb1\",\n",
       " \"@UnburntWitch s'not a big deal, only a 5.0\",\n",
       " '@Alison_McGovern @WirralCouncil @ThisGirlCanUK @EverydaySexism Unlikely they’d have done the same poster aimed at men. With women it’s ALL about looks!',\n",
       " 'Kat and Andre make me want to punch happy things 😡 #mkr',\n",
       " \"Colin can't taste the food if he hasn't got his eyes closed #mkr\",\n",
       " 'Anyone think Kat &amp; Andre are being completely lazy with their meal. Guess what happens when you cheat your way in! #mkr',\n",
       " '@TimCField supposedly battery life &amp; auto-dimming display?',\n",
       " '@JessicaValenti This just made me physically ill.',\n",
       " '“@mykitchenrules: Do you prefer a sweet or savoury breakfast? #mkr #hungrycampers” Pancakes all the way!!!',\n",
       " '@UnburntWitch I swore you were wearing a powerglove in that last picture',\n",
       " \"Robert DeNiro used his 'Tribeca Grill' as after hours whorehouse to Pimp young women to Harvey Weinstein. #MeToo https://t.co/X5LMjds4Bv\",\n",
       " \"When you're checking to see if the pussy is safe to eat https://t.co/tpK43K1cIq\",\n",
       " \"@AnonHeel So you think I have a right to murder anyone who offends me?  Are you living in an asylum? Because if you aren't you should be.\",\n",
       " 'Pancakes are looking delicious #mkr 😋',\n",
       " 'I hope to god Kat cant sleep at night #MKR',\n",
       " '@Icegirl69 @PeachyKeenBean7 @JessicaValenti *sad',\n",
       " '@BlackOpal80 ...as soon as you follow enough known anti-feminists their block list activates and blocks you.  Possible she is unaware of me.',\n",
       " \"@OfRedAndBlue oh. See, that's really tough. Anger is often justified. But it's a question of who we are actually angry at.\",\n",
       " 'Can someone deconstruct Drasko please? Perhaps another serve of Croatian sausage might gag him..  #MKR',\n",
       " '@JohnBro13002328 @dontwantexcuses @2351onthelist @Janela_X @MalcolmChishol1 @NicolaSturgeon @theSNP How can a government with no fiscal autonomy and no borrowing power run up a deficit?',\n",
       " '#mkr where are the Americans and the Brits?',\n",
       " '@WhiteHouse @realDonaldTrump The evil corrupt republicans are hypocrites. How many reporters have to be killed? How many babies with heartbeats too have die in concentration camps? How many children have to be murdered in schools? #CloseTheConcentrationCamps #ImpeachTheMFTraitor #Bluewave20',\n",
       " \"@UnburntWitch That dog is so wee if you told me that was an actual lime I'd believe you. 😍\",\n",
       " 'Look, the spatchcock has come back.....as vomit\\n\\n#MKR',\n",
       " '#mkr another reality tv twist. please stop. look how this secret round turned out.',\n",
       " \"Normally when Kat &amp; Andre go to campgrounds, it's so they can enjoy some dogging #MKR\",\n",
       " 'Yo, security folks. Any thoughts on self-encrypting drives, specifically WD Passport Ultra?',\n",
       " '“Here’s the deal, cooking is cooking!” Ouch! You tell ‘em, Colin! #mkr #hungrycampers #noexcuses',\n",
       " \"@amberhasalamb  Separate conversations.  She told a guy concerned about circumcision that he can't get laid.  Exactly what she whined about.\",\n",
       " '@JessicaValenti Still less annoying then that pantsless commuting day.',\n",
       " '@Popehat not my field of study ;) it seems gross, but I can see why it becomes a free speech issue.',\n",
       " '@BLUNTmoms How?',\n",
       " \"It's not the walk of shame if you're shameless\",\n",
       " 'https://t.co/Q4CRFHSgGi https://t.co/ywh5j97YuJ Harvey Weinstein: More women accuse Hollywood producer of rape https://t.co/ZCoSAY8Z9R https://t.co/5Q38IViAYW',\n",
       " \"@aquarianfool same. it's a hard thing for me to talk about because i come from a position of privilege.\",\n",
       " 'RT @pperrin: Oh... so Rotherham was Tony Blair/Labours sacrifice of innocent English virgins to pacify the satanic horror of Islam (having …',\n",
       " '@nancyleong The guy who has spent five years hiding from a rape inquiry thinks that a powerful woman is creepy, man… https://t.co/OvlQAJS1ek',\n",
       " 'See https://t.co/VHThRdRIYr thread for more info on how this is quantified.',\n",
       " 'Nelly Rape Accuser Will Reportedly Drop Her Case - The woman who accused Nelly of rape will reportedly not... https://t.co/6M4poRQqh5',\n",
       " \"@TheRightMelissa @AOC A Christian who sends back refugees so that they can be killed. Wow...might be the dumbest thing I've read on Twitter today.\",\n",
       " '7% of all hearing loss is a result of sitting in a restaurant next to a table full of women who just received dessert. #KillerBlondes #MKR',\n",
       " 'Have 2 team members, sticking with this for now. Thanks, everyone. ^.^',\n",
       " '@jasonthespaniel @RJennromao @AndreyPanevin Yes, Putin changed his thugs to make it look more home grown.',\n",
       " \"@SxFlint93 Oh I do plenty but picking rotten low hanging sexist fruit doesn't take up much of my day :)\",\n",
       " \"There doesn't seem to be enough of anything. #dessert #mkr\",\n",
       " 'RT @royalmarine1980: model immigrants like Hindus.  Italians ,here for 60yrs. Pay tax , obey the law, integrate and love England. Muslims b…',\n",
       " 'The woman who accused Nelly of rape is refusing to testify, and wants the whole matter dropped… https://t.co/SdBC4Ubazi',\n",
       " 'Almost crying. But not quite. I HAVE SOMETHING IN MY EYE, OKAY?',\n",
       " '#adasrhliberals follow feminazi liberalism, where males are asked to leave the country, so that they can feel safe in their head as well.',\n",
       " '#MKR oops. I cannot think of anything nice to say about these girls, so I will say nothing. That silence will tell it all.',\n",
       " 'With 14 teams on our screen, it means ONE GOOD THING. LESS KAT!!! And more people I like. #MKR #MKR2015',\n",
       " 'Damn you Kat &amp; Andre! Hope karma comes around and bites you in the arse!!! #mkr',\n",
       " \"Vegetables, meat and fish aren't breakfast foods 😷 #MKR\",\n",
       " '@DontKillMyVibe9 We understand. They need to understand that men are born to be in control. Thanks for supporting our cause!',\n",
       " \"If you're fearful to go down rabbit hole, then those who spread oppression, have you right where they want you- 100% controlled. - #Cagsil\",\n",
       " \"Just because a woman decides to drop charges concerning a rape allegation doesn't mean it didn't happen. The legal… https://t.co/iiCbGA3kVY\",\n",
       " \"RT @Travieee23: @Trizzzy13 I didn't know you could throw interceptions and make tackles in the kitchen.\",\n",
       " '@All4Av BASICALLY ME',\n",
       " \"It's very weird to me how I can be so in love with myself and just as disgusted with myself at the same time\",\n",
       " '@Spangnation Her continued production of carbon dioxide.',\n",
       " '@EmmetMcDB @AllisonMorris1 @irish_news You are so virtuous. Impressive what a good guy.',\n",
       " \"For more egregious cases for harassment, we definitely need to be able to respond to those appropriately. But most toxicity isn't this.\",\n",
       " 'There was a time in my life when i really enjoyed talking to girls, now i hope they all get cancer #WomenSuck',\n",
       " 'Watching a movie I didn\\'t think was that old.\\n\\nThey are wearing pagers. Not in the \"I\\'m on call for a datacenter\" kind of way. Legit pagers.',\n",
       " '#BlameOneNotAll because Benedict Cumberbatch, David Tennant, Jared Padalecki, and Jensen Ackles must all be rapists too, right tumblr girls?',\n",
       " \"Thousands descend on Dolores Park for San Francisco's annual Dyke\\xa0March https://t.co/dhYyZLDX8U https://t.co/93CfSyESXc\",\n",
       " '@Vent_Oh your caveat that \"it\\'s not cool when men do it either\" is a false equivalence. Those statements have unequal weights.',\n",
       " 'NOOOOOOOOOOOOOOO!  #MKR',\n",
       " '@Bahai144 Did you get that brain out of a box of cracker jacks?',\n",
       " 'FYGM culture is a complete lack of empathy. I fought my way here, sure. Do I think anyone else should have to do that? Hell, no.',\n",
       " \"@GlasgowMake @xxprivilege @jamesarchie98 @littelray2 @taylormcgregor6 @NicolaSturgeon When i said proof, i meant like, y'know, sources? Reliable sources?\\nBecause at the moment I've seen more stories about ciswomen attacking butch lesbians in bathrooms then i have about transwomen attacking ciswomen.\",\n",
       " \"Junk on the plate and in Katie's trunk #MKR\",\n",
       " ...]"
      ]
     },
     "execution_count": 45,
     "metadata": {},
     "output_type": "execute_result"
    }
   ],
   "source": [
    "df_test[df_test['prediction']<=.5].sort_values('prediction', ascending=False)['text'].tolist()"
   ]
  },
  {
   "cell_type": "markdown",
   "metadata": {},
   "source": [
    "### Visualization of probability distribution"
   ]
  },
  {
   "cell_type": "code",
   "execution_count": 46,
   "metadata": {
    "pycharm": {
     "is_executing": false
    }
   },
   "outputs": [
    {
     "data": {
      "image/png": "[encoded data removed]",
      "text/plain": [
       "<Figure size 432x288 with 1 Axes>"
      ]
     },
     "metadata": {
      "needs_background": "light"
     },
     "output_type": "display_data"
    }
   ],
   "source": [
    "df_test['prediction'][df_test['label']==1].plot.hist(bins=99, alpha=.5, label=\"Misogyny\")\n",
    "df_test['prediction'][df_test['label']!=1].plot.hist(bins=99, alpha=.5, label=\"No Misogyny\");\n",
    "plt.legend();"
   ]
  },
  {
   "cell_type": "markdown",
   "metadata": {},
   "source": [
    "## Parameter Optimization\n",
    "\n",
    "One can fine-tune the model's hyperparameters in order to\n",
    "find the best possible model."
   ]
  },
  {
   "cell_type": "code",
   "execution_count": 47,
   "metadata": {
    "pycharm": {
     "is_executing": false
    }
   },
   "outputs": [],
   "source": [
    "estimator = RandomForestClassifier(n_jobs=-1, random_state=42)"
   ]
  },
  {
   "cell_type": "code",
   "execution_count": 48,
   "metadata": {
    "pycharm": {
     "is_executing": false
    }
   },
   "outputs": [],
   "source": [
    "# BEWARE: Searching for more than just a couple parameters will increase the calculation time exponentially!\n",
    "param_grid = {\n",
    "    \"n_estimators\": [50, 100, 200, 400],\n",
    "#     \"max_depth\": [3, None],\n",
    "#     \"max_features\": [1, 10, 100],\n",
    "#     \"min_samples_split\": [10, 100, 1000],\n",
    "#     \"bootstrap\": [True, False],\n",
    "#     \"criterion\": [\"gini\", \"entropy\"],\n",
    "}"
   ]
  },
  {
   "cell_type": "code",
   "execution_count": 49,
   "metadata": {
    "pycharm": {
     "is_executing": false
    }
   },
   "outputs": [],
   "source": [
    "grid_search = GridSearchCV(estimator, param_grid=param_grid, cv=5, iid=False, verbose=2, n_jobs=-1)"
   ]
  },
  {
   "cell_type": "code",
   "execution_count": 50,
   "metadata": {
    "pycharm": {
     "is_executing": false
    }
   },
   "outputs": [
    {
     "name": "stdout",
     "output_type": "stream",
     "text": [
      "Fitting 5 folds for each of 4 candidates, totalling 20 fits\n"
     ]
    },
    {
     "name": "stderr",
     "output_type": "stream",
     "text": [
      "[Parallel(n_jobs=-1)]: Using backend LokyBackend with 4 concurrent workers.\n",
      "[Parallel(n_jobs=-1)]: Done  20 out of  20 | elapsed:  1.8min finished\n"
     ]
    },
    {
     "name": "stdout",
     "output_type": "stream",
     "text": [
      "CPU times: user 58.9 s, sys: 191 ms, total: 59.1 s\n",
      "Wall time: 2min 3s\n"
     ]
    },
    {
     "data": {
      "text/plain": [
       "GridSearchCV(cv=5, error_score='raise-deprecating',\n",
       "             estimator=RandomForestClassifier(bootstrap=True, class_weight=None,\n",
       "                                              criterion='gini', max_depth=None,\n",
       "                                              max_features='auto',\n",
       "                                              max_leaf_nodes=None,\n",
       "                                              min_impurity_decrease=0.0,\n",
       "                                              min_impurity_split=None,\n",
       "                                              min_samples_leaf=1,\n",
       "                                              min_samples_split=2,\n",
       "                                              min_weight_fraction_leaf=0.0,\n",
       "                                              n_estimators='warn', n_jobs=-1,\n",
       "                                              oob_score=False, random_state=42,\n",
       "                                              verbose=0, warm_start=False),\n",
       "             iid=False, n_jobs=-1,\n",
       "             param_grid={'n_estimators': [50, 100, 200, 400]},\n",
       "             pre_dispatch='2*n_jobs', refit=True, return_train_score=False,\n",
       "             scoring=None, verbose=2)"
      ]
     },
     "execution_count": 50,
     "metadata": {},
     "output_type": "execute_result"
    }
   ],
   "source": [
    "%%time\n",
    "grid_search.fit(x_train, y_train)"
   ]
  },
  {
   "cell_type": "code",
   "execution_count": 51,
   "metadata": {
    "pycharm": {
     "is_executing": false
    }
   },
   "outputs": [
    {
     "data": {
      "text/plain": [
       "{'mean_fit_time': array([ 5.67046971, 11.31306467, 22.49747057, 39.08788176]),\n",
       " 'std_fit_time': array([0.04765543, 0.06527516, 0.2238701 , 9.12274125]),\n",
       " 'mean_score_time': array([0.12798519, 0.15835075, 0.26448793, 0.3130415 ]),\n",
       " 'std_score_time': array([0.02977232, 0.00655677, 0.00869601, 0.10517771]),\n",
       " 'param_n_estimators': masked_array(data=[50, 100, 200, 400],\n",
       "              mask=[False, False, False, False],\n",
       "        fill_value='?',\n",
       "             dtype=object),\n",
       " 'params': [{'n_estimators': 50},\n",
       "  {'n_estimators': 100},\n",
       "  {'n_estimators': 200},\n",
       "  {'n_estimators': 400}],\n",
       " 'split0_test_score': array([0.72064057, 0.72553381, 0.73176157, 0.73042705]),\n",
       " 'split1_test_score': array([0.74644128, 0.75044484, 0.7566726 , 0.76156584]),\n",
       " 'split2_test_score': array([0.72864769, 0.73709964, 0.74688612, 0.75088968]),\n",
       " 'split3_test_score': array([0.73063224, 0.73597507, 0.74220837, 0.75601069]),\n",
       " 'split4_test_score': array([0.71460374, 0.71861086, 0.72573464, 0.72261799]),\n",
       " 'mean_test_score': array([0.7281931 , 0.73353284, 0.74065266, 0.74430225]),\n",
       " 'std_test_score': array([0.01077834, 0.01087522, 0.01095001, 0.01510789]),\n",
       " 'rank_test_score': array([4, 3, 2, 1], dtype=int32)}"
      ]
     },
     "execution_count": 51,
     "metadata": {},
     "output_type": "execute_result"
    }
   ],
   "source": [
    "grid_search.cv_results_"
   ]
  },
  {
   "cell_type": "code",
   "execution_count": 52,
   "metadata": {
    "pycharm": {
     "is_executing": false
    }
   },
   "outputs": [
    {
     "data": {
      "text/plain": [
       "RandomForestClassifier(bootstrap=True, class_weight=None, criterion='gini',\n",
       "                       max_depth=None, max_features='auto', max_leaf_nodes=None,\n",
       "                       min_impurity_decrease=0.0, min_impurity_split=None,\n",
       "                       min_samples_leaf=1, min_samples_split=2,\n",
       "                       min_weight_fraction_leaf=0.0, n_estimators=400,\n",
       "                       n_jobs=-1, oob_score=False, random_state=42, verbose=0,\n",
       "                       warm_start=False)"
      ]
     },
     "execution_count": 52,
     "metadata": {},
     "output_type": "execute_result"
    }
   ],
   "source": [
    "grid_search.best_estimator_"
   ]
  },
  {
   "cell_type": "code",
   "execution_count": 53,
   "metadata": {
    "pycharm": {
     "is_executing": false
    }
   },
   "outputs": [
    {
     "data": {
      "text/plain": [
       "0.714028128380815"
      ]
     },
     "execution_count": 53,
     "metadata": {},
     "output_type": "execute_result"
    }
   ],
   "source": [
    "f1_score(y_test, grid_search.predict(x_test))"
   ]
  },
  {
   "cell_type": "code",
   "execution_count": 54,
   "metadata": {
    "pycharm": {
     "is_executing": false
    }
   },
   "outputs": [],
   "source": [
    "y_proba = grid_search.predict_proba(x_test)"
   ]
  },
  {
   "cell_type": "code",
   "execution_count": 55,
   "metadata": {
    "pycharm": {
     "is_executing": false
    }
   },
   "outputs": [
    {
     "data": {
      "image/png": "[encoded data removed]",
      "text/plain": [
       "<Figure size 432x432 with 1 Axes>"
      ]
     },
     "metadata": {
      "needs_background": "light"
     },
     "output_type": "display_data"
    }
   ],
   "source": [
    "plot_roc_auc_f1(y_test, y_proba, title=\"Random forest - Grid search best result\");"
   ]
  },
  {
   "cell_type": "markdown",
   "metadata": {},
   "source": [
    "## Predict user input - A quick test\n",
    "\n",
    "Remember: 0 is not misogynistic, 1 is misogynistic."
   ]
  },
  {
   "cell_type": "code",
   "execution_count": 56,
   "metadata": {
    "pycharm": {
     "is_executing": false
    }
   },
   "outputs": [],
   "source": [
    "best_rf = grid_search.best_estimator_"
   ]
  },
  {
   "cell_type": "code",
   "execution_count": 57,
   "metadata": {
    "pycharm": {
     "is_executing": false
    },
    "scrolled": true
   },
   "outputs": [],
   "source": [
    "misog_vector = nlp(\"Women are inferior to men.\").vector"
   ]
  },
  {
   "cell_type": "code",
   "execution_count": 58,
   "metadata": {
    "pycharm": {
     "is_executing": false
    }
   },
   "outputs": [
    {
     "data": {
      "text/plain": [
       "array([[0.5, 0.5]])"
      ]
     },
     "execution_count": 58,
     "metadata": {},
     "output_type": "execute_result"
    }
   ],
   "source": [
    "best_rf.predict_proba(misog_vector.reshape(1, -1))"
   ]
  },
  {
   "cell_type": "code",
   "execution_count": 60,
   "metadata": {
    "pycharm": {
     "is_executing": false
    }
   },
   "outputs": [
    {
     "name": "stdout",
     "output_type": "stream",
     "text": [
      "CPU times: user 51.4 ms, sys: 4.08 ms, total: 55.5 ms\n",
      "Wall time: 118 ms\n"
     ]
    },
    {
     "data": {
      "text/plain": [
       "array([[0.635, 0.365]])"
      ]
     },
     "execution_count": 60,
     "metadata": {},
     "output_type": "execute_result"
    }
   ],
   "source": [
    "%%time\n",
    "best_rf.predict_proba(nlp(\"Have a nice day\").vector.reshape(1, -1))"
   ]
  },
  {
   "cell_type": "markdown",
   "metadata": {},
   "source": [
    "Seems to be working! :-)"
   ]
  },
  {
   "cell_type": "code",
   "execution_count": null,
   "metadata": {
    "pycharm": {
     "is_executing": false
    }
   },
   "outputs": [],
   "source": []
  }
 ],
 "metadata": {
  "kernelspec": {
   "display_name": "Python 3",
   "language": "python",
   "name": "python3"
  },
  "language_info": {
   "codemirror_mode": {
    "name": "ipython",
    "version": 3
   },
   "file_extension": ".py",
   "mimetype": "text/x-python",
   "name": "python",
   "nbconvert_exporter": "python",
   "pygments_lexer": "ipython3",
   "version": "3.7.6"
  },
  "pycharm": {
   "stem_cell": {
    "cell_type": "raw",
    "metadata": {
     "collapsed": false
    },
    "source": []
   }
  }
 },
 "nbformat": 4,
 "nbformat_minor": 2
}
